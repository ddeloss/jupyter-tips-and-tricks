{
 "cells": [
  {
   "cell_type": "markdown",
   "metadata": {},
   "source": [
    "# Jupyter Notebook Tips and Tricks\n",
    "\n",
    "By: [Jonathan Whitmore](http://jonathanwhitmore.com/) -- Senior Data Scientist\n",
    "\n",
    " - Email: [jbwhit@gmail.com](mailto:jbwhit@gmail.com)\n",
    " - Twitter: [@jbwhitmore](https://twitter.com/jbwhitmore)\n",
    " - **LinkedIn**: [Add me w/ 1 line message about Insight](https://www.linkedin.com/in/jonathanbwhitmore)\n",
    "\n",
    "All notebooks available: https://github.com/jbwhit/jupyter-tips-and-tricks"
   ]
  },
  {
   "cell_type": "markdown",
   "metadata": {},
   "source": [
    "## Recommendations\n",
    "\n",
    " - Don't try to take notes, just let this wash over you.\n",
    " - Not knowing what's possible is a cognitive blindspot.\n",
    " - Take time to learn your tools -- the investment will pay dividends.\n",
    " - Make repeated actions as automatic as possible"
   ]
  },
  {
   "cell_type": "markdown",
   "metadata": {},
   "source": [
    "# Resources\n",
    "\n",
    "Throughout (worth taking a look) and here: \n",
    "\n",
    "  - Python (anything norvig)\n",
    "   - Good if you are a beginner or think yourself a master: https://www.udacity.com/course/design-of-computer-programs--cs212\n",
    "    \n",
    "\n",
    " - Version Control: `nbdime`: https://nbdime.readthedocs.io/en/latest/\n",
    "\n",
    " - Pandas\n",
    "  - [Jake Vanderplas Python Data Science Handbook](https://github.com/jakevdp/PythonDataScienceHandbook)\n",
    "  - http://pandas.pydata.org/pandas-docs/stable/gotchas.html\n",
    "  - https://github.com/dwhitena/blog-content/blob/master/python_pitfalls/Python-Pitfalls.ipynb\n",
    "  - http://pandas.pydata.org/pandas-docs/stable/cookbook.html\n",
    "  - http://gregreda.com/2013/10/26/intro-to-pandas-data-structures/\n",
    "  - http://tomaugspurger.github.io/modern-1.html\n",
    "\n",
    "\n",
    "High level tip\n",
    "\n",
    " - try to represent data in the proper format\n",
    "   - floats as floats; ints as ints; etc. \n",
    "   - Especially if you have dates, or timestamps, or datetimestamps, keep them in that format. \n",
    "      \n",
    "This pdf [Tidy Data](http://vita.had.co.nz/papers/tidy-data.pdf) by Hadley Wickham is an excellent read with a lot that relates to data analysis in any language."
   ]
  },
  {
   "cell_type": "code",
   "execution_count": null,
   "metadata": {
    "collapsed": true
   },
   "outputs": [],
   "source": []
  }
 ],
 "metadata": {
  "anaconda-cloud": {},
  "kernelspec": {
   "display_name": "Insight Py3",
   "language": "python",
   "name": "insightpy3"
  },
  "language_info": {
   "codemirror_mode": {
    "name": "ipython",
    "version": 3
   },
   "file_extension": ".py",
   "mimetype": "text/x-python",
   "name": "python",
   "nbconvert_exporter": "python",
   "pygments_lexer": "ipython3",
   "version": "3.6.4"
  },
  "toc": {
   "nav_menu": {
    "height": "86px",
    "width": "252px"
   },
   "number_sections": true,
   "sideBar": true,
   "skip_h1_title": false,
   "toc_cell": false,
   "toc_position": {},
   "toc_section_display": "none",
   "toc_window_display": false
  }
 },
 "nbformat": 4,
 "nbformat_minor": 2
}
