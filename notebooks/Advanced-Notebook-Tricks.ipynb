{
 "cells": [
  {
   "cell_type": "markdown",
   "metadata": {},
   "source": [
    "# Advanced Notebook"
   ]
  },
  {
   "cell_type": "code",
   "execution_count": null,
   "metadata": {
    "ExecuteTime": {
     "end_time": "2018-02-25T20:00:23.665779Z",
     "start_time": "2018-02-25T20:00:22.540907Z"
    }
   },
   "outputs": [],
   "source": [
    "import matplotlib as mpl\n",
    "\n",
    "%matplotlib inline\n",
    "import matplotlib.pyplot as plt\n",
    "\n",
    "import seaborn as sns\n",
    "sns.set_context('poster')\n",
    "sns.set_style('whitegrid') \n",
    "plt.rcParams['figure.figsize'] = 12, 8  # plotsize \n",
    "\n",
    "import numpy as np\n",
    "import pandas as pd\n",
    "from pandas.tools.plotting import scatter_matrix\n",
    "from sklearn.datasets import load_boston\n",
    "\n",
    "import warnings\n",
    "warnings.filterwarnings('ignore')"
   ]
  },
  {
   "cell_type": "code",
   "execution_count": null,
   "metadata": {
    "ExecuteTime": {
     "end_time": "2018-02-25T20:00:24.683127Z",
     "start_time": "2018-02-25T20:00:24.670999Z"
    }
   },
   "outputs": [],
   "source": [
    "df_dict = load_boston()\n",
    "features = pd.DataFrame(data=df_dict.data, columns = df_dict.feature_names)\n",
    "target = pd.DataFrame(data=df_dict.target, columns = ['MEDV'])\n",
    "df = pd.concat([features, target], axis=1)"
   ]
  },
  {
   "cell_type": "code",
   "execution_count": null,
   "metadata": {
    "ExecuteTime": {
     "end_time": "2018-02-25T20:00:25.686468Z",
     "start_time": "2018-02-25T20:00:25.662548Z"
    }
   },
   "outputs": [],
   "source": [
    "df['Zone'] = df['ZN'].astype('category')\n",
    "df.head()"
   ]
  },
  {
   "cell_type": "markdown",
   "metadata": {},
   "source": [
    "## QGrid\n",
    "\n",
    "Interactive pandas dataframes: https://github.com/quantopian/qgrid"
   ]
  },
  {
   "cell_type": "code",
   "execution_count": null,
   "metadata": {
    "ExecuteTime": {
     "end_time": "2018-02-25T20:00:27.793311Z",
     "start_time": "2018-02-25T20:00:27.787227Z"
    }
   },
   "outputs": [],
   "source": [
    "import qgrid"
   ]
  },
  {
   "cell_type": "code",
   "execution_count": null,
   "metadata": {
    "ExecuteTime": {
     "end_time": "2018-02-25T20:00:29.027424Z",
     "start_time": "2018-02-25T20:00:28.947554Z"
    }
   },
   "outputs": [],
   "source": [
    "qgrid_widget = qgrid.show_grid(df[['CRIM',\n",
    "                                   'Zone',\n",
    "                                   'INDUS',\n",
    "#                                    'CHAS',\n",
    "                                   'NOX',\n",
    "#                                    'RM',\n",
    "                                   'AGE',\n",
    "#                                    'DIS',\n",
    "                                   'RAD',\n",
    "                                   'TAX',\n",
    "#                                    'PTRATIO',\n",
    "#                                    'B',\n",
    "                                   'LSTAT',\n",
    "                                   'MEDV',\n",
    "                                  ]], show_toolbar=True)"
   ]
  },
  {
   "cell_type": "code",
   "execution_count": null,
   "metadata": {
    "ExecuteTime": {
     "end_time": "2018-02-25T20:00:30.056864Z",
     "start_time": "2018-02-25T20:00:30.051794Z"
    },
    "scrolled": false
   },
   "outputs": [],
   "source": [
    "qgrid_widget"
   ]
  },
  {
   "cell_type": "code",
   "execution_count": null,
   "metadata": {},
   "outputs": [],
   "source": [
    "df2 = qgrid_widget.get_changed_df()"
   ]
  },
  {
   "cell_type": "code",
   "execution_count": null,
   "metadata": {},
   "outputs": [],
   "source": [
    "df2.head()"
   ]
  },
  {
   "cell_type": "markdown",
   "metadata": {},
   "source": [
    "# BQPlot\n",
    "\n",
    "Examples here are shamelessly stolen from the amazing: https://github.com/maartenbreddels/jupytercon-2017/blob/master/jupytercon2017-widgets.ipynb"
   ]
  },
  {
   "cell_type": "code",
   "execution_count": null,
   "metadata": {
    "ExecuteTime": {
     "end_time": "2018-02-25T20:00:45.885881Z",
     "start_time": "2018-02-25T20:00:45.861210Z"
    }
   },
   "outputs": [],
   "source": [
    "# mixed feelings about this import\n",
    "import bqplot.pyplot as plt\n",
    "import numpy as np"
   ]
  },
  {
   "cell_type": "code",
   "execution_count": null,
   "metadata": {
    "ExecuteTime": {
     "end_time": "2018-02-25T20:00:46.610789Z",
     "start_time": "2018-02-25T20:00:46.607615Z"
    }
   },
   "outputs": [],
   "source": [
    "x = np.linspace(0, 2, 50)\n",
    "y = x**2"
   ]
  },
  {
   "cell_type": "code",
   "execution_count": null,
   "metadata": {
    "ExecuteTime": {
     "end_time": "2018-02-25T20:00:47.405878Z",
     "start_time": "2018-02-25T20:00:47.359765Z"
    }
   },
   "outputs": [],
   "source": [
    "fig = plt.figure()\n",
    "scatter = plt.scatter(x, y)\n",
    "plt.show()"
   ]
  },
  {
   "cell_type": "code",
   "execution_count": null,
   "metadata": {
    "ExecuteTime": {
     "end_time": "2018-02-25T20:00:51.426741Z",
     "start_time": "2018-02-25T20:00:51.422170Z"
    }
   },
   "outputs": [],
   "source": [
    "fig.animation_duration = 500\n",
    "scatter.y = 2 * x**.5"
   ]
  },
  {
   "cell_type": "code",
   "execution_count": null,
   "metadata": {
    "ExecuteTime": {
     "end_time": "2018-02-25T20:00:55.506810Z",
     "start_time": "2018-02-25T20:00:55.500107Z"
    }
   },
   "outputs": [],
   "source": [
    "scatter.selected_style = {'stroke':'red', 'fill': 'orange'}\n",
    "plt.brush_selector();"
   ]
  },
  {
   "cell_type": "code",
   "execution_count": null,
   "metadata": {},
   "outputs": [],
   "source": [
    "scatter.selected"
   ]
  },
  {
   "cell_type": "code",
   "execution_count": null,
   "metadata": {
    "ExecuteTime": {
     "end_time": "2018-02-25T20:01:29.031272Z",
     "start_time": "2018-02-25T20:01:29.028511Z"
    }
   },
   "outputs": [],
   "source": [
    "scatter.selected = [1,2,10,40]"
   ]
  },
  {
   "cell_type": "markdown",
   "metadata": {},
   "source": [
    "## ipyvolume"
   ]
  },
  {
   "cell_type": "code",
   "execution_count": null,
   "metadata": {
    "ExecuteTime": {
     "end_time": "2018-02-25T20:01:34.983189Z",
     "start_time": "2018-02-25T20:01:34.762009Z"
    }
   },
   "outputs": [],
   "source": [
    "import ipyvolume as ipv"
   ]
  },
  {
   "cell_type": "code",
   "execution_count": null,
   "metadata": {
    "ExecuteTime": {
     "end_time": "2018-02-25T20:01:35.122739Z",
     "start_time": "2018-02-25T20:01:35.119267Z"
    }
   },
   "outputs": [],
   "source": [
    "N = 1000\n",
    "x, y, z = np.random.random((3, N))"
   ]
  },
  {
   "cell_type": "code",
   "execution_count": null,
   "metadata": {
    "ExecuteTime": {
     "end_time": "2018-02-25T20:01:35.701532Z",
     "start_time": "2018-02-25T20:01:35.649689Z"
    }
   },
   "outputs": [],
   "source": [
    "fig = ipv.figure()\n",
    "scatter = ipv.scatter(x, y, z, marker='box')\n",
    "ipv.show()"
   ]
  },
  {
   "cell_type": "code",
   "execution_count": null,
   "metadata": {
    "ExecuteTime": {
     "end_time": "2018-02-25T20:01:38.722712Z",
     "start_time": "2018-02-25T20:01:38.719271Z"
    }
   },
   "outputs": [],
   "source": [
    "scatter.x = scatter.x + 0.5"
   ]
  },
  {
   "cell_type": "code",
   "execution_count": null,
   "metadata": {
    "ExecuteTime": {
     "end_time": "2018-02-25T20:01:39.460880Z",
     "start_time": "2018-02-25T20:01:39.457281Z"
    }
   },
   "outputs": [],
   "source": [
    "scatter.x = x"
   ]
  },
  {
   "cell_type": "code",
   "execution_count": null,
   "metadata": {
    "ExecuteTime": {
     "end_time": "2018-02-25T20:01:40.500698Z",
     "start_time": "2018-02-25T20:01:40.495588Z"
    }
   },
   "outputs": [],
   "source": [
    "scatter.color = \"green\"\n",
    "scatter.size = 5"
   ]
  },
  {
   "cell_type": "code",
   "execution_count": null,
   "metadata": {
    "ExecuteTime": {
     "end_time": "2018-02-25T20:01:41.416716Z",
     "start_time": "2018-02-25T20:01:41.412519Z"
    }
   },
   "outputs": [],
   "source": [
    "scatter.color = np.random.random((N,3))"
   ]
  },
  {
   "cell_type": "code",
   "execution_count": null,
   "metadata": {
    "ExecuteTime": {
     "end_time": "2018-02-25T20:01:42.383554Z",
     "start_time": "2018-02-25T20:01:42.380330Z"
    }
   },
   "outputs": [],
   "source": [
    "scatter.size = 2"
   ]
  },
  {
   "cell_type": "code",
   "execution_count": null,
   "metadata": {
    "ExecuteTime": {
     "end_time": "2018-02-25T20:01:43.609220Z",
     "start_time": "2018-02-25T20:01:42.743056Z"
    }
   },
   "outputs": [],
   "source": [
    "ex = ipv.datasets.animated_stream.fetch().data"
   ]
  },
  {
   "cell_type": "code",
   "execution_count": null,
   "metadata": {
    "ExecuteTime": {
     "end_time": "2018-02-25T20:01:44.639252Z",
     "start_time": "2018-02-25T20:01:44.635126Z"
    }
   },
   "outputs": [],
   "source": [
    "ex.shape"
   ]
  },
  {
   "cell_type": "code",
   "execution_count": null,
   "metadata": {
    "ExecuteTime": {
     "end_time": "2018-02-25T20:01:45.284206Z",
     "start_time": "2018-02-25T20:01:45.280260Z"
    }
   },
   "outputs": [],
   "source": [
    "ex[:, ::, ::4].shape"
   ]
  },
  {
   "cell_type": "code",
   "execution_count": null,
   "metadata": {
    "ExecuteTime": {
     "end_time": "2018-02-25T20:01:47.109022Z",
     "start_time": "2018-02-25T20:01:46.177989Z"
    }
   },
   "outputs": [],
   "source": [
    "ipv.figure()\n",
    "ipv.style.use('dark')\n",
    "quiver = ipv.quiver(*ipv.datasets.animated_stream.fetch().data[:,::,::4], size=5)\n",
    "ipv.animation_control(quiver, interval=200)\n",
    "ipv.show()\n",
    "ipv.style.use('light')"
   ]
  },
  {
   "cell_type": "code",
   "execution_count": null,
   "metadata": {},
   "outputs": [],
   "source": [
    "ipv.style.use('light')"
   ]
  },
  {
   "cell_type": "code",
   "execution_count": null,
   "metadata": {},
   "outputs": [],
   "source": [
    "quiver.geo = \"cat\""
   ]
  },
  {
   "cell_type": "code",
   "execution_count": null,
   "metadata": {
    "ExecuteTime": {
     "end_time": "2018-02-25T20:01:53.226559Z",
     "start_time": "2018-02-25T20:01:53.167729Z"
    }
   },
   "outputs": [],
   "source": [
    "N = 1000*1000\n",
    "x, y, z = np.random.random((3, N)).astype('f4')"
   ]
  },
  {
   "cell_type": "code",
   "execution_count": null,
   "metadata": {
    "ExecuteTime": {
     "end_time": "2018-02-25T20:01:53.822429Z",
     "start_time": "2018-02-25T20:01:53.786392Z"
    }
   },
   "outputs": [],
   "source": [
    "ipv.figure()\n",
    "s = ipv.scatter(x, y, z, size=0.2)\n",
    "ipv.show()"
   ]
  },
  {
   "cell_type": "code",
   "execution_count": null,
   "metadata": {
    "ExecuteTime": {
     "end_time": "2018-02-25T20:01:57.455861Z",
     "start_time": "2018-02-25T20:01:57.272446Z"
    }
   },
   "outputs": [],
   "source": [
    "ipv.save(\"3d-example-plot.html\")"
   ]
  },
  {
   "cell_type": "code",
   "execution_count": null,
   "metadata": {},
   "outputs": [],
   "source": [
    "!open 3d-example-plot.html"
   ]
  },
  {
   "cell_type": "code",
   "execution_count": null,
   "metadata": {},
   "outputs": [],
   "source": []
  }
 ],
 "metadata": {
  "anaconda-cloud": {},
  "hide_input": false,
  "kernelspec": {
   "display_name": "dspy3",
   "language": "python",
   "name": "dspy3"
  },
  "language_info": {
   "codemirror_mode": {
    "name": "ipython",
    "version": 3
   },
   "file_extension": ".py",
   "mimetype": "text/x-python",
   "name": "python",
   "nbconvert_exporter": "python",
   "pygments_lexer": "ipython3",
   "version": "3.6.4"
  },
  "toc": {
   "nav_menu": {
    "height": "48px",
    "width": "252px"
   },
   "number_sections": true,
   "sideBar": true,
   "skip_h1_title": false,
   "title_cell": "Table of Contents",
   "title_sidebar": "Contents",
   "toc_cell": false,
   "toc_position": {},
   "toc_section_display": "block",
   "toc_window_display": false
  },
  "varInspector": {
   "cols": {
    "lenName": 16,
    "lenType": 16,
    "lenVar": 40
   },
   "kernels_config": {
    "python": {
     "delete_cmd_postfix": "",
     "delete_cmd_prefix": "del ",
     "library": "var_list.py",
     "varRefreshCmd": "print(var_dic_list())"
    },
    "r": {
     "delete_cmd_postfix": ") ",
     "delete_cmd_prefix": "rm(",
     "library": "var_list.r",
     "varRefreshCmd": "cat(var_dic_list()) "
    }
   },
   "types_to_exclude": [
    "module",
    "function",
    "builtin_function_or_method",
    "instance",
    "_Feature"
   ],
   "window_display": false
  }
 },
 "nbformat": 4,
 "nbformat_minor": 2
}
