{
 "cells": [
  {
   "cell_type": "code",
   "execution_count": 1,
   "metadata": {
    "ExecuteTime": {
     "end_time": "2019-01-17T23:48:09.970970Z",
     "start_time": "2019-01-17T23:48:09.618898Z"
    }
   },
   "outputs": [],
   "source": [
    "%matplotlib inline\n",
    "\n",
    "from matplotlib.collections import LineCollection\n",
    "import matplotlib.pyplot as plt\n",
    "from scipy import interpolate\n",
    "import numpy as np\n",
    "from numpy.random import rand\n",
    "\n",
    "from ipywidgets import FloatSlider, interactive, IntSlider"
   ]
  },
  {
   "cell_type": "code",
   "execution_count": 2,
   "metadata": {
    "ExecuteTime": {
     "end_time": "2019-01-17T23:48:09.994021Z",
     "start_time": "2019-01-17T23:48:09.987898Z"
    }
   },
   "outputs": [],
   "source": [
    "def simple_example(amplitude=2.0, phase=0.0):\n",
    "    plt.rcParams['figure.figsize'] = 8,6\n",
    "    plt.figure()\n",
    "    x = np.linspace(-2*np.pi, 2*np.pi, 1000)\n",
    "    y = amplitude * np.sin(x + phase)\n",
    "    plt.plot(x, y)\n",
    "    plt.xlim(-3, 3)\n",
    "    plt.ylim(-2*np.pi, 2*np.pi)\n",
    "    plt.show()\n",
    "    return"
   ]
  },
  {
   "cell_type": "code",
   "execution_count": 3,
   "metadata": {
    "ExecuteTime": {
     "end_time": "2019-01-17T23:48:10.401123Z",
     "start_time": "2019-01-17T23:48:10.091482Z"
    }
   },
   "outputs": [
    {
     "data": {
      "image/png": "[encoded data removed]",
      "text/plain": [
       "<Figure size 576x432 with 1 Axes>"
      ]
     },
     "metadata": {
      "needs_background": "light"
     },
     "output_type": "display_data"
    }
   ],
   "source": [
    "amplitude_slider = FloatSlider(value=2.0, min=0, max=6.0, step=.1)\n",
    "phase_slider = FloatSlider(value=0.0, min=-np.pi, max=np.pi, step=.10)\n",
    "\n",
    "interactive(simple_example,\n",
    "            amplitude=amplitude_slider,\n",
    "            phase=phase_slider\n",
    "           )"
   ]
  },
  {
   "cell_type": "code",
   "execution_count": 4,
   "metadata": {
    "ExecuteTime": {
     "end_time": "2019-01-17T23:48:18.753705Z",
     "start_time": "2019-01-17T23:48:18.574776Z"
    }
   },
   "outputs": [
    {
     "data": {
      "image/png": "[encoded data removed]",
      "text/plain": [
       "<Figure size 576x576 with 1 Axes>"
      ]
     },
     "metadata": {
      "needs_background": "light"
     },
     "output_type": "display_data"
    }
   ],
   "source": [
    "def spline_demo(num=14, smooth=0, seed=10, brush_strokes=30, alpha=0.5):\n",
    "    a = np.random.RandomState(seed=seed)\n",
    "    x = a.rand(num)\n",
    "    y = a.rand(num)\n",
    "    t = np.arange(0, 1.1, .1)\n",
    "    plt.rcParams['figure.figsize'] = 8, 8\n",
    "    plt.figure()\n",
    "    for brush_stroke in range(brush_strokes):\n",
    "        tck, u = interpolate.splprep(\n",
    "            [x + a.rand(num) / 10.0, y + a.rand(num) / 10.0], s=smooth)\n",
    "        unew = np.arange(0, 1.01, 0.001)\n",
    "        out = interpolate.splev(unew, tck)\n",
    "        plt.plot(out[0], out[1], alpha=alpha, c='black', linewidth=3.0)\n",
    "    plt.xlim(-1.5, 2.)\n",
    "    plt.ylim(-1.5, 2.)\n",
    "    plt.axis('off')\n",
    "    plt.show()\n",
    "\n",
    "\n",
    "smooth_slider = FloatSlider(value=0, min=0, max=20.0, step=.1)\n",
    "num_points_slider = IntSlider(value=8, min=4, max=20)\n",
    "seed_slider = IntSlider(value=4, min=4, max=20)\n",
    "brush_slider = IntSlider(value=1, min=1, max=20)\n",
    "alpha_slider = FloatSlider(value=.5, min=0, max=1.0, step=.05)\n",
    "\n",
    "w = interactive(\n",
    "    spline_demo,\n",
    "    smooth=smooth_slider,\n",
    "    num=num_points_slider,\n",
    "    seed=seed_slider,\n",
    "    brush_strokes=brush_slider,\n",
    "    alpha=alpha_slider)\n",
    "w"
   ]
  },
  {
   "cell_type": "code",
   "execution_count": null,
   "metadata": {},
   "outputs": [],
   "source": []
  }
 ],
 "metadata": {
  "anaconda-cloud": {},
  "hide_input": false,
  "kernelspec": {
   "display_name": "dspy3",
   "language": "python",
   "name": "dspy3"
  },
  "language_info": {
   "codemirror_mode": {
    "name": "ipython",
    "version": 3
   },
   "file_extension": ".py",
   "mimetype": "text/x-python",
   "name": "python",
   "nbconvert_exporter": "python",
   "pygments_lexer": "ipython3",
   "version": "3.6.7"
  },
  "toc": {
   "base_numbering": 1,
   "nav_menu": {
    "height": "12px",
    "width": "252px"
   },
   "number_sections": true,
   "sideBar": true,
   "skip_h1_title": false,
   "title_cell": "Table of Contents",
   "title_sidebar": "Contents",
   "toc_cell": false,
   "toc_position": {},
   "toc_section_display": "block",
   "toc_window_display": false
  },
  "varInspector": {
   "cols": {
    "lenName": 16,
    "lenType": 16,
    "lenVar": 40
   },
   "kernels_config": {
    "python": {
     "delete_cmd_postfix": "",
     "delete_cmd_prefix": "del ",
     "library": "var_list.py",
     "varRefreshCmd": "print(var_dic_list())"
    },
    "r": {
     "delete_cmd_postfix": ") ",
     "delete_cmd_prefix": "rm(",
     "library": "var_list.r",
     "varRefreshCmd": "cat(var_dic_list()) "
    }
   },
   "types_to_exclude": [
    "module",
    "function",
    "builtin_function_or_method",
    "instance",
    "_Feature"
   ],
   "window_display": false
  },
  "widgets": {
   "state": {
    "2d5c1a38b6fa4f8cb0fc51837d1a1096": {
     "views": [
      {
       "cell_index": 2
      }
     ]
    },
    "2f0955e5054942bf9031854eaea14d2a": {
     "views": [
      {
       "cell_index": 3
      }
     ]
    },
    "5205ad7666ac454c8dededcc76c0eae7": {
     "views": [
      {
       "cell_index": 7
      }
     ]
    },
    "859981a099934515887f41069f22d992": {
     "views": [
      {
       "cell_index": 8
      }
     ]
    },
    "9a8f2c644d434e69b76ac69358781a9f": {
     "views": [
      {
       "cell_index": 7
      }
     ]
    },
    "bf8ee1c1ae2f4b69bd83960aac95c562": {
     "views": [
      {
       "cell_index": 8
      }
     ]
    },
    "e0baa1ed1cec4014b008642cb9e7ac18": {
     "views": [
      {
       "cell_index": 8
      }
     ]
    },
    "f2754076a4014a358fa7065d2a3da65d": {
     "views": [
      {
       "cell_index": 7
      }
     ]
    }
   },
   "version": "1.2.0"
  }
 },
 "nbformat": 4,
 "nbformat_minor": 2
}
