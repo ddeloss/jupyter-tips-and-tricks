{
 "cells": [
  {
   "cell_type": "markdown",
   "metadata": {},
   "source": [
    "# Markdown Cell\n",
    "\n",
    "## Sub heading\n",
    "\n",
    "This is just a paragraph."
   ]
  },
  {
   "cell_type": "code",
   "execution_count": 3,
   "metadata": {
    "ExecuteTime": {
     "end_time": "2019-01-18T02:06:37.759826Z",
     "start_time": "2019-01-18T02:06:37.757796Z"
    },
    "run_control": {
     "marked": false
    }
   },
   "outputs": [],
   "source": [
    "# code cell\n",
    "name = \"Jonathan\""
   ]
  },
  {
   "cell_type": "code",
   "execution_count": null,
   "metadata": {},
   "outputs": [],
   "source": []
  },
  {
   "cell_type": "markdown",
   "metadata": {},
   "source": [
    "# Tips and Tricks\n",
    "\n",
    "A markdown cell lets you do many _useful things_."
   ]
  },
  {
   "cell_type": "code",
   "execution_count": 4,
   "metadata": {
    "ExecuteTime": {
     "end_time": "2019-01-18T02:08:05.158612Z",
     "start_time": "2019-01-18T02:08:05.155998Z"
    }
   },
   "outputs": [],
   "source": [
    "# Add this to python2 code to make life easier -- safe to use in python3 as well.\n",
    "from __future__ import absolute_import, division, print_function\n"
   ]
  },
  {
   "cell_type": "code",
   "execution_count": 5,
   "metadata": {
    "ExecuteTime": {
     "end_time": "2019-01-18T02:08:19.902059Z",
     "start_time": "2019-01-18T02:08:19.899722Z"
    }
   },
   "outputs": [],
   "source": [
    "import numpy as np\n",
    "# don't do:\n",
    "# from numpy import *"
   ]
  },
  {
   "cell_type": "code",
   "execution_count": 6,
   "metadata": {
    "ExecuteTime": {
     "end_time": "2019-01-18T02:08:36.970507Z",
     "start_time": "2019-01-18T02:08:36.959939Z"
    }
   },
   "outputs": [
    {
     "data": {
      "text/plain": [
       "'a'"
      ]
     },
     "execution_count": 6,
     "metadata": {},
     "output_type": "execute_result"
    }
   ],
   "source": [
    "max('a')"
   ]
  },
  {
   "cell_type": "code",
   "execution_count": 7,
   "metadata": {
    "ExecuteTime": {
     "end_time": "2019-01-18T02:08:42.389833Z",
     "start_time": "2019-01-18T02:08:42.217151Z"
    }
   },
   "outputs": [
    {
     "ename": "TypeError",
     "evalue": "cannot perform reduce with flexible type",
     "output_type": "error",
     "traceback": [
      "\u001b[0;31m-----------------------------------------------------------------------\u001b[0m",
      "\u001b[0;31mTypeError\u001b[0m                             Traceback (most recent call last)",
      "\u001b[0;32m<ipython-input-7-bc859c5c4752>\u001b[0m in \u001b[0;36m<module>\u001b[0;34m\u001b[0m\n\u001b[0;32m----> 1\u001b[0;31m \u001b[0mnp\u001b[0m\u001b[0;34m.\u001b[0m\u001b[0mmax\u001b[0m\u001b[0;34m(\u001b[0m\u001b[0;34m'a'\u001b[0m\u001b[0;34m)\u001b[0m\u001b[0;34m\u001b[0m\u001b[0;34m\u001b[0m\u001b[0m\n\u001b[0m",
      "\u001b[0;32m~/miniconda3/envs/dspy3/lib/python3.6/site-packages/numpy/core/fromnumeric.py\u001b[0m in \u001b[0;36mamax\u001b[0;34m(a, axis, out, keepdims, initial)\u001b[0m\n\u001b[1;32m   2503\u001b[0m     \"\"\"\n\u001b[1;32m   2504\u001b[0m     return _wrapreduction(a, np.maximum, 'max', axis, None, out, keepdims=keepdims,\n\u001b[0;32m-> 2505\u001b[0;31m                           initial=initial)\n\u001b[0m\u001b[1;32m   2506\u001b[0m \u001b[0;34m\u001b[0m\u001b[0m\n\u001b[1;32m   2507\u001b[0m \u001b[0;34m\u001b[0m\u001b[0m\n",
      "\u001b[0;32m~/miniconda3/envs/dspy3/lib/python3.6/site-packages/numpy/core/fromnumeric.py\u001b[0m in \u001b[0;36m_wrapreduction\u001b[0;34m(obj, ufunc, method, axis, dtype, out, **kwargs)\u001b[0m\n\u001b[1;32m     84\u001b[0m                 \u001b[0;32mreturn\u001b[0m \u001b[0mreduction\u001b[0m\u001b[0;34m(\u001b[0m\u001b[0maxis\u001b[0m\u001b[0;34m=\u001b[0m\u001b[0maxis\u001b[0m\u001b[0;34m,\u001b[0m \u001b[0mout\u001b[0m\u001b[0;34m=\u001b[0m\u001b[0mout\u001b[0m\u001b[0;34m,\u001b[0m \u001b[0;34m**\u001b[0m\u001b[0mpasskwargs\u001b[0m\u001b[0;34m)\u001b[0m\u001b[0;34m\u001b[0m\u001b[0;34m\u001b[0m\u001b[0m\n\u001b[1;32m     85\u001b[0m \u001b[0;34m\u001b[0m\u001b[0m\n\u001b[0;32m---> 86\u001b[0;31m     \u001b[0;32mreturn\u001b[0m \u001b[0mufunc\u001b[0m\u001b[0;34m.\u001b[0m\u001b[0mreduce\u001b[0m\u001b[0;34m(\u001b[0m\u001b[0mobj\u001b[0m\u001b[0;34m,\u001b[0m \u001b[0maxis\u001b[0m\u001b[0;34m,\u001b[0m \u001b[0mdtype\u001b[0m\u001b[0;34m,\u001b[0m \u001b[0mout\u001b[0m\u001b[0;34m,\u001b[0m \u001b[0;34m**\u001b[0m\u001b[0mpasskwargs\u001b[0m\u001b[0;34m)\u001b[0m\u001b[0;34m\u001b[0m\u001b[0;34m\u001b[0m\u001b[0m\n\u001b[0m\u001b[1;32m     87\u001b[0m \u001b[0;34m\u001b[0m\u001b[0m\n\u001b[1;32m     88\u001b[0m \u001b[0;34m\u001b[0m\u001b[0m\n",
      "\u001b[0;31mTypeError\u001b[0m: cannot perform reduce with flexible type"
     ]
    }
   ],
   "source": [
    "np.max('a')"
   ]
  },
  {
   "cell_type": "code",
   "execution_count": 8,
   "metadata": {
    "ExecuteTime": {
     "end_time": "2019-01-18T02:10:12.516984Z",
     "start_time": "2019-01-18T02:10:12.164757Z"
    },
    "run_control": {
     "marked": false
    }
   },
   "outputs": [],
   "source": [
    "%matplotlib inline\n",
    "%config InlineBackend.figure_format='retina'"
   ]
  },
  {
   "cell_type": "markdown",
   "metadata": {},
   "source": [
    "## Imports"
   ]
  },
  {
   "cell_type": "code",
   "execution_count": 9,
   "metadata": {
    "ExecuteTime": {
     "end_time": "2019-01-18T02:10:30.234080Z",
     "start_time": "2019-01-18T02:10:28.578617Z"
    }
   },
   "outputs": [],
   "source": [
    "import pandas as pd\n",
    "import matplotlib.pyplot as plt\n",
    "import seaborn as sns\n",
    "import os\n",
    "from sklearn.datasets import load_boston\n",
    "from pivottablejs import pivot_ui\n",
    "import qgrid\n",
    "import sys\n",
    "import warnings\n",
    "warnings.filterwarnings('ignore')"
   ]
  },
  {
   "cell_type": "markdown",
   "metadata": {},
   "source": [
    "# Keyboard shortcuts\n",
    "\n",
    "Practice doing these a few times and try to force yourself to use them whenever you can. \n",
    "\n",
    "## Help (h)\n",
    "For help in the Notebook, `ESC` + `h`\n",
    "(doesn't work in Lab)"
   ]
  },
  {
   "cell_type": "markdown",
   "metadata": {},
   "source": [
    "## Select multiple cells\n",
    "\n",
    "j, k, and arrow keys while holding shift selects multiple cells."
   ]
  },
  {
   "cell_type": "code",
   "execution_count": null,
   "metadata": {
    "ExecuteTime": {
     "end_time": "2019-01-17T16:33:02.822791Z",
     "start_time": "2019-01-17T16:33:02.820354Z"
    }
   },
   "outputs": [],
   "source": [
    "first = 1"
   ]
  },
  {
   "cell_type": "code",
   "execution_count": null,
   "metadata": {
    "ExecuteTime": {
     "end_time": "2019-01-17T16:33:02.822791Z",
     "start_time": "2019-01-17T16:33:02.820354Z"
    }
   },
   "outputs": [],
   "source": [
    "second = 2"
   ]
  },
  {
   "cell_type": "code",
   "execution_count": null,
   "metadata": {
    "ExecuteTime": {
     "end_time": "2019-01-17T16:33:02.822791Z",
     "start_time": "2019-01-17T16:33:02.820354Z"
    }
   },
   "outputs": [],
   "source": [
    "third = 3"
   ]
  },
  {
   "cell_type": "markdown",
   "metadata": {},
   "source": [
    "## Split a cell with -\n",
    "\n",
    "Well, ctrl + shift + -, but remember it by horizontal."
   ]
  },
  {
   "cell_type": "markdown",
   "metadata": {},
   "source": [
    "## Add a new cell (a)bove"
   ]
  },
  {
   "cell_type": "markdown",
   "metadata": {},
   "source": [
    "## Add a new cell (b)elow"
   ]
  },
  {
   "cell_type": "code",
   "execution_count": null,
   "metadata": {},
   "outputs": [],
   "source": []
  },
  {
   "cell_type": "markdown",
   "metadata": {},
   "source": [
    "## (d)(d)elete "
   ]
  },
  {
   "cell_type": "code",
   "execution_count": null,
   "metadata": {},
   "outputs": [],
   "source": []
  },
  {
   "cell_type": "code",
   "execution_count": null,
   "metadata": {},
   "outputs": [],
   "source": []
  },
  {
   "cell_type": "markdown",
   "metadata": {},
   "source": [
    "## (c)opy cells\n",
    "\n",
    "## (v)aste cells"
   ]
  },
  {
   "cell_type": "markdown",
   "metadata": {},
   "source": [
    "# Pivot Tables w/ pandas\n",
    "\n",
    "A library and example from: http://nicolas.kruchten.com/content/2015/09/jupyter_pivottablejs/"
   ]
  },
  {
   "cell_type": "code",
   "execution_count": 10,
   "metadata": {
    "ExecuteTime": {
     "end_time": "2019-01-18T02:17:52.967873Z",
     "start_time": "2019-01-18T02:17:52.949647Z"
    }
   },
   "outputs": [],
   "source": [
    "df = pd.read_csv(\"../data/mps.csv\", encoding=\"ISO-8859-1\")"
   ]
  },
  {
   "cell_type": "code",
   "execution_count": 11,
   "metadata": {
    "ExecuteTime": {
     "end_time": "2019-01-18T02:17:53.823799Z",
     "start_time": "2019-01-18T02:17:53.810775Z"
    }
   },
   "outputs": [
    {
     "data": {
      "text/html": [
       "<div>\n",
       "<style scoped>\n",
       "    .dataframe tbody tr th:only-of-type {\n",
       "        vertical-align: middle;\n",
       "    }\n",
       "\n",
       "    .dataframe tbody tr th {\n",
       "        vertical-align: top;\n",
       "    }\n",
       "\n",
       "    .dataframe thead th {\n",
       "        text-align: right;\n",
       "    }\n",
       "</style>\n",
       "<table border=\"1\" class=\"dataframe\">\n",
       "  <thead>\n",
       "    <tr style=\"text-align: right;\">\n",
       "      <th></th>\n",
       "      <th>Name</th>\n",
       "      <th>Party</th>\n",
       "      <th>Province</th>\n",
       "      <th>Age</th>\n",
       "      <th>Gender</th>\n",
       "    </tr>\n",
       "  </thead>\n",
       "  <tbody>\n",
       "    <tr>\n",
       "      <th>0</th>\n",
       "      <td>Liu, Laurin</td>\n",
       "      <td>NDP</td>\n",
       "      <td>Quebec</td>\n",
       "      <td>22.0</td>\n",
       "      <td>Female</td>\n",
       "    </tr>\n",
       "    <tr>\n",
       "      <th>1</th>\n",
       "      <td>Mourani, Maria</td>\n",
       "      <td>Bloc Quebecois</td>\n",
       "      <td>Quebec</td>\n",
       "      <td>43.0</td>\n",
       "      <td>Female</td>\n",
       "    </tr>\n",
       "    <tr>\n",
       "      <th>2</th>\n",
       "      <td>Sellah, Djaouida</td>\n",
       "      <td>NDP</td>\n",
       "      <td>Quebec</td>\n",
       "      <td>NaN</td>\n",
       "      <td>Female</td>\n",
       "    </tr>\n",
       "    <tr>\n",
       "      <th>3</th>\n",
       "      <td>St-Denis, Lise</td>\n",
       "      <td>NDP</td>\n",
       "      <td>Quebec</td>\n",
       "      <td>72.0</td>\n",
       "      <td>Female</td>\n",
       "    </tr>\n",
       "    <tr>\n",
       "      <th>4</th>\n",
       "      <td>Fry, Hedy</td>\n",
       "      <td>Liberal</td>\n",
       "      <td>British Columbia</td>\n",
       "      <td>71.0</td>\n",
       "      <td>Female</td>\n",
       "    </tr>\n",
       "    <tr>\n",
       "      <th>5</th>\n",
       "      <td>Turmel, Nycole</td>\n",
       "      <td>NDP</td>\n",
       "      <td>Quebec</td>\n",
       "      <td>70.0</td>\n",
       "      <td>Female</td>\n",
       "    </tr>\n",
       "    <tr>\n",
       "      <th>6</th>\n",
       "      <td>Sgro, Judy</td>\n",
       "      <td>Liberal</td>\n",
       "      <td>Ontario</td>\n",
       "      <td>68.0</td>\n",
       "      <td>Female</td>\n",
       "    </tr>\n",
       "    <tr>\n",
       "      <th>7</th>\n",
       "      <td>Raynault, Francine</td>\n",
       "      <td>NDP</td>\n",
       "      <td>Quebec</td>\n",
       "      <td>67.0</td>\n",
       "      <td>Female</td>\n",
       "    </tr>\n",
       "    <tr>\n",
       "      <th>8</th>\n",
       "      <td>Davidson, Patricia</td>\n",
       "      <td>Conservative</td>\n",
       "      <td>Ontario</td>\n",
       "      <td>66.0</td>\n",
       "      <td>Female</td>\n",
       "    </tr>\n",
       "    <tr>\n",
       "      <th>9</th>\n",
       "      <td>Smith, Joy</td>\n",
       "      <td>Conservative</td>\n",
       "      <td>Manitoba</td>\n",
       "      <td>65.0</td>\n",
       "      <td>Female</td>\n",
       "    </tr>\n",
       "  </tbody>\n",
       "</table>\n",
       "</div>"
      ],
      "text/plain": [
       "                 Name           Party          Province   Age  Gender\n",
       "0         Liu, Laurin             NDP            Quebec  22.0  Female\n",
       "1      Mourani, Maria  Bloc Quebecois            Quebec  43.0  Female\n",
       "2    Sellah, Djaouida             NDP            Quebec   NaN  Female\n",
       "3      St-Denis, Lise             NDP            Quebec  72.0  Female\n",
       "4           Fry, Hedy         Liberal  British Columbia  71.0  Female\n",
       "5      Turmel, Nycole             NDP            Quebec  70.0  Female\n",
       "6          Sgro, Judy         Liberal           Ontario  68.0  Female\n",
       "7  Raynault, Francine             NDP            Quebec  67.0  Female\n",
       "8  Davidson, Patricia    Conservative           Ontario  66.0  Female\n",
       "9          Smith, Joy    Conservative          Manitoba  65.0  Female"
      ]
     },
     "execution_count": 11,
     "metadata": {},
     "output_type": "execute_result"
    }
   ],
   "source": [
    "# recommend using .head()\n",
    "df.head(10)"
   ]
  },
  {
   "cell_type": "markdown",
   "metadata": {},
   "source": [
    "# Enhanced Pandas Dataframe Display"
   ]
  },
  {
   "cell_type": "code",
   "execution_count": 12,
   "metadata": {
    "ExecuteTime": {
     "end_time": "2019-01-18T02:18:17.616617Z",
     "start_time": "2019-01-18T02:18:17.614313Z"
    }
   },
   "outputs": [],
   "source": [
    "# Province, Party, Average, Age, Heatmap"
   ]
  },
  {
   "cell_type": "code",
   "execution_count": null,
   "metadata": {
    "ExecuteTime": {
     "end_time": "2018-09-17T21:58:49.991969Z",
     "start_time": "2018-09-17T21:58:49.987737Z"
    }
   },
   "outputs": [],
   "source": []
  },
  {
   "cell_type": "code",
   "execution_count": 13,
   "metadata": {
    "ExecuteTime": {
     "end_time": "2019-01-18T02:18:19.133912Z",
     "start_time": "2019-01-18T02:18:19.125306Z"
    },
    "scrolled": false
   },
   "outputs": [
    {
     "data": {
      "text/html": [
       "\n",
       "        <iframe\n",
       "            width=\"100%\"\n",
       "            height=\"500\"\n",
       "            src=\"pivottablejs.html\"\n",
       "            frameborder=\"0\"\n",
       "            allowfullscreen\n",
       "        ></iframe>\n",
       "        "
      ],
      "text/plain": [
       "<IPython.lib.display.IFrame at 0x111659438>"
      ]
     },
     "execution_count": 13,
     "metadata": {},
     "output_type": "execute_result"
    }
   ],
   "source": [
    "pivot_ui(df)"
   ]
  },
  {
   "cell_type": "code",
   "execution_count": 14,
   "metadata": {
    "ExecuteTime": {
     "end_time": "2019-01-18T02:23:29.004698Z",
     "start_time": "2019-01-18T02:23:28.991812Z"
    }
   },
   "outputs": [],
   "source": [
    "df_dict = load_boston()\n",
    "features = pd.DataFrame(data=df_dict.data, columns = df_dict.feature_names)\n",
    "target = pd.DataFrame(data=df_dict.target, columns = ['MEDV'])\n",
    "df = pd.concat([features, target], axis=1)"
   ]
  },
  {
   "cell_type": "code",
   "execution_count": 15,
   "metadata": {
    "ExecuteTime": {
     "end_time": "2019-01-18T02:23:51.857021Z",
     "start_time": "2019-01-18T02:23:51.829163Z"
    }
   },
   "outputs": [
    {
     "data": {
      "text/html": [
       "<div>\n",
       "<style scoped>\n",
       "    .dataframe tbody tr th:only-of-type {\n",
       "        vertical-align: middle;\n",
       "    }\n",
       "\n",
       "    .dataframe tbody tr th {\n",
       "        vertical-align: top;\n",
       "    }\n",
       "\n",
       "    .dataframe thead th {\n",
       "        text-align: right;\n",
       "    }\n",
       "</style>\n",
       "<table border=\"1\" class=\"dataframe\">\n",
       "  <thead>\n",
       "    <tr style=\"text-align: right;\">\n",
       "      <th></th>\n",
       "      <th>CRIM</th>\n",
       "      <th>ZN</th>\n",
       "      <th>INDUS</th>\n",
       "      <th>CHAS</th>\n",
       "      <th>NOX</th>\n",
       "      <th>RM</th>\n",
       "      <th>AGE</th>\n",
       "      <th>DIS</th>\n",
       "      <th>RAD</th>\n",
       "      <th>TAX</th>\n",
       "      <th>PTRATIO</th>\n",
       "      <th>B</th>\n",
       "      <th>LSTAT</th>\n",
       "      <th>MEDV</th>\n",
       "      <th>Zone</th>\n",
       "    </tr>\n",
       "  </thead>\n",
       "  <tbody>\n",
       "    <tr>\n",
       "      <th>0</th>\n",
       "      <td>0.00632</td>\n",
       "      <td>18.0</td>\n",
       "      <td>2.31</td>\n",
       "      <td>0.0</td>\n",
       "      <td>0.538</td>\n",
       "      <td>6.575</td>\n",
       "      <td>65.2</td>\n",
       "      <td>4.0900</td>\n",
       "      <td>1.0</td>\n",
       "      <td>296.0</td>\n",
       "      <td>15.3</td>\n",
       "      <td>396.90</td>\n",
       "      <td>4.98</td>\n",
       "      <td>24.0</td>\n",
       "      <td>18.0</td>\n",
       "    </tr>\n",
       "    <tr>\n",
       "      <th>1</th>\n",
       "      <td>0.02731</td>\n",
       "      <td>0.0</td>\n",
       "      <td>7.07</td>\n",
       "      <td>0.0</td>\n",
       "      <td>0.469</td>\n",
       "      <td>6.421</td>\n",
       "      <td>78.9</td>\n",
       "      <td>4.9671</td>\n",
       "      <td>2.0</td>\n",
       "      <td>242.0</td>\n",
       "      <td>17.8</td>\n",
       "      <td>396.90</td>\n",
       "      <td>9.14</td>\n",
       "      <td>21.6</td>\n",
       "      <td>0.0</td>\n",
       "    </tr>\n",
       "    <tr>\n",
       "      <th>2</th>\n",
       "      <td>0.02729</td>\n",
       "      <td>0.0</td>\n",
       "      <td>7.07</td>\n",
       "      <td>0.0</td>\n",
       "      <td>0.469</td>\n",
       "      <td>7.185</td>\n",
       "      <td>61.1</td>\n",
       "      <td>4.9671</td>\n",
       "      <td>2.0</td>\n",
       "      <td>242.0</td>\n",
       "      <td>17.8</td>\n",
       "      <td>392.83</td>\n",
       "      <td>4.03</td>\n",
       "      <td>34.7</td>\n",
       "      <td>0.0</td>\n",
       "    </tr>\n",
       "    <tr>\n",
       "      <th>3</th>\n",
       "      <td>0.03237</td>\n",
       "      <td>0.0</td>\n",
       "      <td>2.18</td>\n",
       "      <td>0.0</td>\n",
       "      <td>0.458</td>\n",
       "      <td>6.998</td>\n",
       "      <td>45.8</td>\n",
       "      <td>6.0622</td>\n",
       "      <td>3.0</td>\n",
       "      <td>222.0</td>\n",
       "      <td>18.7</td>\n",
       "      <td>394.63</td>\n",
       "      <td>2.94</td>\n",
       "      <td>33.4</td>\n",
       "      <td>0.0</td>\n",
       "    </tr>\n",
       "    <tr>\n",
       "      <th>4</th>\n",
       "      <td>0.06905</td>\n",
       "      <td>0.0</td>\n",
       "      <td>2.18</td>\n",
       "      <td>0.0</td>\n",
       "      <td>0.458</td>\n",
       "      <td>7.147</td>\n",
       "      <td>54.2</td>\n",
       "      <td>6.0622</td>\n",
       "      <td>3.0</td>\n",
       "      <td>222.0</td>\n",
       "      <td>18.7</td>\n",
       "      <td>396.90</td>\n",
       "      <td>5.33</td>\n",
       "      <td>36.2</td>\n",
       "      <td>0.0</td>\n",
       "    </tr>\n",
       "  </tbody>\n",
       "</table>\n",
       "</div>"
      ],
      "text/plain": [
       "      CRIM    ZN  INDUS CHAS    NOX     RM   AGE     DIS  RAD    TAX  PTRATIO  \\\n",
       "0  0.00632  18.0   2.31  0.0  0.538  6.575  65.2  4.0900  1.0  296.0     15.3   \n",
       "1  0.02731   0.0   7.07  0.0  0.469  6.421  78.9  4.9671  2.0  242.0     17.8   \n",
       "2  0.02729   0.0   7.07  0.0  0.469  7.185  61.1  4.9671  2.0  242.0     17.8   \n",
       "3  0.03237   0.0   2.18  0.0  0.458  6.998  45.8  6.0622  3.0  222.0     18.7   \n",
       "4  0.06905   0.0   2.18  0.0  0.458  7.147  54.2  6.0622  3.0  222.0     18.7   \n",
       "\n",
       "        B  LSTAT  MEDV  Zone  \n",
       "0  396.90   4.98  24.0  18.0  \n",
       "1  396.90   9.14  21.6   0.0  \n",
       "2  392.83   4.03  34.7   0.0  \n",
       "3  394.63   2.94  33.4   0.0  \n",
       "4  396.90   5.33  36.2   0.0  "
      ]
     },
     "execution_count": 15,
     "metadata": {},
     "output_type": "execute_result"
    }
   ],
   "source": [
    "df['Zone'] = df['ZN'].astype('category')\n",
    "df['CHAS'] = df['CHAS'].astype('category')\n",
    "df.head()"
   ]
  },
  {
   "cell_type": "markdown",
   "metadata": {},
   "source": [
    "## QGrid\n",
    "\n",
    "Interactive pandas dataframes: https://github.com/quantopian/qgrid"
   ]
  },
  {
   "cell_type": "code",
   "execution_count": null,
   "metadata": {
    "ExecuteTime": {
     "end_time": "2018-09-17T23:42:32.525234Z",
     "start_time": "2018-09-17T23:42:32.522372Z"
    }
   },
   "outputs": [],
   "source": []
  },
  {
   "cell_type": "code",
   "execution_count": 16,
   "metadata": {
    "ExecuteTime": {
     "end_time": "2019-01-18T02:24:18.019781Z",
     "start_time": "2019-01-18T02:24:17.540853Z"
    }
   },
   "outputs": [],
   "source": [
    "qgrid_widget = qgrid.show_grid(df[['CRIM',\n",
    "                                   'Zone',\n",
    "                                   'INDUS',\n",
    "                                   'CHAS',\n",
    "                                   'NOX',\n",
    "                                   'AGE',\n",
    "                                   'RAD',\n",
    "                                   'LSTAT',\n",
    "                                   'MEDV',\n",
    "                                  ]], show_toolbar=True)"
   ]
  },
  {
   "cell_type": "code",
   "execution_count": 17,
   "metadata": {
    "ExecuteTime": {
     "end_time": "2019-01-18T02:24:18.484150Z",
     "start_time": "2019-01-18T02:24:18.478866Z"
    },
    "scrolled": false
   },
   "outputs": [
    {
     "data": {
      "application/vnd.jupyter.widget-view+json": {
       "model_id": "b686dca3ac7249e287358deb14867e28",
       "version_major": 2,
       "version_minor": 0
      },
      "text/plain": [
       "QgridWidget(grid_options={'fullWidthRows': True, 'syncColumnCellResize': True, 'forceFitColumns': True, 'defau…"
      ]
     },
     "metadata": {},
     "output_type": "display_data"
    }
   ],
   "source": [
    "qgrid_widget"
   ]
  },
  {
   "cell_type": "code",
   "execution_count": 18,
   "metadata": {
    "ExecuteTime": {
     "end_time": "2019-01-18T02:26:26.621155Z",
     "start_time": "2019-01-18T02:26:26.617364Z"
    }
   },
   "outputs": [],
   "source": [
    "df2 = qgrid_widget.get_changed_df()"
   ]
  },
  {
   "cell_type": "code",
   "execution_count": 19,
   "metadata": {
    "ExecuteTime": {
     "end_time": "2019-01-18T02:26:30.092732Z",
     "start_time": "2019-01-18T02:26:30.078033Z"
    }
   },
   "outputs": [
    {
     "data": {
      "text/html": [
       "<div>\n",
       "<style scoped>\n",
       "    .dataframe tbody tr th:only-of-type {\n",
       "        vertical-align: middle;\n",
       "    }\n",
       "\n",
       "    .dataframe tbody tr th {\n",
       "        vertical-align: top;\n",
       "    }\n",
       "\n",
       "    .dataframe thead th {\n",
       "        text-align: right;\n",
       "    }\n",
       "</style>\n",
       "<table border=\"1\" class=\"dataframe\">\n",
       "  <thead>\n",
       "    <tr style=\"text-align: right;\">\n",
       "      <th></th>\n",
       "      <th>CRIM</th>\n",
       "      <th>Zone</th>\n",
       "      <th>INDUS</th>\n",
       "      <th>CHAS</th>\n",
       "      <th>NOX</th>\n",
       "      <th>AGE</th>\n",
       "      <th>RAD</th>\n",
       "      <th>LSTAT</th>\n",
       "      <th>MEDV</th>\n",
       "    </tr>\n",
       "  </thead>\n",
       "  <tbody>\n",
       "    <tr>\n",
       "      <th>0</th>\n",
       "      <td>0.00632</td>\n",
       "      <td>18.0</td>\n",
       "      <td>2.31</td>\n",
       "      <td>0.0</td>\n",
       "      <td>0.538</td>\n",
       "      <td>56.2</td>\n",
       "      <td>1.0</td>\n",
       "      <td>4.98</td>\n",
       "      <td>24.0</td>\n",
       "    </tr>\n",
       "    <tr>\n",
       "      <th>1</th>\n",
       "      <td>0.02731</td>\n",
       "      <td>0.0</td>\n",
       "      <td>7.07</td>\n",
       "      <td>0.0</td>\n",
       "      <td>0.469</td>\n",
       "      <td>78.9</td>\n",
       "      <td>2.0</td>\n",
       "      <td>9.14</td>\n",
       "      <td>21.6</td>\n",
       "    </tr>\n",
       "    <tr>\n",
       "      <th>2</th>\n",
       "      <td>0.02729</td>\n",
       "      <td>0.0</td>\n",
       "      <td>7.07</td>\n",
       "      <td>0.0</td>\n",
       "      <td>0.469</td>\n",
       "      <td>61.1</td>\n",
       "      <td>2.0</td>\n",
       "      <td>4.03</td>\n",
       "      <td>34.7</td>\n",
       "    </tr>\n",
       "    <tr>\n",
       "      <th>3</th>\n",
       "      <td>0.03237</td>\n",
       "      <td>0.0</td>\n",
       "      <td>2.18</td>\n",
       "      <td>0.0</td>\n",
       "      <td>0.458</td>\n",
       "      <td>45.8</td>\n",
       "      <td>3.0</td>\n",
       "      <td>2.94</td>\n",
       "      <td>33.4</td>\n",
       "    </tr>\n",
       "    <tr>\n",
       "      <th>4</th>\n",
       "      <td>0.06905</td>\n",
       "      <td>0.0</td>\n",
       "      <td>2.18</td>\n",
       "      <td>0.0</td>\n",
       "      <td>0.458</td>\n",
       "      <td>54.2</td>\n",
       "      <td>3.0</td>\n",
       "      <td>5.33</td>\n",
       "      <td>36.2</td>\n",
       "    </tr>\n",
       "    <tr>\n",
       "      <th>5</th>\n",
       "      <td>0.02985</td>\n",
       "      <td>0.0</td>\n",
       "      <td>2.18</td>\n",
       "      <td>0.0</td>\n",
       "      <td>0.458</td>\n",
       "      <td>58.7</td>\n",
       "      <td>3.0</td>\n",
       "      <td>5.21</td>\n",
       "      <td>28.7</td>\n",
       "    </tr>\n",
       "    <tr>\n",
       "      <th>35</th>\n",
       "      <td>0.06417</td>\n",
       "      <td>0.0</td>\n",
       "      <td>5.96</td>\n",
       "      <td>0.0</td>\n",
       "      <td>0.499</td>\n",
       "      <td>68.2</td>\n",
       "      <td>5.0</td>\n",
       "      <td>9.68</td>\n",
       "      <td>18.9</td>\n",
       "    </tr>\n",
       "  </tbody>\n",
       "</table>\n",
       "</div>"
      ],
      "text/plain": [
       "       CRIM  Zone  INDUS CHAS    NOX   AGE  RAD  LSTAT  MEDV\n",
       "0   0.00632  18.0   2.31  0.0  0.538  56.2  1.0   4.98  24.0\n",
       "1   0.02731   0.0   7.07  0.0  0.469  78.9  2.0   9.14  21.6\n",
       "2   0.02729   0.0   7.07  0.0  0.469  61.1  2.0   4.03  34.7\n",
       "3   0.03237   0.0   2.18  0.0  0.458  45.8  3.0   2.94  33.4\n",
       "4   0.06905   0.0   2.18  0.0  0.458  54.2  3.0   5.33  36.2\n",
       "5   0.02985   0.0   2.18  0.0  0.458  58.7  3.0   5.21  28.7\n",
       "35  0.06417   0.0   5.96  0.0  0.499  68.2  5.0   9.68  18.9"
      ]
     },
     "execution_count": 19,
     "metadata": {},
     "output_type": "execute_result"
    }
   ],
   "source": [
    "df2.head(7)"
   ]
  },
  {
   "cell_type": "code",
   "execution_count": 20,
   "metadata": {
    "ExecuteTime": {
     "end_time": "2019-01-18T02:26:45.868860Z",
     "start_time": "2019-01-18T02:26:45.850974Z"
    }
   },
   "outputs": [
    {
     "data": {
      "text/html": [
       "<div>\n",
       "<style scoped>\n",
       "    .dataframe tbody tr th:only-of-type {\n",
       "        vertical-align: middle;\n",
       "    }\n",
       "\n",
       "    .dataframe tbody tr th {\n",
       "        vertical-align: top;\n",
       "    }\n",
       "\n",
       "    .dataframe thead th {\n",
       "        text-align: right;\n",
       "    }\n",
       "</style>\n",
       "<table border=\"1\" class=\"dataframe\">\n",
       "  <thead>\n",
       "    <tr style=\"text-align: right;\">\n",
       "      <th></th>\n",
       "      <th>CRIM</th>\n",
       "      <th>ZN</th>\n",
       "      <th>INDUS</th>\n",
       "      <th>CHAS</th>\n",
       "      <th>NOX</th>\n",
       "      <th>RM</th>\n",
       "      <th>AGE</th>\n",
       "      <th>DIS</th>\n",
       "      <th>RAD</th>\n",
       "      <th>TAX</th>\n",
       "      <th>PTRATIO</th>\n",
       "      <th>B</th>\n",
       "      <th>LSTAT</th>\n",
       "      <th>MEDV</th>\n",
       "      <th>Zone</th>\n",
       "    </tr>\n",
       "  </thead>\n",
       "  <tbody>\n",
       "    <tr>\n",
       "      <th>0</th>\n",
       "      <td>0.00632</td>\n",
       "      <td>18.0</td>\n",
       "      <td>2.31</td>\n",
       "      <td>0.0</td>\n",
       "      <td>0.538</td>\n",
       "      <td>6.575</td>\n",
       "      <td>65.2</td>\n",
       "      <td>4.0900</td>\n",
       "      <td>1.0</td>\n",
       "      <td>296.0</td>\n",
       "      <td>15.3</td>\n",
       "      <td>396.90</td>\n",
       "      <td>4.98</td>\n",
       "      <td>24.0</td>\n",
       "      <td>18.0</td>\n",
       "    </tr>\n",
       "    <tr>\n",
       "      <th>1</th>\n",
       "      <td>0.02731</td>\n",
       "      <td>0.0</td>\n",
       "      <td>7.07</td>\n",
       "      <td>0.0</td>\n",
       "      <td>0.469</td>\n",
       "      <td>6.421</td>\n",
       "      <td>78.9</td>\n",
       "      <td>4.9671</td>\n",
       "      <td>2.0</td>\n",
       "      <td>242.0</td>\n",
       "      <td>17.8</td>\n",
       "      <td>396.90</td>\n",
       "      <td>9.14</td>\n",
       "      <td>21.6</td>\n",
       "      <td>0.0</td>\n",
       "    </tr>\n",
       "    <tr>\n",
       "      <th>2</th>\n",
       "      <td>0.02729</td>\n",
       "      <td>0.0</td>\n",
       "      <td>7.07</td>\n",
       "      <td>0.0</td>\n",
       "      <td>0.469</td>\n",
       "      <td>7.185</td>\n",
       "      <td>61.1</td>\n",
       "      <td>4.9671</td>\n",
       "      <td>2.0</td>\n",
       "      <td>242.0</td>\n",
       "      <td>17.8</td>\n",
       "      <td>392.83</td>\n",
       "      <td>4.03</td>\n",
       "      <td>34.7</td>\n",
       "      <td>0.0</td>\n",
       "    </tr>\n",
       "    <tr>\n",
       "      <th>3</th>\n",
       "      <td>0.03237</td>\n",
       "      <td>0.0</td>\n",
       "      <td>2.18</td>\n",
       "      <td>0.0</td>\n",
       "      <td>0.458</td>\n",
       "      <td>6.998</td>\n",
       "      <td>45.8</td>\n",
       "      <td>6.0622</td>\n",
       "      <td>3.0</td>\n",
       "      <td>222.0</td>\n",
       "      <td>18.7</td>\n",
       "      <td>394.63</td>\n",
       "      <td>2.94</td>\n",
       "      <td>33.4</td>\n",
       "      <td>0.0</td>\n",
       "    </tr>\n",
       "    <tr>\n",
       "      <th>4</th>\n",
       "      <td>0.06905</td>\n",
       "      <td>0.0</td>\n",
       "      <td>2.18</td>\n",
       "      <td>0.0</td>\n",
       "      <td>0.458</td>\n",
       "      <td>7.147</td>\n",
       "      <td>54.2</td>\n",
       "      <td>6.0622</td>\n",
       "      <td>3.0</td>\n",
       "      <td>222.0</td>\n",
       "      <td>18.7</td>\n",
       "      <td>396.90</td>\n",
       "      <td>5.33</td>\n",
       "      <td>36.2</td>\n",
       "      <td>0.0</td>\n",
       "    </tr>\n",
       "    <tr>\n",
       "      <th>5</th>\n",
       "      <td>0.02985</td>\n",
       "      <td>0.0</td>\n",
       "      <td>2.18</td>\n",
       "      <td>0.0</td>\n",
       "      <td>0.458</td>\n",
       "      <td>6.430</td>\n",
       "      <td>58.7</td>\n",
       "      <td>6.0622</td>\n",
       "      <td>3.0</td>\n",
       "      <td>222.0</td>\n",
       "      <td>18.7</td>\n",
       "      <td>394.12</td>\n",
       "      <td>5.21</td>\n",
       "      <td>28.7</td>\n",
       "      <td>0.0</td>\n",
       "    </tr>\n",
       "    <tr>\n",
       "      <th>6</th>\n",
       "      <td>0.08829</td>\n",
       "      <td>12.5</td>\n",
       "      <td>7.87</td>\n",
       "      <td>0.0</td>\n",
       "      <td>0.524</td>\n",
       "      <td>6.012</td>\n",
       "      <td>66.6</td>\n",
       "      <td>5.5605</td>\n",
       "      <td>5.0</td>\n",
       "      <td>311.0</td>\n",
       "      <td>15.2</td>\n",
       "      <td>395.60</td>\n",
       "      <td>12.43</td>\n",
       "      <td>22.9</td>\n",
       "      <td>12.5</td>\n",
       "    </tr>\n",
       "  </tbody>\n",
       "</table>\n",
       "</div>"
      ],
      "text/plain": [
       "      CRIM    ZN  INDUS CHAS    NOX     RM   AGE     DIS  RAD    TAX  PTRATIO  \\\n",
       "0  0.00632  18.0   2.31  0.0  0.538  6.575  65.2  4.0900  1.0  296.0     15.3   \n",
       "1  0.02731   0.0   7.07  0.0  0.469  6.421  78.9  4.9671  2.0  242.0     17.8   \n",
       "2  0.02729   0.0   7.07  0.0  0.469  7.185  61.1  4.9671  2.0  242.0     17.8   \n",
       "3  0.03237   0.0   2.18  0.0  0.458  6.998  45.8  6.0622  3.0  222.0     18.7   \n",
       "4  0.06905   0.0   2.18  0.0  0.458  7.147  54.2  6.0622  3.0  222.0     18.7   \n",
       "5  0.02985   0.0   2.18  0.0  0.458  6.430  58.7  6.0622  3.0  222.0     18.7   \n",
       "6  0.08829  12.5   7.87  0.0  0.524  6.012  66.6  5.5605  5.0  311.0     15.2   \n",
       "\n",
       "        B  LSTAT  MEDV  Zone  \n",
       "0  396.90   4.98  24.0  18.0  \n",
       "1  396.90   9.14  21.6   0.0  \n",
       "2  392.83   4.03  34.7   0.0  \n",
       "3  394.63   2.94  33.4   0.0  \n",
       "4  396.90   5.33  36.2   0.0  \n",
       "5  394.12   5.21  28.7   0.0  \n",
       "6  395.60  12.43  22.9  12.5  "
      ]
     },
     "execution_count": 20,
     "metadata": {},
     "output_type": "execute_result"
    }
   ],
   "source": [
    "df.head(7)"
   ]
  },
  {
   "cell_type": "markdown",
   "metadata": {},
   "source": [
    "# Tab"
   ]
  },
  {
   "cell_type": "code",
   "execution_count": 21,
   "metadata": {
    "ExecuteTime": {
     "end_time": "2019-01-18T02:27:48.498010Z",
     "start_time": "2019-01-18T02:27:48.495264Z"
    }
   },
   "outputs": [],
   "source": [
    "import numpy as np"
   ]
  },
  {
   "cell_type": "code",
   "execution_count": null,
   "metadata": {
    "ExecuteTime": {
     "end_time": "2019-01-17T16:35:39.722700Z",
     "start_time": "2019-01-17T16:35:39.705147Z"
    }
   },
   "outputs": [],
   "source": [
    "np.random.chisquare()"
   ]
  },
  {
   "cell_type": "code",
   "execution_count": null,
   "metadata": {
    "ExecuteTime": {
     "end_time": "2018-06-06T07:41:48.859315Z",
     "start_time": "2018-06-06T07:41:48.845245Z"
    }
   },
   "outputs": [],
   "source": [
    "# pure tab right ↓ less useful\n",
    "np.random.choice()"
   ]
  },
  {
   "cell_type": "markdown",
   "metadata": {},
   "source": [
    "## shift-tab"
   ]
  },
  {
   "cell_type": "code",
   "execution_count": 23,
   "metadata": {
    "ExecuteTime": {
     "end_time": "2019-01-18T02:30:37.856964Z",
     "start_time": "2019-01-18T02:30:37.851804Z"
    }
   },
   "outputs": [
    {
     "data": {
      "text/plain": [
       "array([50., 51., 52., 53., 54., 55., 56., 57., 58., 59., 60., 61., 62.,\n",
       "       63., 64., 65., 66., 67., 68., 69., 70., 71., 72., 73., 74., 75.,\n",
       "       76., 77., 78., 79., 80., 81., 82., 83., 84., 85., 86., 87., 88.,\n",
       "       89., 90., 91., 92., 93., 94., 95., 96., 97., 98., 99.])"
      ]
     },
     "execution_count": 23,
     "metadata": {},
     "output_type": "execute_result"
    }
   ],
   "source": [
    "# shift-tab right ↓ more useful\n",
    "np.linspace(start=50, endpoint=False, stop=100)"
   ]
  },
  {
   "cell_type": "code",
   "execution_count": null,
   "metadata": {},
   "outputs": [],
   "source": []
  },
  {
   "cell_type": "code",
   "execution_count": null,
   "metadata": {},
   "outputs": [],
   "source": []
  },
  {
   "cell_type": "code",
   "execution_count": null,
   "metadata": {},
   "outputs": [],
   "source": []
  },
  {
   "cell_type": "markdown",
   "metadata": {},
   "source": [
    "## shift-tab-tab"
   ]
  },
  {
   "cell_type": "markdown",
   "metadata": {},
   "source": [
    "## shift-tab-tab-tab"
   ]
  },
  {
   "cell_type": "code",
   "execution_count": null,
   "metadata": {},
   "outputs": [],
   "source": [
    "np.linspace(50, 150, num=100, endpoint=False, )"
   ]
  },
  {
   "cell_type": "markdown",
   "metadata": {},
   "source": [
    "## shift-tab-tab-tab-tab"
   ]
  },
  {
   "cell_type": "code",
   "execution_count": null,
   "metadata": {
    "ExecuteTime": {
     "end_time": "2018-06-06T07:41:53.566846Z",
     "start_time": "2018-06-06T07:41:53.556479Z"
    }
   },
   "outputs": [],
   "source": [
    "plt.plot(np.linspace(start, stop,), )"
   ]
  },
  {
   "cell_type": "markdown",
   "metadata": {},
   "source": [
    "## ?"
   ]
  },
  {
   "cell_type": "code",
   "execution_count": 24,
   "metadata": {
    "ExecuteTime": {
     "end_time": "2019-01-18T02:31:32.905785Z",
     "start_time": "2019-01-18T02:31:32.900325Z"
    }
   },
   "outputs": [],
   "source": [
    "np.linspace?"
   ]
  },
  {
   "cell_type": "code",
   "execution_count": 25,
   "metadata": {
    "ExecuteTime": {
     "end_time": "2019-01-18T02:31:40.370676Z",
     "start_time": "2019-01-18T02:31:40.362984Z"
    }
   },
   "outputs": [],
   "source": [
    "?np.linspace"
   ]
  },
  {
   "cell_type": "markdown",
   "metadata": {},
   "source": [
    "## ??\n",
    "\n",
    "(Lab can scroll if you click)"
   ]
  },
  {
   "cell_type": "code",
   "execution_count": 26,
   "metadata": {
    "ExecuteTime": {
     "end_time": "2019-01-18T02:32:42.953717Z",
     "start_time": "2019-01-18T02:32:42.935940Z"
    },
    "scrolled": false
   },
   "outputs": [],
   "source": [
    "np.linspace??"
   ]
  },
  {
   "cell_type": "code",
   "execution_count": 27,
   "metadata": {
    "ExecuteTime": {
     "end_time": "2019-01-18T02:33:37.550607Z",
     "start_time": "2019-01-18T02:33:37.267477Z"
    }
   },
   "outputs": [],
   "source": [
    "!subl ~/miniconda3/envs/dspy3/lib/python3.6/site-packages/numpy/core/function_base.py"
   ]
  },
  {
   "cell_type": "code",
   "execution_count": null,
   "metadata": {},
   "outputs": [],
   "source": []
  },
  {
   "cell_type": "code",
   "execution_count": 35,
   "metadata": {
    "ExecuteTime": {
     "end_time": "2019-01-18T02:37:26.207065Z",
     "start_time": "2019-01-18T02:37:26.203595Z"
    }
   },
   "outputs": [
    {
     "name": "stdout",
     "output_type": "stream",
     "text": [
      "\n",
      "This is a multi-lined string\n",
      "that I want to write inside of a function.\n",
      "Notice what happens when I print this.\n",
      "    And when something is indented more.\n"
     ]
    }
   ],
   "source": [
    "import textwrap\n",
    "def example_function():\n",
    "    \"\"\"Docstring for example function\"\"\"\n",
    "    \n",
    "    print(textwrap.dedent(\"\"\"\n",
    "    This is a multi-lined string\n",
    "    that I want to write inside of a function.\n",
    "    Notice what happens when I print this.\n",
    "        And when something is indented more.\"\"\"))\n",
    "\n",
    "\n",
    "example_function()"
   ]
  },
  {
   "cell_type": "markdown",
   "metadata": {},
   "source": [
    "## Inspect _everything_ and Find and Replace"
   ]
  },
  {
   "cell_type": "code",
   "execution_count": 33,
   "metadata": {
    "ExecuteTime": {
     "end_time": "2019-01-18T02:36:47.850806Z",
     "start_time": "2019-01-18T02:36:47.847573Z"
    }
   },
   "outputs": [],
   "source": [
    "# But first find and replace\n",
    "def silly_function(xval):\n",
    "    \"\"\"Takes a value and returns the value.\"\"\"\n",
    "    xval_sq = xval ** 2.0\n",
    "    1 + 10\n",
    "    xval_abs = np.sqrt(xval_sq)\n",
    "    return xval_abs"
   ]
  },
  {
   "cell_type": "code",
   "execution_count": null,
   "metadata": {},
   "outputs": [],
   "source": [
    "silly_function(2,)"
   ]
  },
  {
   "cell_type": "code",
   "execution_count": 30,
   "metadata": {
    "ExecuteTime": {
     "end_time": "2019-01-18T02:36:13.578273Z",
     "start_time": "2019-01-18T02:36:13.574195Z"
    }
   },
   "outputs": [],
   "source": [
    "silly_function?"
   ]
  },
  {
   "cell_type": "code",
   "execution_count": 34,
   "metadata": {
    "ExecuteTime": {
     "end_time": "2019-01-18T02:36:53.018740Z",
     "start_time": "2019-01-18T02:36:53.011900Z"
    }
   },
   "outputs": [],
   "source": [
    "silly_function??"
   ]
  },
  {
   "cell_type": "code",
   "execution_count": 36,
   "metadata": {
    "ExecuteTime": {
     "end_time": "2019-01-18T02:38:00.807032Z",
     "start_time": "2019-01-18T02:38:00.669858Z"
    }
   },
   "outputs": [
    {
     "name": "stdout",
     "output_type": "stream",
     "text": [
      "coal_prod_2008.csv           coalpublic2012.xls\r\n",
      "coal_prod_2009.csv           collincountyforeclosures.csv\r\n",
      "coal_prod_2010.csv           example.csv\r\n",
      "coal_prod_2011.csv           mps.csv\r\n",
      "coal_prod_2012.csv           nbextensions.png\r\n",
      "coal_prod_cleaned.csv        raw_players.csv.gz\r\n",
      "coal_prod_cleaned.csv.zip\r\n"
     ]
    }
   ],
   "source": [
    "!ls ../data/"
   ]
  },
  {
   "cell_type": "code",
   "execution_count": 37,
   "metadata": {
    "ExecuteTime": {
     "end_time": "2019-01-18T02:38:11.512638Z",
     "start_time": "2019-01-18T02:38:11.493820Z"
    }
   },
   "outputs": [],
   "source": [
    "coal_years = !ls ../data/coal_prod_20*.csv"
   ]
  },
  {
   "cell_type": "code",
   "execution_count": 38,
   "metadata": {
    "ExecuteTime": {
     "end_time": "2019-01-18T02:38:12.232622Z",
     "start_time": "2019-01-18T02:38:12.228330Z"
    }
   },
   "outputs": [
    {
     "data": {
      "text/plain": [
       "['../data/coal_prod_2008.csv',\n",
       " '../data/coal_prod_2009.csv',\n",
       " '../data/coal_prod_2010.csv',\n",
       " '../data/coal_prod_2011.csv',\n",
       " '../data/coal_prod_2012.csv']"
      ]
     },
     "execution_count": 38,
     "metadata": {},
     "output_type": "execute_result"
    }
   ],
   "source": [
    "coal_years"
   ]
  },
  {
   "cell_type": "markdown",
   "metadata": {},
   "source": [
    "## Line numbers (lowercase \"L\")\n",
    "\n",
    "Type lowercase \"L\" to have line numbers; shift-L for line numbers notebook-wide."
   ]
  },
  {
   "cell_type": "markdown",
   "metadata": {},
   "source": [
    "## Move blocks of code around\n",
    "\n",
    "\n",
    "### Indent/dedent\n",
    "\n",
    "    Cmd + [\n",
    "    Cmd + ]\n",
    "\n",
    "### Comment\n",
    "\n",
    "    Cmd + /"
   ]
  },
  {
   "cell_type": "code",
   "execution_count": 39,
   "metadata": {
    "ExecuteTime": {
     "end_time": "2019-01-18T02:41:58.578042Z",
     "start_time": "2019-01-18T02:41:58.574450Z"
    }
   },
   "outputs": [],
   "source": [
    "example_dict = {}\n",
    "\n",
    "# Indent/dedent/comment\n",
    "for index in range(5):\n",
    "    example_dict[\"one\"] = 1\n",
    "    example_dict[\"two\"] = 2\n",
    "    example_dict[\"three\"] = 3\n",
    "    example_dict[\"four\"] = 4"
   ]
  },
  {
   "cell_type": "markdown",
   "metadata": {},
   "source": [
    "## Multicursor magic\n",
    "\n",
    "Hold down `option`, click and drag (for big cursor).\n",
    "\n",
    "cmd + click == wherever you click. \n",
    "\n",
    "Shift command P -- command palette."
   ]
  },
  {
   "cell_type": "code",
   "execution_count": 41,
   "metadata": {
    "ExecuteTime": {
     "end_time": "2019-01-18T02:45:50.085759Z",
     "start_time": "2019-01-18T02:45:50.082468Z"
    }
   },
   "outputs": [],
   "source": [
    "example_dict[\"one_better_neat\"] = 1\n",
    "example_dict[\"two_better_neat\"] = 2\n",
    "example_dict[\"three_better_neat\"] = 3\n",
    "example_dict[\"four_better_neat\"] = 4"
   ]
  },
  {
   "cell_type": "markdown",
   "metadata": {},
   "source": [
    "## Monospace"
   ]
  },
  {
   "cell_type": "markdown",
   "metadata": {},
   "source": [
    "You can also get `monospaced` fonts by indenting 4 spaces:\n",
    "\n",
    "    mkdir toc\n",
    "    cd toc"
   ]
  },
  {
   "cell_type": "markdown",
   "metadata": {},
   "source": [
    "## Syntax Highlighting"
   ]
  },
  {
   "cell_type": "markdown",
   "metadata": {},
   "source": [
    "Wrap with triple-backticks and language:\n",
    "\n",
    "```bash\n",
    "mkdir toc\n",
    "cd toc\n",
    "wget https://repo.continuum.io/miniconda/Miniconda3-latest-MacOSX-x86_64.sh\n",
    "```"
   ]
  },
  {
   "cell_type": "markdown",
   "metadata": {},
   "source": [
    "```SQL\n",
    "SELECT first_name,\n",
    "       last_name,\n",
    "       year_of_birth\n",
    "FROM presidents\n",
    "WHERE year_of_birth > 1800;\n",
    "```"
   ]
  },
  {
   "cell_type": "markdown",
   "metadata": {},
   "source": [
    "## Headings and LaTeX\n",
    "\n",
    "With text and $\\LaTeX$ support.\n",
    "\n",
    "$$\\begin{align}\n",
    "        B'&=-\\nabla \\times E,\\\\\n",
    "        E'&=\\nabla \\times B - 4\\pi j\n",
    "\\end{align}$$"
   ]
  },
  {
   "cell_type": "markdown",
   "metadata": {},
   "source": [
    "# Magics\n",
    "\n",
    " - `%` $\\equiv$ inline magic\n",
    " - `%%` $\\equiv$ cell magic"
   ]
  },
  {
   "cell_type": "code",
   "execution_count": 42,
   "metadata": {
    "ExecuteTime": {
     "end_time": "2019-01-18T02:48:24.071139Z",
     "start_time": "2019-01-18T02:48:24.066487Z"
    }
   },
   "outputs": [
    {
     "data": {
      "text/latex": [
       "\n",
       "If you want to get crazier$\\ldots$\n",
       "\n",
       "\\begin{equation}\n",
       "\\oint_S {E_n dA = \\frac{1}{{\\varepsilon _0 }}} Q_\\textrm{inside}\n",
       "\\end{equation}\n"
      ],
      "text/plain": [
       "<IPython.core.display.Latex object>"
      ]
     },
     "metadata": {},
     "output_type": "display_data"
    }
   ],
   "source": [
    "%%latex\n",
    "\n",
    "If you want to get crazier$\\ldots$\n",
    "\n",
    "\\begin{equation}\n",
    "\\oint_S {E_n dA = \\frac{1}{{\\varepsilon _0 }}} Q_\\textrm{inside}\n",
    "\\end{equation}"
   ]
  },
  {
   "cell_type": "code",
   "execution_count": 43,
   "metadata": {
    "ExecuteTime": {
     "end_time": "2019-01-18T02:49:28.874121Z",
     "start_time": "2019-01-18T02:49:14.024565Z"
    },
    "collapsed": true
   },
   "outputs": [
    {
     "name": "stderr",
     "output_type": "stream",
     "text": [
      "--2019-01-17 18:49:14--  http://www.ast.cam.ac.uk/~rfc/vpfit11.1.tar.gz\n",
      "Resolving www.ast.cam.ac.uk (www.ast.cam.ac.uk)... 131.111.71.71\n",
      "Connecting to www.ast.cam.ac.uk (www.ast.cam.ac.uk)|131.111.71.71|:80... connected.\n",
      "HTTP request sent, awaiting response... 301 Moved Permanently\n",
      "Location: https://www.ast.cam.ac.uk:443/~rfc/vpfit11.1.tar.gz [following]\n",
      "--2019-01-17 18:49:14--  https://www.ast.cam.ac.uk/~rfc/vpfit11.1.tar.gz\n",
      "Connecting to www.ast.cam.ac.uk (www.ast.cam.ac.uk)|131.111.71.71|:443... connected.\n",
      "HTTP request sent, awaiting response... 200 OK\n",
      "Length: 3761497 (3.6M) [application/x-gzip]\n",
      "Saving to: ‘vpfit11.1.tar.gz.1’\n",
      "\n",
      "     0K .......... .......... .......... .......... ..........  1%  113K 32s\n",
      "    50K .......... .......... .......... .......... ..........  2%  340K 21s\n",
      "   100K .......... .......... .......... .......... ..........  4%  321K 17s\n",
      "   150K .......... .......... .......... .......... ..........  5% 64.5M 13s\n",
      "   200K .......... .......... .......... .......... ..........  6%  340K 12s\n",
      "   250K .......... .......... .......... .......... ..........  8%  334K 12s\n",
      "   300K .......... .......... .......... .......... ..........  9% 15.6M 10s\n",
      "   350K .......... .......... .......... .......... .......... 10%  340K 10s\n",
      "   400K .......... .......... .......... .......... .......... 12%  332K 10s\n",
      "   450K .......... .......... .......... .......... .......... 13%  334K 9s\n",
      "   500K .......... .......... .......... .......... .......... 14%  164K 10s\n",
      "   550K .......... .......... .......... .......... .......... 16% 86.0M 9s\n",
      "   600K .......... .......... .......... .......... .......... 17% 80.3M 8s\n",
      "   650K .......... .......... .......... .......... .......... 19%  334K 8s\n",
      "   700K .......... .......... .......... .......... .......... 20%  170K 9s\n",
      "   750K .......... .......... .......... .......... .......... 21%  165K 9s\n",
      "   800K .......... .......... .......... .......... .......... 23%  112K 10s\n",
      "   850K .......... .......... .......... .......... .......... 24% 70.5M 9s\n",
      "   900K .......... .......... .......... .......... .......... 25%  343K 9s\n",
      "   950K .......... .......... .......... .......... .......... 27%  103K 10s\n",
      "  1000K .......... .......... .......... .......... .......... 28% 88.9K 10s\n",
      "  1050K .......... .......... .......... .......... .......... 29%  111K 11s\n",
      "  1100K .......... .......... .......... .......... .......... 31%  112K 11s\n",
      "  1150K .......... .......... .......... .......... .......... 32%  106K 11s\n",
      "  1200K .......... .......... .......... .......... .......... 34%  110K 12s\n",
      "  1250K .......... .......... .......... .......... .......... 35%  112K 12s\n",
      "  1300K .......... .......... .......... .......... .......... 36%  169K 12s\n",
      "  1350K .......... .......... .......... .......... .......... 38%  112K 12s\n",
      "  1400K .......... .......... .......... .......... .......... 39%  170K 11s\n",
      "  1450K .......... .......... .......... .......... .......... 40%  164K 11s\n",
      "  1500K .......... .......... .......... .......... .......... 42%  313K 11s\n",
      "  1550K .......... .......... .......... .......... .......... 43%  158K 11s\n",
      "  1600K .......... .......... .......... .......... .......... 44%  332K 10s\n",
      "  1650K .......... .......... .......... .......... .......... 46%  169K 10s\n",
      "  1700K .......... .......... .......... .......... .......... 47%  337K 10s\n",
      "  1750K .......... .......... .......... .......... .......... 49%  343K 9s\n",
      "  1800K .......... .......... .......... .......... .......... 50%  502K 9s\n",
      "  1850K .......... .......... .......... .......... .......... 51%  915K 9s\n",
      "  1900K .......... .......... .......... .......... .......... 53%  342K 8s\n",
      "  1950K .......... .......... .......... .......... .......... 54%  335K 8s\n",
      "  2000K .......... .......... .......... .......... .......... 55%  325K 8s\n",
      "  2050K .......... .......... .......... .......... .......... 57% 14.9M 7s\n",
      "  2100K .......... .......... .......... .......... .......... 58%  339K 7s\n",
      "  2150K .......... .......... .......... .......... .......... 59%  369K 7s\n",
      "  2200K .......... .......... .......... .......... .......... 61% 2.99M 6s\n",
      "  2250K .......... .......... .......... .......... .......... 62%  224K 6s\n",
      "  2300K .......... .......... .......... .......... .......... 63%  100M 6s\n",
      "  2350K .......... .......... .......... .......... .......... 65%  626K 5s\n",
      "  2400K .......... .......... .......... .......... .......... 66%  337K 5s\n",
      "  2450K .......... .......... .......... .......... .......... 68%  367K 5s\n",
      "  2500K .......... .......... .......... .......... .......... 69%  367K 5s\n",
      "  2550K .......... .......... .......... .......... .......... 70% 2.27M 4s\n",
      "  2600K .......... .......... .......... .......... .......... 72%  362K 4s\n",
      "  2650K .......... .......... .......... .......... .......... 73%  342K 4s\n",
      "  2700K .......... .......... .......... .......... .......... 74% 3.69M 4s\n",
      "  2750K .......... .......... .......... .......... .......... 76%  364K 3s\n",
      "  2800K .......... .......... .......... .......... .......... 77%  346K 3s\n",
      "  2850K .......... .......... .......... .......... .......... 78% 3.79M 3s\n",
      "  2900K .......... .......... .......... .......... .......... 80%  334K 3s\n",
      "  2950K .......... .......... .......... .......... .......... 81%  826K 3s\n",
      "  3000K .......... .......... .......... .......... .......... 83%  533K 2s\n",
      "  3050K .......... .......... .......... .......... .......... 84%  289K 2s\n",
      "  3100K .......... .......... .......... .......... .......... 85%  112M 2s\n",
      "  3150K .......... .......... .......... .......... .......... 87%  167K 2s\n",
      "  3200K .......... .......... .......... .......... .......... 88% 62.3M 2s\n",
      "  3250K .......... .......... .......... .......... .......... 89%  225K 1s\n",
      "  3300K .......... .......... .......... .......... .......... 91%  339K 1s\n",
      "  3350K .......... .......... .......... .......... .......... 92%  252K 1s\n",
      "  3400K .......... .......... .......... .......... .......... 93%  338K 1s\n",
      "  3450K .......... .......... .......... .......... .......... 95%  524K 1s\n",
      "  3500K .......... .......... .......... .......... .......... 96%  340K 0s\n",
      "  3550K .......... .......... .......... .......... .......... 98%  421K 0s\n",
      "  3600K .......... .......... .......... .......... .......... 99%  172K 0s\n",
      "  3650K .......... .......... ...                             100% 1.68M=13s\n",
      "\n",
      "2019-01-17 18:49:28 (274 KB/s) - ‘vpfit11.1.tar.gz.1’ saved [3761497/3761497]\n",
      "\n",
      "x ./\n",
      "x ./#temp2#\n",
      "x ./atom.dat\n",
      "x ./atomtab.f\n",
      "x ./autovpin.f\n",
      "x ./bintofits.f\n",
      "x ./calcn.f\n",
      "x ./case.f\n",
      "x ./chanwav.f\n",
      "x ./chisum26.f\n",
      "x ./cmax1.f\n",
      "x ./cms_src.f\n",
      "x ./com_cons.f\n",
      "x ./dcholin.f\n",
      "x ./dexpf.f\n",
      "x ./dlycabscft.f\n",
      "x ./docs/\n",
      "x ./dotick.f\n",
      "x ./dpoly.f\n",
      "x ./dsepvar.f\n",
      "x ./eigen.f\n",
      "x ./erfcc.f\n",
      "x ./externals.f\n",
      "x ./fl_gen.f\n",
      "x ./gen_vpin.f\n",
      "x ./ginsert.f\n",
      "x ./gu_tabsort.f\n",
      "x ./hedit.f\n",
      "x ./linfit.f\n",
      "x ./lm_udchole.f\n",
      "x ./lyregset.f\n",
      "x ./makefile\n",
      "x ./medianv.f\n",
      "x ./MMatomdat_atom_noiso.dat\n",
      "x ./pda_che2d.f\n",
      "x ./pda_dp1vlu.f\n",
      "x ./pda_dpcoef.f\n",
      "x ./pda_dpolft.f\n",
      "x ./pda_qsiad.f\n",
      "x ./pda_src.f\n",
      "x ./pda_xermsg.f\n",
      "x ./pgfiles/\n",
      "x ./pldef.f\n",
      "x ./plset.f\n",
      "x ./pr_mdian1.f\n",
      "x ./prg_polyd.f\n",
      "x ./probks.f\n",
      "x ./._rd_ablin.f\n",
      "x ./rd_ablin.f\n",
      "x ./rd_adnois.f\n",
      "x ./rd_advprof.f\n",
      "x ./rd_alias.f\n",
      "x ./rd_bclimsreset.f\n",
      "x ./rd_comalias.f\n",
      "x ./rd_compreset.f\n",
      "x ./rd_cuchstr.f\n",
      "x ./rd_cufilnm.f\n",
      "x ./rd_cuplot.f\n",
      "x ./rd_cuwvrest.f\n",
      "x ./rd_cydata.f\n",
      "x ./rd_daswap.f\n",
      "x ./rd_dblid.f\n",
      "x ./rd_dmanip.f\n",
      "x ./rd_drebin.f\n",
      "x ./rd_drebing.f\n",
      "x ./rd_dsetbad.f\n",
      "x ./rd_dvcont.f\n",
      "x ./rd_esoftread.f\n",
      "x ./rd_estcolb.f\n",
      "x ./rd_ewwav.f\n",
      "x ./rd_extabs.f\n",
      "x ./rd_fluxbb.f\n",
      "x ./rd_flxval.f\n",
      "x ./rd_gen.f\n",
      "x ./rd_gprof.f\n",
      "x ./rd_gprofe.f\n",
      "x ./rd_gpsim.f\n",
      "x ./rd_hdust.f\n",
      "x ./rd_intinfo.f\n",
      "x ./rd_intvtab.f\n",
      "x ./rd_jbsim.f\n",
      "x ./rd_markreg.f\n",
      "x ./rd_mattrd.f\n",
      "x ./rd_meantau.f\n",
      "x ./rd_medvp.f\n",
      "x ./rd_moderrs.f\n",
      "x ./rd_multiset.f\n",
      "x ./rd_pgannot.f\n",
      "x ./rd_plcset.f\n",
      "x ./rd_pmpset.f\n",
      "x ./rd_prhelp.dat\n",
      "x ./rd_prhelp.f\n",
      "x ./rd_qdatafiles.f\n",
      "x ./rd_readlinwav.f\n",
      "x ./rd_sclsig.f\n",
      "x ./rd_scrng.f\n",
      "x ./rd_scwval.f\n",
      "x ./rd_seekmax2.f\n",
      "x ./rd_setintv.f\n",
      "x ./rd_sizes.f\n",
      "x ./rd_splvtick.f\n",
      "x ./rd_stackz.f\n",
      "x ./rd_start.dat\n",
      "x ./rd_stplot.f\n",
      "x ./rd_taueff.f\n",
      "x ./rd_tgplots.f\n",
      "x ./rd_tickvpfl.f\n",
      "x ./rd_ulimse.f\n",
      "x ./rd_ulinfo.f\n",
      "x ./rd_wrfits.f\n",
      "x ./rd_wrwcfits.f\n",
      "x ./rd_wvnewt.f\n",
      "x ./rd_wvsc.f\n",
      "x ./rd_xcdc.f\n",
      "x ./rd_zcorr.f\n",
      "x ./rd_ztabcf.f\n",
      "x ./rhedit.f\n",
      "x ./sepvar.f\n",
      "x ./splot.f\n",
      "x ./spvoigt.f\n",
      "x ./svbksbd.f\n",
      "x ./svdajc.f\n",
      "x ./svdcmpd.f\n",
      "x ./svdfit.f\n",
      "x ./tempccc.f\n",
      "x ./tickpg.f\n",
      "x ./tikset.f\n",
      "x ./tstfit3d.f\n",
      "x ./udchole.f\n",
      "x ./varythis.f\n",
      "x ./voigt_king.f\n",
      "x ./._voigt_subroutine.f\n",
      "x ./voigt_subroutine.f\n",
      "x ./vp_abfind.f\n",
      "x ./vp_abundset.f\n",
      "x ./vp_addline.f\n",
      "x ./vp_addxlink.f\n",
      "x ./vp_archwav.f\n",
      "x ./vp_asciin.f\n",
      "x ./vp_ationsep.f\n",
      "x ./vp_atomass.f\n",
      "x ./vp_blfixf.f\n",
      "x ./vp_cfcopy.f\n",
      "x ./vp_chanwav.f\n",
      "x ./vp_charlims.f\n",
      "x ./vp_chdisprof.f\n",
      "x ./vp_checkb.f\n",
      "x ./vp_checkn.f\n",
      "x ./vp_chipconv.f\n",
      "x ./vp_chsation.f\n",
      "x ./vp_chspread.f\n",
      "x ./vp_cmssrc.f\n",
      "x ./vp_curse.f\n",
      "x ./vp_cval.f\n",
      "x ./vp_dattim.f\n",
      "x ./vp_dattim_alt.f\n",
      "x ./vp_deriv.f\n",
      "x ./vp_dlinin.f\n",
      "x ./vp_dlset.f\n",
      "x ./vp_dlyccft.f\n",
      "x ./vp_dotick.f\n",
      "x ./vp_emlsmry.f\n",
      "x ./vp_empval.f\n",
      "x ./vp_emscchk.f\n",
      "x ./vp_emtset.f\n",
      "x ./vp_endorder.f\n",
      "x ./vp_endrej.f\n",
      "x ./vp_errej.f\n",
      "x ./vp_ewred.f\n",
      "x ./vp_f13fin.f\n",
      "x ./vp_f13finx.f\n",
      "x ./vp_f13read.f\n",
      "x ./vp_f_sigscl.f\n",
      "x ./vp_fgf13write.f\n",
      "x ./vp_flchderivs.f\n",
      "x ./vp_fnzbin.f\n",
      "x ./vp_getargs.f\n",
      "x ./vp_getres.f\n",
      "x ./vp_gglwcoeff.f\n",
      "x ./vp_gsclfts.f\n",
      "x ./vp_gwatfits.f\n",
      "x ./vp_initval.f\n",
      "x ./vp_ionregcheck.f\n",
      "x ./vp_ksvnorm.f\n",
      "x ./vp_lineid.f\n",
      "x ./vp_linlim.f\n",
      "x ./vp_listfiles.f\n",
      "x ./vp_lycont.f\n",
      "x ./vp_lyconte.f\n",
      "x ./vp_minpol.f\n",
      "x ./vp_minquad.f\n",
      "x ./vp_nearlin.f\n",
      "x ./vp_newtfxl.f\n",
      "x ./vp_pareorder.f\n",
      "x ./vp_parmcest.f\n",
      "x ./vp_pgbegin.f\n",
      "x ./vp_pgcurs.f\n",
      "x ./vp_plcset.f\n",
      "x ./vp_poisson.f\n",
      "x ./vp_presetsys.f\n",
      "x ./vp_psfinterp.f\n",
      "x ./vp_rdbwvfts.f\n",
      "x ./._vp_rdfitsext.f\n",
      "x ./vp_rdfitsext.f\n",
      "x ./vp_rdlines.f\n",
      "x ./vp_rdspecial.f\n",
      "x ./vp_rdwaveval.f\n",
      "x ./vp_readfits.f\n",
      "x ./vp_runstst.f\n",
      "x ./vp_rwlims.f\n",
      "x ./vp_scontf.f\n",
      "x ./vp_setintv.f\n",
      "x ./vp_setoptn.f\n",
      "x ./vp_setup.dat\n",
      "x ./vp_sizes.f\n",
      "x ./vp_smry.f\n",
      "x ./vp_spdatin.f\n",
      "x ./vp_splot.dat\n",
      "x ./vp_spread.f\n",
      "x ./vp_spvoigte.f\n",
      "x ./vp_srcpath.f\n",
      "x ./vp_startval.f\n",
      "x ./vp_stration.f\n",
      "x ./vp_stripcmt.f\n",
      "x ./vp_subchspread.f\n",
      "x ./vp_sumlinclear.f\n",
      "x ./vp_sysdel.f\n",
      "x ./vp_tdcolset.f\n",
      "x ./vp_tiedb.f\n",
      "x ./vp_tiedrop.f\n",
      "x ./vp_tieval.f\n",
      "x ./vp_trimattab.f\n",
      "x ./vp_tsetxref.f\n",
      "x ./vp_ucheck.f\n",
      "x ./vp_ucoptv.f\n",
      "x ./vp_ucprinerr.f\n",
      "x ./vp_ucprinit.f\n",
      "x ./vp_usdef.f\n",
      "x ./vp_vreset.f\n",
      "x ./vp_wrt25.f\n",
      "x ./vp_wval.f\n",
      "x ./vp_wvalch.f\n",
      "x ./vp_wvalsubch.f\n",
      "x ./vp_wverass.f\n",
      "x ./vpbrentres.f\n",
      "x ./vpf_bvalsp.f\n",
      "x ./vpf_dvresn.f\n",
      "x ./vpfit.f\n",
      "x ./vpgti.f\n",
      "x ./._vppreset.cmd\n",
      "x ./vppreset.cmd\n",
      "x ./vpreset.awk\n",
      "x ./wcor.f\n",
      "x ./wval.f\n",
      "x ./xmakefile\n",
      "x ./pgfiles/Al.pg\n",
      "x ./pgfiles/AlSi.pg\n",
      "x ./pgfiles/CaII.pg\n",
      "x ./pgfiles/CI2.pg\n",
      "x ./pgfiles/CIH2.pg\n",
      "x ./pgfiles/CII.pg\n",
      "x ./pgfiles/CII.pg~\n",
      "x ./pgfiles/._CIIOI.pg\n",
      "x ./pgfiles/CIIOI.pg\n",
      "x ./pgfiles/CIIOI.pg~\n",
      "x ./pgfiles/CIISi.pg\n",
      "x ./pgfiles/CIV.pg\n",
      "x ./pgfiles/CIVSiIV.pg\n",
      "x ./pgfiles/CrZn.pg\n",
      "x ./pgfiles/FeII.pg\n",
      "x ./pgfiles/FeIIhi.pg\n",
      "x ./pgfiles/hc.pg\n",
      "x ./pgfiles/HC4.pg\n",
      "x ./pgfiles/HC4.pg~\n",
      "x ./pgfiles/HCNlo.pg\n",
      "x ./pgfiles/hcnosi.pg\n",
      "x ./pgfiles/hcsi.pg\n",
      "x ./pgfiles/HD.pg\n",
      "x ./pgfiles/HDs.pg\n",
      "x ./pgfiles/HHC4N5O6.pg\n",
      "x ./pgfiles/HHC4O6.pg\n",
      "x ./pgfiles/HHC4O6Si4.pg\n",
      "x ./pgfiles/HHC4Si4.pg\n",
      "x ./pgfiles/HHCSi34.pg\n",
      "x ./pgfiles/HHCSi34.pg~\n",
      "x ./pgfiles/HHO6.pg\n",
      "x ./pgfiles/hiHCNO.pg\n",
      "x ./pgfiles/hiHCOSi.pg\n",
      "x ./pgfiles/hiion.pg\n",
      "x ./pgfiles/hiSi.pg\n",
      "x ./pgfiles/HNI.pg\n",
      "x ./pgfiles/HOhi.pg\n",
      "x ./pgfiles/HQhi.pg\n",
      "x ./pgfiles/HSSi.pg\n",
      "x ./pgfiles/Hvhi.pg\n",
      "x ./pgfiles/LaCIV.pg\n",
      "x ./pgfiles/LaN.pg\n",
      "x ./pgfiles/laonly.pg\n",
      "x ./pgfiles/LL.pg\n",
      "x ./pgfiles/LLO.pg\n",
      "x ./pgfiles/llyman.pg\n",
      "x ./pgfiles/loc.pg\n",
      "x ./pgfiles/local.pg\n",
      "x ./pgfiles/lohi.pg\n",
      "x ./pgfiles/lointhi.pg\n",
      "x ./pgfiles/lointz.pg\n",
      "x ./pgfiles/loion.pg\n",
      "x ./pgfiles/loloz.pg\n",
      "x ./pgfiles/lorare.pg\n",
      "x ./pgfiles/lowz.pg\n",
      "x ./pgfiles/lowzFeII.pg\n",
      "x ./pgfiles/ly4.pg\n",
      "x ./pgfiles/lyabg.pg\n",
      "x ./pgfiles/lyman.pg\n",
      "x ./pgfiles/lyman8.pg\n",
      "x ./pgfiles/MgFeMn.pg\n",
      "x ./pgfiles/MgICI.pg\n",
      "x ./pgfiles/MgII.pg\n",
      "x ./pgfiles/MgIIFeII.pg\n",
      "x ./pgfiles/NaCa.pg\n",
      "x ./pgfiles/NiII.pg\n",
      "x ./pgfiles/nitrogen.pg\n",
      "x ./pgfiles/NV.pg\n",
      "x ./pgfiles/OI.pg\n",
      "x ./pgfiles/OIArI.pg\n",
      "x ./pgfiles/oneline.pg\n",
      "x ./pgfiles/OSipair.pg\n",
      "x ./pgfiles/OVI.pg\n",
      "x ./pgfiles/OVIHI.pg\n",
      "x ./pgfiles/range.pg\n",
      "x ./pgfiles/sdlaion.pg\n",
      "x ./pgfiles/SiII.pg\n",
      "x ./pgfiles/SiIIfs.pg\n",
      "x ./pgfiles/SiIIl.pg\n",
      "x ./pgfiles/SiIV.pg\n",
      "x ./pgfiles/stloion.pg\n",
      "x ./pgfiles/strong.pg\n",
      "x ./pgfiles/TiII.pg\n",
      "x ./pgfiles/ultralow.pg\n",
      "x ./pgfiles/vhiHCNO.pg\n",
      "x ./docs/rdgen11.1.pdf\n",
      "x ./docs/sample.txt.gz\n",
      "x ./docs/._vpfit11.1.pdf\n",
      "x ./docs/vpfit11.1.pdf\n"
     ]
    }
   ],
   "source": [
    "%%bash\n",
    "wget http://www.ast.cam.ac.uk/~rfc/vpfit11.1.tar.gz\n",
    "mkdir -p vpfit11\n",
    "cd vpfit11\n",
    "tar -xvzf ../vpfit11.1.tar.gz"
   ]
  },
  {
   "cell_type": "markdown",
   "metadata": {},
   "source": [
    "# Installing crap in notebooks\n",
    "\n",
    "https://jakevdp.github.io/blog/2017/12/05/installing-python-packages-from-jupyter/"
   ]
  },
  {
   "cell_type": "code",
   "execution_count": null,
   "metadata": {},
   "outputs": [],
   "source": [
    "import sys\n",
    "!conda install --prefix {sys.prefix} numpy -y "
   ]
  },
  {
   "cell_type": "code",
   "execution_count": null,
   "metadata": {},
   "outputs": [],
   "source": [
    "# # Install a pip package in the current Jupyter kernel\n",
    "# import sys\n",
    "# !{sys.executable} -m pip install numpy"
   ]
  },
  {
   "cell_type": "code",
   "execution_count": null,
   "metadata": {},
   "outputs": [],
   "source": []
  },
  {
   "cell_type": "code",
   "execution_count": 44,
   "metadata": {
    "ExecuteTime": {
     "end_time": "2019-01-18T02:56:10.817000Z",
     "start_time": "2019-01-18T02:56:10.814375Z"
    }
   },
   "outputs": [],
   "source": [
    "normal_argument = 12.4\n",
    "second_argument = 98.4\n",
    "\n",
    "arg_with_spaces = \"the secret to life\""
   ]
  },
  {
   "cell_type": "code",
   "execution_count": 45,
   "metadata": {
    "ExecuteTime": {
     "end_time": "2019-01-18T02:56:23.660898Z",
     "start_time": "2019-01-18T02:56:23.636751Z"
    }
   },
   "outputs": [
    {
     "name": "stdout",
     "output_type": "stream",
     "text": [
      "This script knows the value of the argument: 12.4\n",
      "It also has no trouble with the second argument: 98.4\n"
     ]
    }
   ],
   "source": [
    "%%bash -s {normal_argument} {second_argument}\n",
    "echo \"This script knows the value of the argument: $1\"\n",
    "echo \"It also has no trouble with the second argument: $2\""
   ]
  },
  {
   "cell_type": "code",
   "execution_count": 46,
   "metadata": {
    "ExecuteTime": {
     "end_time": "2019-01-18T02:56:29.523375Z",
     "start_time": "2019-01-18T02:56:29.506855Z"
    }
   },
   "outputs": [
    {
     "name": "stdout",
     "output_type": "stream",
     "text": [
      "This bash script knows the secret to life.\n"
     ]
    }
   ],
   "source": [
    "%%bash -s \"$arg_with_spaces\"\n",
    "echo \"This bash script knows $1.\""
   ]
  },
  {
   "cell_type": "code",
   "execution_count": 47,
   "metadata": {
    "ExecuteTime": {
     "end_time": "2019-01-18T02:56:46.020975Z",
     "start_time": "2019-01-18T02:56:45.890582Z"
    }
   },
   "outputs": [
    {
     "name": "stdout",
     "output_type": "stream",
     "text": [
      "00-Overview.ipynb                Example-pycat.ipynb\r\n",
      "01-Tips-and-tricks.ipynb         Untitled.ipynb\r\n",
      "02-NBExtensions.ipynb            delete.ipynb\r\n",
      "03-Interactive-Splines.ipynb     ex1.png\r\n",
      "04-Autoreload.ipynb              history.ipynb\r\n",
      "05-SQL-Example.ipynb             jupyterlab-example.md\r\n",
      "06-Advanced-Visualization.ipynb  pivottablejs.html\r\n",
      "07-Some_basics.ipynb             presidents.sqlite\r\n",
      "08-More_basics.ipynb             \u001b[34mvpfit10\u001b[m\u001b[m/\r\n",
      "09-Extras.ipynb                  vpfit10.2.tar.gz\r\n",
      "10-R-stuff.ipynb                 vpfit10.2.tar.gz.1\r\n",
      "11-older-stuff.ipynb             vpfit10.2.tar.gz.2\r\n",
      "12-old-pandas.ipynb              vpfit10.2.tar.gz.3\r\n",
      "3d-example-plot.html             \u001b[34mvpfit11\u001b[m\u001b[m/\r\n",
      "Advanced-Notebook-Tricks.ipynb   vpfit11.1.tar.gz\r\n",
      "Basic-Plotting.ipynb             vpfit11.1.tar.gz.1\r\n",
      "Data_Cleaning.ipynb\r\n"
     ]
    }
   ],
   "source": [
    "ls"
   ]
  },
  {
   "cell_type": "code",
   "execution_count": 48,
   "metadata": {
    "ExecuteTime": {
     "end_time": "2019-01-18T02:56:53.132831Z",
     "start_time": "2019-01-18T02:56:53.007224Z"
    }
   },
   "outputs": [
    {
     "name": "stdout",
     "output_type": "stream",
     "text": [
      "00-Overview.ipynb               Example-pycat.ipynb\r\n",
      "01-Tips-and-tricks.ipynb        Untitled.ipynb\r\n",
      "02-NBExtensions.ipynb           delete.ipynb\r\n",
      "03-Interactive-Splines.ipynb    ex1.png\r\n",
      "04-Autoreload.ipynb             history.ipynb\r\n",
      "05-SQL-Example.ipynb            jupyterlab-example.md\r\n",
      "06-Advanced-Visualization.ipynb pivottablejs.html\r\n",
      "07-Some_basics.ipynb            presidents.sqlite\r\n",
      "08-More_basics.ipynb            \u001b[34mvpfit10\u001b[m\u001b[m\r\n",
      "09-Extras.ipynb                 vpfit10.2.tar.gz\r\n",
      "10-R-stuff.ipynb                vpfit10.2.tar.gz.1\r\n",
      "11-older-stuff.ipynb            vpfit10.2.tar.gz.2\r\n",
      "12-old-pandas.ipynb             vpfit10.2.tar.gz.3\r\n",
      "3d-example-plot.html            \u001b[34mvpfit11\u001b[m\u001b[m\r\n",
      "Advanced-Notebook-Tricks.ipynb  vpfit11.1.tar.gz\r\n",
      "Basic-Plotting.ipynb            vpfit11.1.tar.gz.1\r\n",
      "Data_Cleaning.ipynb\r\n"
     ]
    }
   ],
   "source": [
    "!ls"
   ]
  },
  {
   "cell_type": "code",
   "execution_count": 49,
   "metadata": {
    "ExecuteTime": {
     "end_time": "2019-01-18T02:56:57.102873Z",
     "start_time": "2019-01-18T02:56:56.977044Z"
    }
   },
   "outputs": [
    {
     "name": "stdout",
     "output_type": "stream",
     "text": [
      "00-Overview.ipynb                Example-pycat.ipynb\r\n",
      "01-Tips-and-tricks.ipynb         Untitled.ipynb\r\n",
      "02-NBExtensions.ipynb            delete.ipynb\r\n",
      "03-Interactive-Splines.ipynb     ex1.png\r\n",
      "04-Autoreload.ipynb              history.ipynb\r\n",
      "05-SQL-Example.ipynb             jupyterlab-example.md\r\n",
      "06-Advanced-Visualization.ipynb  pivottablejs.html\r\n",
      "07-Some_basics.ipynb             presidents.sqlite\r\n",
      "08-More_basics.ipynb             \u001b[34mvpfit10\u001b[m\u001b[m/\r\n",
      "09-Extras.ipynb                  vpfit10.2.tar.gz\r\n",
      "10-R-stuff.ipynb                 vpfit10.2.tar.gz.1\r\n",
      "11-older-stuff.ipynb             vpfit10.2.tar.gz.2\r\n",
      "12-old-pandas.ipynb              vpfit10.2.tar.gz.3\r\n",
      "3d-example-plot.html             \u001b[34mvpfit11\u001b[m\u001b[m/\r\n",
      "Advanced-Notebook-Tricks.ipynb   vpfit11.1.tar.gz\r\n",
      "Basic-Plotting.ipynb             vpfit11.1.tar.gz.1\r\n",
      "Data_Cleaning.ipynb\r\n"
     ]
    }
   ],
   "source": [
    "%ls"
   ]
  },
  {
   "cell_type": "code",
   "execution_count": null,
   "metadata": {
    "ExecuteTime": {
     "end_time": "2018-06-07T01:43:31.212664Z",
     "start_time": "2018-06-07T01:43:31.084900Z"
    },
    "scrolled": true
   },
   "outputs": [],
   "source": [
    "ls vpfit10/"
   ]
  },
  {
   "cell_type": "code",
   "execution_count": 50,
   "metadata": {
    "ExecuteTime": {
     "end_time": "2019-01-18T02:57:21.468622Z",
     "start_time": "2019-01-18T02:57:21.465899Z"
    }
   },
   "outputs": [],
   "source": [
    "tailthing = \"*.ipynb\""
   ]
  },
  {
   "cell_type": "code",
   "execution_count": null,
   "metadata": {
    "ExecuteTime": {
     "end_time": "2018-09-18T01:56:06.658135Z",
     "start_time": "2018-09-18T01:56:06.654043Z"
    }
   },
   "outputs": [],
   "source": [
    "tailthing"
   ]
  },
  {
   "cell_type": "code",
   "execution_count": 51,
   "metadata": {
    "ExecuteTime": {
     "end_time": "2019-01-18T02:57:24.430148Z",
     "start_time": "2019-01-18T02:57:24.298231Z"
    }
   },
   "outputs": [
    {
     "name": "stdout",
     "output_type": "stream",
     "text": [
      "00-Overview.ipynb               10-R-stuff.ipynb\r\n",
      "01-Tips-and-tricks.ipynb        11-older-stuff.ipynb\r\n",
      "02-NBExtensions.ipynb           12-old-pandas.ipynb\r\n",
      "03-Interactive-Splines.ipynb    Advanced-Notebook-Tricks.ipynb\r\n",
      "04-Autoreload.ipynb             Basic-Plotting.ipynb\r\n",
      "05-SQL-Example.ipynb            Data_Cleaning.ipynb\r\n",
      "06-Advanced-Visualization.ipynb Example-pycat.ipynb\r\n",
      "07-Some_basics.ipynb            Untitled.ipynb\r\n",
      "08-More_basics.ipynb            delete.ipynb\r\n",
      "09-Extras.ipynb                 history.ipynb\r\n"
     ]
    }
   ],
   "source": [
    "!ls {tailthing}"
   ]
  },
  {
   "cell_type": "code",
   "execution_count": 52,
   "metadata": {
    "ExecuteTime": {
     "end_time": "2019-01-18T02:57:27.600551Z",
     "start_time": "2019-01-18T02:57:27.584390Z"
    }
   },
   "outputs": [],
   "source": [
    "output = !ls "
   ]
  },
  {
   "cell_type": "code",
   "execution_count": 53,
   "metadata": {
    "ExecuteTime": {
     "end_time": "2019-01-18T02:57:29.014070Z",
     "start_time": "2019-01-18T02:57:29.009403Z"
    }
   },
   "outputs": [
    {
     "data": {
      "text/plain": [
       "['00-Overview.ipynb',\n",
       " '01-Tips-and-tricks.ipynb',\n",
       " '02-NBExtensions.ipynb',\n",
       " '03-Interactive-Splines.ipynb',\n",
       " '04-Autoreload.ipynb',\n",
       " '05-SQL-Example.ipynb',\n",
       " '06-Advanced-Visualization.ipynb',\n",
       " '07-Some_basics.ipynb',\n",
       " '08-More_basics.ipynb',\n",
       " '09-Extras.ipynb',\n",
       " '10-R-stuff.ipynb',\n",
       " '11-older-stuff.ipynb',\n",
       " '12-old-pandas.ipynb',\n",
       " '3d-example-plot.html',\n",
       " 'Advanced-Notebook-Tricks.ipynb',\n",
       " 'Basic-Plotting.ipynb',\n",
       " 'Data_Cleaning.ipynb',\n",
       " 'Example-pycat.ipynb',\n",
       " 'Untitled.ipynb',\n",
       " 'delete.ipynb',\n",
       " 'ex1.png',\n",
       " 'history.ipynb',\n",
       " 'jupyterlab-example.md',\n",
       " 'pivottablejs.html',\n",
       " 'presidents.sqlite',\n",
       " 'vpfit10',\n",
       " 'vpfit10.2.tar.gz',\n",
       " 'vpfit10.2.tar.gz.1',\n",
       " 'vpfit10.2.tar.gz.2',\n",
       " 'vpfit10.2.tar.gz.3',\n",
       " 'vpfit11',\n",
       " 'vpfit11.1.tar.gz',\n",
       " 'vpfit11.1.tar.gz.1']"
      ]
     },
     "execution_count": 53,
     "metadata": {},
     "output_type": "execute_result"
    }
   ],
   "source": [
    "output"
   ]
  },
  {
   "cell_type": "code",
   "execution_count": 54,
   "metadata": {
    "ExecuteTime": {
     "end_time": "2019-01-18T02:57:32.783916Z",
     "start_time": "2019-01-18T02:57:32.778858Z"
    }
   },
   "outputs": [
    {
     "data": {
      "text/plain": [
       "{'SSH_AGENT_PID': '2443',\n",
       " 'TERM_PROGRAM': 'iTerm.app',\n",
       " 'TERM': 'xterm-color',\n",
       " 'SHELL': '/bin/bash',\n",
       " 'initials': 'jbw',\n",
       " 'CLICOLOR': '1',\n",
       " 'TMPDIR': '/var/folders/yk/2rgr0zrj0614jntythcnlyvw0000gn/T/',\n",
       " 'CONDA_SHLVL': '1',\n",
       " 'Apple_PubSub_Socket_Render': '/private/tmp/com.apple.launchd.cUdZIggvpB/Render',\n",
       " 'CONDA_PROMPT_MODIFIER': '(dspy3) ',\n",
       " 'BASH': '/Users/jonathan/.dotfiles',\n",
       " 'TERM_PROGRAM_VERSION': '3.2.6',\n",
       " 'OLDPWD': '/Users/jonathan',\n",
       " 'TERM_SESSION_ID': 'w0t0p0:D95C8318-F139-47A5-AE4D-2B20E6014310',\n",
       " 'USER': 'jonathan',\n",
       " 'CONDA_EXE': '/Users/jonathan/miniconda3/bin/conda',\n",
       " 'SSH_AUTH_SOCK': '/var/folders/yk/2rgr0zrj0614jntythcnlyvw0000gn/T//ssh-mm7alB0U2YiW/agent.2441',\n",
       " '__CF_USER_TEXT_ENCODING': '0x0:0:0',\n",
       " 'PATH': '/Users/jonathan/miniconda3/envs/dspy3/bin:/Users/jonathan/miniconda3/envs/dspy3/bin:/Users/jonathan/miniconda3/bin:/usr/local/bin:/usr/bin:/bin:/usr/sbin:/sbin:/Library/TeX/texbin:/opt/X11/bin',\n",
       " 'CONDA_PREFIX': '/Users/jonathan/miniconda3/envs/dspy3',\n",
       " 'PWD': '/Users/jonathan/github/jupyter-tips-and-tricks',\n",
       " 'EDITOR': 'vim',\n",
       " 'LANG': 'en_US.UTF-8',\n",
       " 'ITERM_PROFILE': 'Default',\n",
       " 'XPC_FLAGS': '0x0',\n",
       " 'ITERM_ORIG_PS1': '(dspy3) \\\\n# \\\\w\\\\n# \\\\[\\\\e[0;32m\\\\]\\\\h \\\\[\\\\e[0m\\\\]\\\\[\\\\e[0;36m\\\\]${git_branch}\\\\[\\\\e[0;31m\\\\]$git_dirty\\\\[\\\\e[0m\\\\]$ ',\n",
       " 'PS1': '(dspy3) \\\\n# \\\\w\\\\n# \\\\[\\\\e[0;32m\\\\]\\\\h \\\\[\\\\e[0m\\\\]\\\\[\\\\e[0;36m\\\\]${git_branch}\\\\[\\\\e[0;31m\\\\]$git_dirty\\\\[\\\\e[0m\\\\]$ ',\n",
       " 'PS3': '#? ',\n",
       " 'HISTCONTROL': 'ignoreboth',\n",
       " 'PS2': '> ',\n",
       " 'XPC_SERVICE_NAME': '0',\n",
       " 'GITAWAREPROMPT': '/Users/jonathan/.bash/git-aware-prompt',\n",
       " 'SHLVL': '1',\n",
       " 'PS4': '+',\n",
       " 'HOME': '/Users/jonathan',\n",
       " 'COLORFGBG': '15;0',\n",
       " 'ITERM_PREV_PS1': '\\\\[\\x1b]133;D;$?\\x07\\x1b]133;A\\x07\\\\](dspy3) \\\\n# \\\\w\\\\n# \\\\[\\\\e[0;32m\\\\]\\\\h \\\\[\\\\e[0m\\\\]\\\\[\\\\e[0;36m\\\\]${git_branch}\\\\[\\\\e[0;31m\\\\]$git_dirty\\\\[\\\\e[0m\\\\]$ \\\\[\\x1b]133;B\\x07\\\\]',\n",
       " 'ITERM_SESSION_ID': 'w0t0p0:D95C8318-F139-47A5-AE4D-2B20E6014310',\n",
       " 'CONDA_PYTHON_EXE': '/Users/jonathan/miniconda3/bin/python',\n",
       " 'LOGNAME': 'jonathan',\n",
       " 'CONDA_DEFAULT_ENV': 'dspy3',\n",
       " 'PROMPT_COMMAND': '__bp_precmd_invoke_cmd; echo -ne \"\\\\033]0;${USER}@${HOSTNAME%%.*} ${PWD}\"; echo -ne \"\\\\007\"; __bp_interactive_mode',\n",
       " 'DISPLAY': '/private/tmp/com.apple.launchd.a8oASgcyPu/org.macosforge.xquartz:0',\n",
       " 'COLORTERM': 'truecolor',\n",
       " '_': '/Users/jonathan/miniconda3/envs/dspy3/bin/jupyter',\n",
       " 'GIT_PYTHON_REFRESH': 'quiet',\n",
       " 'JPY_PARENT_PID': '52021',\n",
       " 'PAGER': 'cat',\n",
       " 'GIT_PAGER': 'cat',\n",
       " 'MPLBACKEND': 'module://ipykernel.pylab.backend_inline'}"
      ]
     },
     "execution_count": 54,
     "metadata": {},
     "output_type": "execute_result"
    }
   ],
   "source": [
    "%env "
   ]
  },
  {
   "cell_type": "code",
   "execution_count": null,
   "metadata": {},
   "outputs": [],
   "source": []
  },
  {
   "cell_type": "markdown",
   "metadata": {},
   "source": [
    "## Danger zone\n",
    "\n",
    "    _, _N and _iN"
   ]
  },
  {
   "cell_type": "code",
   "execution_count": 55,
   "metadata": {
    "ExecuteTime": {
     "end_time": "2019-01-18T02:58:33.319283Z",
     "start_time": "2019-01-18T02:58:33.189958Z"
    }
   },
   "outputs": [
    {
     "name": "stdout",
     "output_type": "stream",
     "text": [
      "/Users/jonathan/github/jupyter-tips-and-tricks/notebooks\r\n"
     ]
    }
   ],
   "source": [
    "!pwd"
   ]
  },
  {
   "cell_type": "code",
   "execution_count": 56,
   "metadata": {
    "ExecuteTime": {
     "end_time": "2019-01-18T02:58:35.153606Z",
     "start_time": "2019-01-18T02:58:35.149461Z"
    }
   },
   "outputs": [
    {
     "data": {
      "text/plain": [
       "3"
      ]
     },
     "execution_count": 56,
     "metadata": {},
     "output_type": "execute_result"
    }
   ],
   "source": [
    "a = 3\n",
    "a"
   ]
  },
  {
   "cell_type": "code",
   "execution_count": 57,
   "metadata": {
    "ExecuteTime": {
     "end_time": "2019-01-18T02:58:43.977765Z",
     "start_time": "2019-01-18T02:58:43.973806Z"
    }
   },
   "outputs": [
    {
     "data": {
      "text/plain": [
       "'a = 3\\na'"
      ]
     },
     "execution_count": 57,
     "metadata": {},
     "output_type": "execute_result"
    }
   ],
   "source": [
    "_i56"
   ]
  },
  {
   "cell_type": "code",
   "execution_count": 58,
   "metadata": {
    "ExecuteTime": {
     "end_time": "2019-01-18T02:59:02.075598Z",
     "start_time": "2019-01-18T02:59:02.071873Z"
    }
   },
   "outputs": [
    {
     "data": {
      "text/plain": [
       "3"
      ]
     },
     "execution_count": 58,
     "metadata": {},
     "output_type": "execute_result"
    }
   ],
   "source": [
    "_56"
   ]
  },
  {
   "cell_type": "code",
   "execution_count": 61,
   "metadata": {
    "ExecuteTime": {
     "end_time": "2019-01-18T02:59:34.635751Z",
     "start_time": "2019-01-18T02:59:34.632094Z"
    }
   },
   "outputs": [
    {
     "data": {
      "text/plain": [
       "75"
      ]
     },
     "execution_count": 61,
     "metadata": {},
     "output_type": "execute_result"
    }
   ],
   "source": [
    "_"
   ]
  },
  {
   "cell_type": "code",
   "execution_count": 60,
   "metadata": {
    "ExecuteTime": {
     "end_time": "2019-01-18T02:59:28.640043Z",
     "start_time": "2019-01-18T02:59:28.636494Z"
    }
   },
   "outputs": [
    {
     "data": {
      "text/plain": [
       "75"
      ]
     },
     "execution_count": 60,
     "metadata": {},
     "output_type": "execute_result"
    }
   ],
   "source": [
    "b = 5\n",
    "b * 15"
   ]
  },
  {
   "cell_type": "code",
   "execution_count": 62,
   "metadata": {
    "ExecuteTime": {
     "end_time": "2019-01-18T03:00:01.833146Z",
     "start_time": "2019-01-18T03:00:01.830638Z"
    }
   },
   "outputs": [],
   "source": [
    "c = a * b "
   ]
  },
  {
   "cell_type": "code",
   "execution_count": null,
   "metadata": {},
   "outputs": [],
   "source": []
  },
  {
   "cell_type": "code",
   "execution_count": null,
   "metadata": {
    "ExecuteTime": {
     "end_time": "2018-06-07T01:46:36.999622Z",
     "start_time": "2018-06-07T01:46:36.995686Z"
    }
   },
   "outputs": [],
   "source": []
  },
  {
   "cell_type": "code",
   "execution_count": null,
   "metadata": {},
   "outputs": [],
   "source": []
  },
  {
   "cell_type": "code",
   "execution_count": 65,
   "metadata": {
    "ExecuteTime": {
     "end_time": "2019-01-18T03:03:13.073813Z",
     "start_time": "2019-01-18T03:03:13.020844Z"
    }
   },
   "outputs": [],
   "source": [
    "%notebook new-name.ipynb"
   ]
  },
  {
   "cell_type": "code",
   "execution_count": null,
   "metadata": {},
   "outputs": [],
   "source": []
  },
  {
   "cell_type": "code",
   "execution_count": null,
   "metadata": {},
   "outputs": [],
   "source": []
  },
  {
   "cell_type": "code",
   "execution_count": 64,
   "metadata": {
    "ExecuteTime": {
     "end_time": "2019-01-18T03:00:37.145238Z",
     "start_time": "2019-01-18T03:00:36.814197Z"
    }
   },
   "outputs": [],
   "source": [
    "!subl 01-Tips-and-tricks.ipynb"
   ]
  },
  {
   "cell_type": "code",
   "execution_count": null,
   "metadata": {},
   "outputs": [],
   "source": []
  },
  {
   "cell_type": "code",
   "execution_count": null,
   "metadata": {},
   "outputs": [],
   "source": []
  },
  {
   "cell_type": "code",
   "execution_count": null,
   "metadata": {},
   "outputs": [],
   "source": []
  },
  {
   "cell_type": "code",
   "execution_count": null,
   "metadata": {},
   "outputs": [],
   "source": []
  },
  {
   "cell_type": "code",
   "execution_count": null,
   "metadata": {},
   "outputs": [],
   "source": []
  }
 ],
 "metadata": {
  "anaconda-cloud": {},
  "hide_input": false,
  "kernelspec": {
   "display_name": "dspy3",
   "language": "python",
   "name": "dspy3"
  },
  "language_info": {
   "codemirror_mode": {
    "name": "ipython",
    "version": 3
   },
   "file_extension": ".py",
   "mimetype": "text/x-python",
   "name": "python",
   "nbconvert_exporter": "python",
   "pygments_lexer": "ipython3",
   "version": "3.6.7"
  },
  "toc": {
   "base_numbering": 1,
   "nav_menu": {
    "height": "208px",
    "width": "252px"
   },
   "number_sections": true,
   "sideBar": true,
   "skip_h1_title": false,
   "title_cell": "Table of Contents",
   "title_sidebar": "Contents",
   "toc_cell": false,
   "toc_position": {},
   "toc_section_display": "block",
   "toc_window_display": false
  },
  "varInspector": {
   "cols": {
    "lenName": 16,
    "lenType": 16,
    "lenVar": 40
   },
   "kernels_config": {
    "python": {
     "delete_cmd_postfix": "",
     "delete_cmd_prefix": "del ",
     "library": "var_list.py",
     "varRefreshCmd": "print(var_dic_list())"
    },
    "r": {
     "delete_cmd_postfix": ") ",
     "delete_cmd_prefix": "rm(",
     "library": "var_list.r",
     "varRefreshCmd": "cat(var_dic_list()) "
    }
   },
   "types_to_exclude": [
    "module",
    "function",
    "builtin_function_or_method",
    "instance",
    "_Feature"
   ],
   "window_display": false
  },
  "widgets": {
   "state": {
    "1f2b33bdbf62410e92177b1ae2e22d0e": {
     "views": [
      {
       "cell_index": 9
      }
     ]
    }
   },
   "version": "1.2.0"
  }
 },
 "nbformat": 4,
 "nbformat_minor": 2
}
