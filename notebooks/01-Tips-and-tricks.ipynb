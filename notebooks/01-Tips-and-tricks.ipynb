{
 "cells": [
  {
   "cell_type": "markdown",
   "metadata": {},
   "source": [
    "# Tips and Tricks\n",
    "\n",
    "A markdown cell lets you do many _useful things_."
   ]
  },
  {
   "cell_type": "code",
   "execution_count": 1,
   "metadata": {
    "ExecuteTime": {
     "end_time": "2018-06-07T01:14:02.380086Z",
     "start_time": "2018-06-07T01:14:02.377445Z"
    }
   },
   "outputs": [],
   "source": [
    "# Add this to python2 code to make life easier -- safe to use in python3 as well.\n",
    "from __future__ import absolute_import, division, print_function"
   ]
  },
  {
   "cell_type": "code",
   "execution_count": 8,
   "metadata": {
    "ExecuteTime": {
     "end_time": "2018-06-07T01:14:24.087186Z",
     "start_time": "2018-06-07T01:14:24.084318Z"
    }
   },
   "outputs": [],
   "source": [
    "import numpy as np\n",
    "# don't do:\n",
    "# from numpy import *"
   ]
  },
  {
   "cell_type": "code",
   "execution_count": 9,
   "metadata": {
    "ExecuteTime": {
     "end_time": "2018-06-07T01:14:43.114807Z",
     "start_time": "2018-06-07T01:14:43.104514Z"
    }
   },
   "outputs": [
    {
     "data": {
      "text/plain": [
       "'a'"
      ]
     },
     "execution_count": 9,
     "metadata": {},
     "output_type": "execute_result"
    }
   ],
   "source": [
    "max('a')"
   ]
  },
  {
   "cell_type": "code",
   "execution_count": 10,
   "metadata": {
    "ExecuteTime": {
     "end_time": "2018-06-07T01:14:51.265425Z",
     "start_time": "2018-06-07T01:14:51.131296Z"
    }
   },
   "outputs": [
    {
     "ename": "TypeError",
     "evalue": "cannot perform reduce with flexible type",
     "output_type": "error",
     "traceback": [
      "\u001b[0;31m---------------------------------------------------------------------------\u001b[0m",
      "\u001b[0;31mTypeError\u001b[0m                                 Traceback (most recent call last)",
      "\u001b[0;32m<ipython-input-10-bc859c5c4752>\u001b[0m in \u001b[0;36m<module>\u001b[0;34m()\u001b[0m\n\u001b[0;32m----> 1\u001b[0;31m \u001b[0mnp\u001b[0m\u001b[0;34m.\u001b[0m\u001b[0mmax\u001b[0m\u001b[0;34m(\u001b[0m\u001b[0;34m'a'\u001b[0m\u001b[0;34m)\u001b[0m\u001b[0;34m\u001b[0m\u001b[0m\n\u001b[0m",
      "\u001b[0;32m~/miniconda3/envs/dspy3/lib/python3.6/site-packages/numpy/core/fromnumeric.py\u001b[0m in \u001b[0;36mamax\u001b[0;34m(a, axis, out, keepdims)\u001b[0m\n\u001b[1;32m   2270\u001b[0m \u001b[0;34m\u001b[0m\u001b[0m\n\u001b[1;32m   2271\u001b[0m     return _methods._amax(a, axis=axis,\n\u001b[0;32m-> 2272\u001b[0;31m                           out=out, **kwargs)\n\u001b[0m\u001b[1;32m   2273\u001b[0m \u001b[0;34m\u001b[0m\u001b[0m\n\u001b[1;32m   2274\u001b[0m \u001b[0;34m\u001b[0m\u001b[0m\n",
      "\u001b[0;32m~/miniconda3/envs/dspy3/lib/python3.6/site-packages/numpy/core/_methods.py\u001b[0m in \u001b[0;36m_amax\u001b[0;34m(a, axis, out, keepdims)\u001b[0m\n\u001b[1;32m     24\u001b[0m \u001b[0;31m# small reductions\u001b[0m\u001b[0;34m\u001b[0m\u001b[0;34m\u001b[0m\u001b[0m\n\u001b[1;32m     25\u001b[0m \u001b[0;32mdef\u001b[0m \u001b[0m_amax\u001b[0m\u001b[0;34m(\u001b[0m\u001b[0ma\u001b[0m\u001b[0;34m,\u001b[0m \u001b[0maxis\u001b[0m\u001b[0;34m=\u001b[0m\u001b[0;32mNone\u001b[0m\u001b[0;34m,\u001b[0m \u001b[0mout\u001b[0m\u001b[0;34m=\u001b[0m\u001b[0;32mNone\u001b[0m\u001b[0;34m,\u001b[0m \u001b[0mkeepdims\u001b[0m\u001b[0;34m=\u001b[0m\u001b[0;32mFalse\u001b[0m\u001b[0;34m)\u001b[0m\u001b[0;34m:\u001b[0m\u001b[0;34m\u001b[0m\u001b[0m\n\u001b[0;32m---> 26\u001b[0;31m     \u001b[0;32mreturn\u001b[0m \u001b[0mumr_maximum\u001b[0m\u001b[0;34m(\u001b[0m\u001b[0ma\u001b[0m\u001b[0;34m,\u001b[0m \u001b[0maxis\u001b[0m\u001b[0;34m,\u001b[0m \u001b[0;32mNone\u001b[0m\u001b[0;34m,\u001b[0m \u001b[0mout\u001b[0m\u001b[0;34m,\u001b[0m \u001b[0mkeepdims\u001b[0m\u001b[0;34m)\u001b[0m\u001b[0;34m\u001b[0m\u001b[0m\n\u001b[0m\u001b[1;32m     27\u001b[0m \u001b[0;34m\u001b[0m\u001b[0m\n\u001b[1;32m     28\u001b[0m \u001b[0;32mdef\u001b[0m \u001b[0m_amin\u001b[0m\u001b[0;34m(\u001b[0m\u001b[0ma\u001b[0m\u001b[0;34m,\u001b[0m \u001b[0maxis\u001b[0m\u001b[0;34m=\u001b[0m\u001b[0;32mNone\u001b[0m\u001b[0;34m,\u001b[0m \u001b[0mout\u001b[0m\u001b[0;34m=\u001b[0m\u001b[0;32mNone\u001b[0m\u001b[0;34m,\u001b[0m \u001b[0mkeepdims\u001b[0m\u001b[0;34m=\u001b[0m\u001b[0;32mFalse\u001b[0m\u001b[0;34m)\u001b[0m\u001b[0;34m:\u001b[0m\u001b[0;34m\u001b[0m\u001b[0m\n",
      "\u001b[0;31mTypeError\u001b[0m: cannot perform reduce with flexible type"
     ]
    }
   ],
   "source": [
    "np.max('a')"
   ]
  },
  {
   "cell_type": "code",
   "execution_count": 11,
   "metadata": {
    "ExecuteTime": {
     "end_time": "2018-06-07T01:15:16.893604Z",
     "start_time": "2018-06-07T01:15:16.587541Z"
    }
   },
   "outputs": [],
   "source": [
    "%matplotlib inline\n",
    "%config InlineBackend.figure_format='retina'"
   ]
  },
  {
   "cell_type": "code",
   "execution_count": 12,
   "metadata": {
    "ExecuteTime": {
     "end_time": "2018-06-07T01:16:04.509489Z",
     "start_time": "2018-06-07T01:16:03.869858Z"
    }
   },
   "outputs": [],
   "source": [
    "import pandas as pd\n",
    "import matplotlib.pyplot as plt\n",
    "import seaborn as sns\n",
    "import ipywidgets\n",
    "import os\n",
    "import sys\n",
    "import warnings\n",
    "warnings.filterwarnings('ignore')"
   ]
  },
  {
   "cell_type": "markdown",
   "metadata": {},
   "source": [
    "# Keyboard shortcuts\n",
    "\n",
    "Practice doing these a few times and try to force yourself to use them whenever you can. \n",
    "\n",
    "## Help (h)\n",
    "For help in the Notebook, `ESC` + `h`\n",
    "(doesn't work in Lab)"
   ]
  },
  {
   "cell_type": "markdown",
   "metadata": {},
   "source": [
    "## Select multiple cells\n",
    "\n",
    "j, k, and arrow keys while holding shift selects multiple cells."
   ]
  },
  {
   "cell_type": "code",
   "execution_count": null,
   "metadata": {
    "ExecuteTime": {
     "end_time": "2018-06-06T07:37:56.959097Z",
     "start_time": "2018-06-06T07:37:56.956227Z"
    }
   },
   "outputs": [],
   "source": [
    "first = 1"
   ]
  },
  {
   "cell_type": "code",
   "execution_count": null,
   "metadata": {
    "ExecuteTime": {
     "end_time": "2018-06-06T07:37:56.959097Z",
     "start_time": "2018-06-06T07:37:56.956227Z"
    }
   },
   "outputs": [],
   "source": [
    "second = 2"
   ]
  },
  {
   "cell_type": "code",
   "execution_count": 9,
   "metadata": {
    "ExecuteTime": {
     "end_time": "2018-06-06T07:37:56.959097Z",
     "start_time": "2018-06-06T07:37:56.956227Z"
    }
   },
   "outputs": [],
   "source": [
    "third = 3"
   ]
  },
  {
   "cell_type": "markdown",
   "metadata": {},
   "source": [
    "## Split a cell with -\n",
    "\n",
    "Well, ctrl + shift + -, but remember it by horizontal."
   ]
  },
  {
   "cell_type": "code",
   "execution_count": null,
   "metadata": {},
   "outputs": [],
   "source": []
  },
  {
   "cell_type": "code",
   "execution_count": null,
   "metadata": {},
   "outputs": [],
   "source": []
  },
  {
   "cell_type": "markdown",
   "metadata": {},
   "source": [
    "## Add a new cell (a)bove"
   ]
  },
  {
   "cell_type": "markdown",
   "metadata": {},
   "source": [
    "## Add a new cell (b)elow"
   ]
  },
  {
   "cell_type": "code",
   "execution_count": null,
   "metadata": {},
   "outputs": [],
   "source": []
  },
  {
   "cell_type": "markdown",
   "metadata": {},
   "source": [
    "## (d)(d)elete "
   ]
  },
  {
   "cell_type": "code",
   "execution_count": null,
   "metadata": {},
   "outputs": [],
   "source": []
  },
  {
   "cell_type": "code",
   "execution_count": null,
   "metadata": {},
   "outputs": [],
   "source": []
  },
  {
   "cell_type": "markdown",
   "metadata": {},
   "source": [
    "## (c)opy cells\n",
    "\n",
    "## (v)aste cells"
   ]
  },
  {
   "cell_type": "markdown",
   "metadata": {},
   "source": [
    "# Pivot Tables w/ pandas\n",
    "\n",
    "A library and example from: http://nicolas.kruchten.com/content/2015/09/jupyter_pivottablejs/"
   ]
  },
  {
   "cell_type": "code",
   "execution_count": 13,
   "metadata": {
    "ExecuteTime": {
     "end_time": "2018-06-07T01:20:12.033208Z",
     "start_time": "2018-06-07T01:20:12.018567Z"
    }
   },
   "outputs": [],
   "source": [
    "df = pd.read_csv(\"../data/mps.csv\", encoding=\"ISO-8859-1\")"
   ]
  },
  {
   "cell_type": "code",
   "execution_count": 14,
   "metadata": {
    "ExecuteTime": {
     "end_time": "2018-06-07T01:20:12.628113Z",
     "start_time": "2018-06-07T01:20:12.613964Z"
    }
   },
   "outputs": [
    {
     "data": {
      "text/html": [
       "<div>\n",
       "<style scoped>\n",
       "    .dataframe tbody tr th:only-of-type {\n",
       "        vertical-align: middle;\n",
       "    }\n",
       "\n",
       "    .dataframe tbody tr th {\n",
       "        vertical-align: top;\n",
       "    }\n",
       "\n",
       "    .dataframe thead th {\n",
       "        text-align: right;\n",
       "    }\n",
       "</style>\n",
       "<table border=\"1\" class=\"dataframe\">\n",
       "  <thead>\n",
       "    <tr style=\"text-align: right;\">\n",
       "      <th></th>\n",
       "      <th>Name</th>\n",
       "      <th>Party</th>\n",
       "      <th>Province</th>\n",
       "      <th>Age</th>\n",
       "      <th>Gender</th>\n",
       "    </tr>\n",
       "  </thead>\n",
       "  <tbody>\n",
       "    <tr>\n",
       "      <th>0</th>\n",
       "      <td>Liu, Laurin</td>\n",
       "      <td>NDP</td>\n",
       "      <td>Quebec</td>\n",
       "      <td>22.0</td>\n",
       "      <td>Female</td>\n",
       "    </tr>\n",
       "    <tr>\n",
       "      <th>1</th>\n",
       "      <td>Mourani, Maria</td>\n",
       "      <td>Bloc Quebecois</td>\n",
       "      <td>Quebec</td>\n",
       "      <td>43.0</td>\n",
       "      <td>Female</td>\n",
       "    </tr>\n",
       "    <tr>\n",
       "      <th>2</th>\n",
       "      <td>Sellah, Djaouida</td>\n",
       "      <td>NDP</td>\n",
       "      <td>Quebec</td>\n",
       "      <td>NaN</td>\n",
       "      <td>Female</td>\n",
       "    </tr>\n",
       "    <tr>\n",
       "      <th>3</th>\n",
       "      <td>St-Denis, Lise</td>\n",
       "      <td>NDP</td>\n",
       "      <td>Quebec</td>\n",
       "      <td>72.0</td>\n",
       "      <td>Female</td>\n",
       "    </tr>\n",
       "    <tr>\n",
       "      <th>4</th>\n",
       "      <td>Fry, Hedy</td>\n",
       "      <td>Liberal</td>\n",
       "      <td>British Columbia</td>\n",
       "      <td>71.0</td>\n",
       "      <td>Female</td>\n",
       "    </tr>\n",
       "    <tr>\n",
       "      <th>5</th>\n",
       "      <td>Turmel, Nycole</td>\n",
       "      <td>NDP</td>\n",
       "      <td>Quebec</td>\n",
       "      <td>70.0</td>\n",
       "      <td>Female</td>\n",
       "    </tr>\n",
       "    <tr>\n",
       "      <th>6</th>\n",
       "      <td>Sgro, Judy</td>\n",
       "      <td>Liberal</td>\n",
       "      <td>Ontario</td>\n",
       "      <td>68.0</td>\n",
       "      <td>Female</td>\n",
       "    </tr>\n",
       "    <tr>\n",
       "      <th>7</th>\n",
       "      <td>Raynault, Francine</td>\n",
       "      <td>NDP</td>\n",
       "      <td>Quebec</td>\n",
       "      <td>67.0</td>\n",
       "      <td>Female</td>\n",
       "    </tr>\n",
       "    <tr>\n",
       "      <th>8</th>\n",
       "      <td>Davidson, Patricia</td>\n",
       "      <td>Conservative</td>\n",
       "      <td>Ontario</td>\n",
       "      <td>66.0</td>\n",
       "      <td>Female</td>\n",
       "    </tr>\n",
       "    <tr>\n",
       "      <th>9</th>\n",
       "      <td>Smith, Joy</td>\n",
       "      <td>Conservative</td>\n",
       "      <td>Manitoba</td>\n",
       "      <td>65.0</td>\n",
       "      <td>Female</td>\n",
       "    </tr>\n",
       "  </tbody>\n",
       "</table>\n",
       "</div>"
      ],
      "text/plain": [
       "                 Name           Party          Province   Age  Gender\n",
       "0         Liu, Laurin             NDP            Quebec  22.0  Female\n",
       "1      Mourani, Maria  Bloc Quebecois            Quebec  43.0  Female\n",
       "2    Sellah, Djaouida             NDP            Quebec   NaN  Female\n",
       "3      St-Denis, Lise             NDP            Quebec  72.0  Female\n",
       "4           Fry, Hedy         Liberal  British Columbia  71.0  Female\n",
       "5      Turmel, Nycole             NDP            Quebec  70.0  Female\n",
       "6          Sgro, Judy         Liberal           Ontario  68.0  Female\n",
       "7  Raynault, Francine             NDP            Quebec  67.0  Female\n",
       "8  Davidson, Patricia    Conservative           Ontario  66.0  Female\n",
       "9          Smith, Joy    Conservative          Manitoba  65.0  Female"
      ]
     },
     "execution_count": 14,
     "metadata": {},
     "output_type": "execute_result"
    }
   ],
   "source": [
    "# recommend using .head()\n",
    "df.head(10)"
   ]
  },
  {
   "cell_type": "markdown",
   "metadata": {},
   "source": [
    "# Enhanced Pandas Dataframe Display"
   ]
  },
  {
   "cell_type": "code",
   "execution_count": 11,
   "metadata": {
    "ExecuteTime": {
     "end_time": "2018-06-06T07:38:03.725343Z",
     "start_time": "2018-06-06T07:38:03.723008Z"
    }
   },
   "outputs": [],
   "source": [
    "# Province, Party, Average, Age, Heatmap"
   ]
  },
  {
   "cell_type": "code",
   "execution_count": 15,
   "metadata": {
    "ExecuteTime": {
     "end_time": "2018-06-07T01:21:41.623315Z",
     "start_time": "2018-06-07T01:21:41.618874Z"
    }
   },
   "outputs": [],
   "source": [
    "from pivottablejs import pivot_ui"
   ]
  },
  {
   "cell_type": "code",
   "execution_count": 16,
   "metadata": {
    "ExecuteTime": {
     "end_time": "2018-06-07T01:21:42.485467Z",
     "start_time": "2018-06-07T01:21:42.477996Z"
    },
    "scrolled": false
   },
   "outputs": [
    {
     "data": {
      "text/html": [
       "\n",
       "        <iframe\n",
       "            width=\"100%\"\n",
       "            height=\"500\"\n",
       "            src=\"pivottablejs.html\"\n",
       "            frameborder=\"0\"\n",
       "            allowfullscreen\n",
       "        ></iframe>\n",
       "        "
      ],
      "text/plain": [
       "<IPython.lib.display.IFrame at 0x10da2c7b8>"
      ]
     },
     "execution_count": 16,
     "metadata": {},
     "output_type": "execute_result"
    }
   ],
   "source": [
    "pivot_ui(df)"
   ]
  },
  {
   "cell_type": "markdown",
   "metadata": {},
   "source": [
    "# Tab"
   ]
  },
  {
   "cell_type": "code",
   "execution_count": 17,
   "metadata": {
    "ExecuteTime": {
     "end_time": "2018-06-07T01:23:58.321357Z",
     "start_time": "2018-06-07T01:23:58.318476Z"
    }
   },
   "outputs": [],
   "source": [
    "import numpy as np"
   ]
  },
  {
   "cell_type": "code",
   "execution_count": 18,
   "metadata": {
    "ExecuteTime": {
     "end_time": "2018-06-07T01:24:58.913043Z",
     "start_time": "2018-06-07T01:24:58.726377Z"
    }
   },
   "outputs": [
    {
     "ename": "TypeError",
     "evalue": "chisquare() takes at least 1 positional argument (0 given)",
     "output_type": "error",
     "traceback": [
      "\u001b[0;31m---------------------------------------------------------------------------\u001b[0m",
      "\u001b[0;31mTypeError\u001b[0m                                 Traceback (most recent call last)",
      "\u001b[0;32m<ipython-input-18-8575d948e151>\u001b[0m in \u001b[0;36m<module>\u001b[0;34m()\u001b[0m\n\u001b[0;32m----> 1\u001b[0;31m \u001b[0mnp\u001b[0m\u001b[0;34m.\u001b[0m\u001b[0mrandom\u001b[0m\u001b[0;34m.\u001b[0m\u001b[0mchisquare\u001b[0m\u001b[0;34m(\u001b[0m\u001b[0msize\u001b[0m\u001b[0;34m=\u001b[0m\u001b[0;36m5\u001b[0m\u001b[0;34m)\u001b[0m\u001b[0;34m\u001b[0m\u001b[0m\n\u001b[0m",
      "\u001b[0;32mmtrand.pyx\u001b[0m in \u001b[0;36mmtrand.RandomState.chisquare\u001b[0;34m()\u001b[0m\n",
      "\u001b[0;31mTypeError\u001b[0m: chisquare() takes at least 1 positional argument (0 given)"
     ]
    }
   ],
   "source": [
    "np.random.chisquare(size=5)"
   ]
  },
  {
   "cell_type": "code",
   "execution_count": 20,
   "metadata": {
    "ExecuteTime": {
     "end_time": "2018-06-06T07:41:48.859315Z",
     "start_time": "2018-06-06T07:41:48.845245Z"
    }
   },
   "outputs": [
    {
     "ename": "TypeError",
     "evalue": "choice() takes at least 1 positional argument (0 given)",
     "output_type": "error",
     "traceback": [
      "\u001b[0;31m---------------------------------------------------------------------------\u001b[0m",
      "\u001b[0;31mTypeError\u001b[0m                                 Traceback (most recent call last)",
      "\u001b[0;32m<ipython-input-20-c3640c1907bc>\u001b[0m in \u001b[0;36m<module>\u001b[0;34m()\u001b[0m\n\u001b[1;32m      1\u001b[0m \u001b[0;31m# pure tab right ↓ less useful\u001b[0m\u001b[0;34m\u001b[0m\u001b[0;34m\u001b[0m\u001b[0m\n\u001b[0;32m----> 2\u001b[0;31m \u001b[0mnp\u001b[0m\u001b[0;34m.\u001b[0m\u001b[0mrandom\u001b[0m\u001b[0;34m.\u001b[0m\u001b[0mchoice\u001b[0m\u001b[0;34m(\u001b[0m\u001b[0;34m)\u001b[0m\u001b[0;34m\u001b[0m\u001b[0m\n\u001b[0m",
      "\u001b[0;32mmtrand.pyx\u001b[0m in \u001b[0;36mmtrand.RandomState.choice\u001b[0;34m()\u001b[0m\n",
      "\u001b[0;31mTypeError\u001b[0m: choice() takes at least 1 positional argument (0 given)"
     ]
    }
   ],
   "source": [
    "# pure tab right ↓ less useful\n",
    "np.random.choice()"
   ]
  },
  {
   "cell_type": "markdown",
   "metadata": {},
   "source": [
    "## shift-tab"
   ]
  },
  {
   "cell_type": "code",
   "execution_count": null,
   "metadata": {},
   "outputs": [],
   "source": [
    "# shift-tab right ↓ more useful\n",
    "np.linspace(start=, endpoint=, )"
   ]
  },
  {
   "cell_type": "markdown",
   "metadata": {},
   "source": [
    "## shift-tab-tab\n",
    "\n",
    "(equivalent in in Lab to shift-tab)"
   ]
  },
  {
   "cell_type": "code",
   "execution_count": null,
   "metadata": {},
   "outputs": [],
   "source": [
    "np.linspace(50, 150, num=100, endpoint=False, )"
   ]
  },
  {
   "cell_type": "markdown",
   "metadata": {},
   "source": [
    "## shift-tab-tab-tab-tab\n",
    "\n",
    "(doesn't work in lab)"
   ]
  },
  {
   "cell_type": "code",
   "execution_count": 21,
   "metadata": {
    "ExecuteTime": {
     "end_time": "2018-06-06T07:41:53.566846Z",
     "start_time": "2018-06-06T07:41:53.556479Z"
    }
   },
   "outputs": [
    {
     "ename": "NameError",
     "evalue": "name 'start' is not defined",
     "output_type": "error",
     "traceback": [
      "\u001b[0;31m---------------------------------------------------------------------------\u001b[0m",
      "\u001b[0;31mNameError\u001b[0m                                 Traceback (most recent call last)",
      "\u001b[0;32m<ipython-input-21-11c9917ff951>\u001b[0m in \u001b[0;36m<module>\u001b[0;34m()\u001b[0m\n\u001b[0;32m----> 1\u001b[0;31m \u001b[0mplt\u001b[0m\u001b[0;34m.\u001b[0m\u001b[0mplot\u001b[0m\u001b[0;34m(\u001b[0m\u001b[0mnp\u001b[0m\u001b[0;34m.\u001b[0m\u001b[0mlinspace\u001b[0m\u001b[0;34m(\u001b[0m\u001b[0mstart\u001b[0m\u001b[0;34m,\u001b[0m \u001b[0mstop\u001b[0m\u001b[0;34m,\u001b[0m \u001b[0mendpoint\u001b[0m\u001b[0;34m=\u001b[0m\u001b[0;32mTrue\u001b[0m\u001b[0;34m,\u001b[0m \u001b[0;34m)\u001b[0m\u001b[0;34m,\u001b[0m \u001b[0;34m)\u001b[0m\u001b[0;34m\u001b[0m\u001b[0m\n\u001b[0m",
      "\u001b[0;31mNameError\u001b[0m: name 'start' is not defined"
     ]
    }
   ],
   "source": [
    "plt.plot(np.linspace(start, stop,), )"
   ]
  },
  {
   "cell_type": "markdown",
   "metadata": {},
   "source": [
    "## ?"
   ]
  },
  {
   "cell_type": "code",
   "execution_count": 19,
   "metadata": {
    "ExecuteTime": {
     "end_time": "2018-06-07T01:27:46.346990Z",
     "start_time": "2018-06-07T01:27:46.341125Z"
    }
   },
   "outputs": [],
   "source": [
    "np.linspace?"
   ]
  },
  {
   "cell_type": "code",
   "execution_count": 19,
   "metadata": {
    "ExecuteTime": {
     "end_time": "2018-02-25T22:48:01.627327Z",
     "start_time": "2018-02-25T22:48:01.622461Z"
    },
    "collapsed": true
   },
   "outputs": [
    {
     "data": {
      "text/plain": [
       "\u001b[0;31mSignature:\u001b[0m \u001b[0mnp\u001b[0m\u001b[0;34m.\u001b[0m\u001b[0mlinspace\u001b[0m\u001b[0;34m(\u001b[0m\u001b[0mstart\u001b[0m\u001b[0;34m,\u001b[0m \u001b[0mstop\u001b[0m\u001b[0;34m,\u001b[0m \u001b[0mnum\u001b[0m\u001b[0;34m=\u001b[0m\u001b[0;36m50\u001b[0m\u001b[0;34m,\u001b[0m \u001b[0mendpoint\u001b[0m\u001b[0;34m=\u001b[0m\u001b[0;32mTrue\u001b[0m\u001b[0;34m,\u001b[0m \u001b[0mretstep\u001b[0m\u001b[0;34m=\u001b[0m\u001b[0;32mFalse\u001b[0m\u001b[0;34m,\u001b[0m \u001b[0mdtype\u001b[0m\u001b[0;34m=\u001b[0m\u001b[0;32mNone\u001b[0m\u001b[0;34m)\u001b[0m\u001b[0;34m\u001b[0m\u001b[0m\n",
       "\u001b[0;31mDocstring:\u001b[0m\n",
       "Return evenly spaced numbers over a specified interval.\n",
       "\n",
       "Returns `num` evenly spaced samples, calculated over the\n",
       "interval [`start`, `stop`].\n",
       "\n",
       "The endpoint of the interval can optionally be excluded.\n",
       "\n",
       "Parameters\n",
       "----------\n",
       "start : scalar\n",
       "    The starting value of the sequence.\n",
       "stop : scalar\n",
       "    The end value of the sequence, unless `endpoint` is set to False.\n",
       "    In that case, the sequence consists of all but the last of ``num + 1``\n",
       "    evenly spaced samples, so that `stop` is excluded.  Note that the step\n",
       "    size changes when `endpoint` is False.\n",
       "num : int, optional\n",
       "    Number of samples to generate. Default is 50. Must be non-negative.\n",
       "endpoint : bool, optional\n",
       "    If True, `stop` is the last sample. Otherwise, it is not included.\n",
       "    Default is True.\n",
       "retstep : bool, optional\n",
       "    If True, return (`samples`, `step`), where `step` is the spacing\n",
       "    between samples.\n",
       "dtype : dtype, optional\n",
       "    The type of the output array.  If `dtype` is not given, infer the data\n",
       "    type from the other input arguments.\n",
       "\n",
       "    .. versionadded:: 1.9.0\n",
       "\n",
       "Returns\n",
       "-------\n",
       "samples : ndarray\n",
       "    There are `num` equally spaced samples in the closed interval\n",
       "    ``[start, stop]`` or the half-open interval ``[start, stop)``\n",
       "    (depending on whether `endpoint` is True or False).\n",
       "step : float, optional\n",
       "    Only returned if `retstep` is True\n",
       "\n",
       "    Size of spacing between samples.\n",
       "\n",
       "\n",
       "See Also\n",
       "--------\n",
       "arange : Similar to `linspace`, but uses a step size (instead of the\n",
       "         number of samples).\n",
       "logspace : Samples uniformly distributed in log space.\n",
       "\n",
       "Examples\n",
       "--------\n",
       ">>> np.linspace(2.0, 3.0, num=5)\n",
       "array([ 2.  ,  2.25,  2.5 ,  2.75,  3.  ])\n",
       ">>> np.linspace(2.0, 3.0, num=5, endpoint=False)\n",
       "array([ 2. ,  2.2,  2.4,  2.6,  2.8])\n",
       ">>> np.linspace(2.0, 3.0, num=5, retstep=True)\n",
       "(array([ 2.  ,  2.25,  2.5 ,  2.75,  3.  ]), 0.25)\n",
       "\n",
       "Graphical illustration:\n",
       "\n",
       ">>> import matplotlib.pyplot as plt\n",
       ">>> N = 8\n",
       ">>> y = np.zeros(N)\n",
       ">>> x1 = np.linspace(0, 10, N, endpoint=True)\n",
       ">>> x2 = np.linspace(0, 10, N, endpoint=False)\n",
       ">>> plt.plot(x1, y, 'o')\n",
       "[<matplotlib.lines.Line2D object at 0x...>]\n",
       ">>> plt.plot(x2, y + 0.5, 'o')\n",
       "[<matplotlib.lines.Line2D object at 0x...>]\n",
       ">>> plt.ylim([-0.5, 1])\n",
       "(-0.5, 1)\n",
       ">>> plt.show()\n",
       "\u001b[0;31mFile:\u001b[0m      ~/miniconda3/envs/dspy3/lib/python3.6/site-packages/numpy/core/function_base.py\n",
       "\u001b[0;31mType:\u001b[0m      function\n"
      ]
     },
     "metadata": {},
     "output_type": "display_data"
    }
   ],
   "source": [
    "?np.linspace"
   ]
  },
  {
   "cell_type": "markdown",
   "metadata": {},
   "source": [
    "## ??\n",
    "\n",
    "(Lab can scroll if you click)"
   ]
  },
  {
   "cell_type": "code",
   "execution_count": 26,
   "metadata": {
    "ExecuteTime": {
     "end_time": "2018-06-07T01:30:32.162248Z",
     "start_time": "2018-06-07T01:30:32.146901Z"
    },
    "scrolled": false
   },
   "outputs": [],
   "source": [
    "np.linspace??"
   ]
  },
  {
   "cell_type": "code",
   "execution_count": 27,
   "metadata": {
    "ExecuteTime": {
     "end_time": "2018-06-07T01:31:05.359616Z",
     "start_time": "2018-06-07T01:31:05.183406Z"
    }
   },
   "outputs": [],
   "source": [
    "!subl ~/miniconda3/envs/dspy3/lib/python3.6/site-packages/numpy/core/function_base.py"
   ]
  },
  {
   "cell_type": "markdown",
   "metadata": {},
   "source": [
    "## Inspect _everything_ and Find and Replace"
   ]
  },
  {
   "cell_type": "code",
   "execution_count": 24,
   "metadata": {
    "ExecuteTime": {
     "end_time": "2018-06-07T01:29:54.829271Z",
     "start_time": "2018-06-07T01:29:54.826329Z"
    }
   },
   "outputs": [],
   "source": [
    "# But first find and replace\n",
    "def silly_function(xval):\n",
    "    \"\"\"Takes a value and returns the value.\"\"\"\n",
    "    xval_sq = xval ** 2.0\n",
    "    1 + 15\n",
    "    xval_abs = np.sqrt(xval_sq)\n",
    "    return xval_abs"
   ]
  },
  {
   "cell_type": "code",
   "execution_count": null,
   "metadata": {},
   "outputs": [],
   "source": [
    "silly_function(2,)"
   ]
  },
  {
   "cell_type": "code",
   "execution_count": 22,
   "metadata": {
    "ExecuteTime": {
     "end_time": "2018-06-07T01:29:40.891373Z",
     "start_time": "2018-06-07T01:29:40.886723Z"
    }
   },
   "outputs": [],
   "source": [
    "silly_function?"
   ]
  },
  {
   "cell_type": "code",
   "execution_count": 25,
   "metadata": {
    "ExecuteTime": {
     "end_time": "2018-06-07T01:30:00.379940Z",
     "start_time": "2018-06-07T01:30:00.372434Z"
    }
   },
   "outputs": [],
   "source": [
    "silly_function??"
   ]
  },
  {
   "cell_type": "markdown",
   "metadata": {},
   "source": [
    "## Line numbers (lowercase \"L\")\n",
    "\n",
    "Type lowercase \"L\" to have line numbers; shift-L for line numbers notebook-wide."
   ]
  },
  {
   "cell_type": "markdown",
   "metadata": {},
   "source": [
    "## Move blocks of code around\n",
    "\n",
    "\n",
    "### Indent/dedent\n",
    "\n",
    "    Cmd + [\n",
    "    Cmd + ]\n",
    "\n",
    "### Comment\n",
    "\n",
    "    Cmd + /"
   ]
  },
  {
   "cell_type": "code",
   "execution_count": 29,
   "metadata": {
    "ExecuteTime": {
     "end_time": "2018-06-07T01:37:20.733430Z",
     "start_time": "2018-06-07T01:37:20.730222Z"
    }
   },
   "outputs": [],
   "source": [
    "example_dict = {}\n",
    "\n",
    "# Indent/dedent/comment\n",
    "for _ in range(5):\n",
    "    example_dict[\"one\"] = 1\n",
    "    example_dict[\"two\"] = 2\n",
    "    example_dict[\"three\"] = 3\n",
    "    example_dict[\"four\"] = 4"
   ]
  },
  {
   "cell_type": "markdown",
   "metadata": {},
   "source": [
    "## Multicursor magic\n",
    "\n",
    "Hold down `option`, click and drag (for big cursor).\n",
    "\n",
    "cmd + click == wherever you click. \n",
    "\n",
    "Shift command P -- command palette."
   ]
  },
  {
   "cell_type": "code",
   "execution_count": 30,
   "metadata": {
    "ExecuteTime": {
     "end_time": "2018-06-07T01:37:21.236712Z",
     "start_time": "2018-06-07T01:37:21.233483Z"
    }
   },
   "outputs": [],
   "source": [
    "example_dict[\"one_better\"] = 1.0\n",
    "example_dict[\"two_better\"] = 2.0\n",
    "example_dict[\"three_better\"] = 3.0\n",
    "example_dict[\"four_better\"] = 4.0"
   ]
  },
  {
   "cell_type": "markdown",
   "metadata": {},
   "source": [
    "## Monospace"
   ]
  },
  {
   "cell_type": "markdown",
   "metadata": {},
   "source": [
    "You can also get `monospaced` fonts by indenting 4 spaces:\n",
    "\n",
    "    mkdir toc\n",
    "    cd toc"
   ]
  },
  {
   "cell_type": "markdown",
   "metadata": {},
   "source": [
    "## Syntax Highlighting"
   ]
  },
  {
   "cell_type": "markdown",
   "metadata": {},
   "source": [
    "Wrap with triple-backticks and language:\n",
    "\n",
    "```bash\n",
    "mkdir toc\n",
    "cd toc\n",
    "wget https://repo.continuum.io/miniconda/Miniconda3-latest-MacOSX-x86_64.sh\n",
    "```"
   ]
  },
  {
   "cell_type": "markdown",
   "metadata": {},
   "source": [
    "```SQL\n",
    "SELECT first_name,\n",
    "       last_name,\n",
    "       year_of_birth\n",
    "FROM presidents\n",
    "WHERE year_of_birth > 1800;\n",
    "```"
   ]
  },
  {
   "cell_type": "markdown",
   "metadata": {},
   "source": [
    "## Headings and LaTeX\n",
    "\n",
    "With text and $\\LaTeX$ support.\n",
    "\n",
    "$$\\begin{align}\n",
    "        B'&=-\\nabla \\times E,\\\\\n",
    "        E'&=\\nabla \\times B - 4\\pi j\n",
    "\\end{align}$$"
   ]
  },
  {
   "cell_type": "markdown",
   "metadata": {},
   "source": [
    "# Magics\n",
    "\n",
    " - `%` $\\equiv$ inline magic\n",
    " - `%%` $\\equiv$ cell magic"
   ]
  },
  {
   "cell_type": "code",
   "execution_count": 33,
   "metadata": {
    "ExecuteTime": {
     "end_time": "2018-06-07T01:40:24.559939Z",
     "start_time": "2018-06-07T01:40:24.555189Z"
    }
   },
   "outputs": [
    {
     "data": {
      "text/latex": [
       "\n",
       "If you want to get crazier$\\ldots$\n",
       "\n",
       "\\begin{equation}\n",
       "\\oint_S {E_n dA = \\frac{1}{{\\varepsilon _0 }}} Q_\\textrm{inside}\n",
       "\\end{equation}"
      ],
      "text/plain": [
       "<IPython.core.display.Latex object>"
      ]
     },
     "metadata": {},
     "output_type": "display_data"
    }
   ],
   "source": [
    "%%latex\n",
    "\n",
    "If you want to get crazier$\\ldots$\n",
    "\n",
    "\\begin{equation}\n",
    "\\oint_S {E_n dA = \\frac{1}{{\\varepsilon _0 }}} Q_\\textrm{inside}\n",
    "\\end{equation}"
   ]
  },
  {
   "cell_type": "code",
   "execution_count": 34,
   "metadata": {
    "ExecuteTime": {
     "end_time": "2018-06-07T01:41:20.413022Z",
     "start_time": "2018-06-07T01:41:19.149012Z"
    },
    "collapsed": true
   },
   "outputs": [
    {
     "name": "stdout",
     "output_type": "stream",
     "text": [
      "./\n",
      "./00README\n",
      "./atom.dat\n",
      "./atomtab.f\n",
      "./autovpin.f\n",
      "./bintofits.f\n",
      "./calcn.f\n",
      "./case.f\n",
      "./chanwav.f\n",
      "./checkb.f\n",
      "./chisum26.f\n",
      "./cmax1.f\n",
      "./cms_src.f\n",
      "./com_cons.f\n",
      "./dcholin.f\n",
      "./dexpf.f\n",
      "./dlycabscft.f\n",
      "./docs/\n",
      "./docs/rdgen10.2.pdf\n",
      "./docs/vpfit10.2.pdf\n",
      "./dotick.f\n",
      "./dpoly.f\n",
      "./dsepvar.f\n",
      "./eigen.f\n",
      "./erfcc.f\n",
      "./externals.f\n",
      "./fl_gen.f\n",
      "./gen_vpin.f\n",
      "./ginsert.f\n",
      "./gu_tabsort.f\n",
      "./hedit.f\n",
      "./linfit.f\n",
      "./lm_udchole.f\n",
      "./lyregset.f\n",
      "./makefile\n",
      "./medianv.f\n",
      "./MMatomdat_atom_noiso.dat\n",
      "./pda_che2d.f\n",
      "./pda_dp1vlu.f\n",
      "./pda_dpcoef.f\n",
      "./pda_dpolft.f\n",
      "./pda_qsiad.f\n",
      "./pda_src.f\n",
      "./pda_xermsg.f\n",
      "./pgfiles/\n",
      "./pgfiles/Al.pg\n",
      "./pgfiles/AlSi.pg\n",
      "./pgfiles/CaII.pg\n",
      "./pgfiles/CI2.pg\n",
      "./pgfiles/CIH2.pg\n",
      "./pgfiles/CII.pg\n",
      "./pgfiles/CII.pg~\n",
      "./pgfiles/CIIOI.pg\n",
      "./pgfiles/CIIOI.pg~\n",
      "./pgfiles/CIISi.pg\n",
      "./pgfiles/CIV.pg\n",
      "./pgfiles/CIVSiIV.pg\n",
      "./pgfiles/CrZn.pg\n",
      "./pgfiles/FeII.pg\n",
      "./pgfiles/FeIIhi.pg\n",
      "./pgfiles/hc.pg\n",
      "./pgfiles/HC4.pg\n",
      "./pgfiles/HCNlo.pg\n",
      "./pgfiles/hcnosi.pg\n",
      "./pgfiles/hcsi.pg\n",
      "./pgfiles/HD.pg\n",
      "./pgfiles/HDs.pg\n",
      "./pgfiles/HHC4N5O6.pg\n",
      "./pgfiles/HHC4O6.pg\n",
      "./pgfiles/HHC4O6Si4.pg\n",
      "./pgfiles/HHC4Si4.pg\n",
      "./pgfiles/HHO6.pg\n",
      "./pgfiles/hiHCNO.pg\n",
      "./pgfiles/hiHCOSi.pg\n",
      "./pgfiles/hiion.pg\n",
      "./pgfiles/hiSi.pg\n",
      "./pgfiles/HNI.pg\n",
      "./pgfiles/HOhi.pg\n",
      "./pgfiles/HQhi.pg\n",
      "./pgfiles/Hvhi.pg\n",
      "./pgfiles/LaCIV.pg\n",
      "./pgfiles/LaN.pg\n",
      "./pgfiles/laonly.pg\n",
      "./pgfiles/LL.pg\n",
      "./pgfiles/LLO.pg\n",
      "./pgfiles/llyman.pg\n",
      "./pgfiles/loc.pg\n",
      "./pgfiles/local.pg\n",
      "./pgfiles/lohi.pg\n",
      "./pgfiles/lointhi.pg\n",
      "./pgfiles/lointz.pg\n",
      "./pgfiles/loion.pg\n",
      "./pgfiles/loloz.pg\n",
      "./pgfiles/lorare.pg\n",
      "./pgfiles/lowz.pg\n",
      "./pgfiles/lowzFeII.pg\n",
      "./pgfiles/ly4.pg\n",
      "./pgfiles/lyabg.pg\n",
      "./pgfiles/lyman.pg\n",
      "./pgfiles/lyman8.pg\n",
      "./pgfiles/MgFeMn.pg\n",
      "./pgfiles/MgICI.pg\n",
      "./pgfiles/MgII.pg\n",
      "./pgfiles/MgIIFeII.pg\n",
      "./pgfiles/NaCa.pg\n",
      "./pgfiles/NiII.pg\n",
      "./pgfiles/nitrogen.pg\n",
      "./pgfiles/NV.pg\n",
      "./pgfiles/OI.pg\n",
      "./pgfiles/OIArI.pg\n",
      "./pgfiles/oneline.pg\n",
      "./pgfiles/OSipair.pg\n",
      "./pgfiles/OVI.pg\n",
      "./pgfiles/OVIHI.pg\n",
      "./pgfiles/range.pg\n",
      "./pgfiles/sdlaion.pg\n",
      "./pgfiles/SiII.pg\n",
      "./pgfiles/SiIIfs.pg\n",
      "./pgfiles/SiIIl.pg\n",
      "./pgfiles/SiIV.pg\n",
      "./pgfiles/stloion.pg\n",
      "./pgfiles/strong.pg\n",
      "./pgfiles/TiII.pg\n",
      "./pgfiles/ultralow.pg\n",
      "./pgfiles/vhiHCNO.pg\n",
      "./pldef.f\n",
      "./plset.f\n",
      "./pr_mdian1.f\n",
      "./prg_polyd.f\n",
      "./probks.f\n",
      "./rd_ablin.f\n",
      "./rd_adnois.f\n",
      "./rd_alias.f\n",
      "./rd_comalias.f\n",
      "./rd_compreset.f\n",
      "./rd_cuchstr.f\n",
      "./rd_cufilnm.f\n",
      "./rd_cuplot.f\n",
      "./rd_cuwvrest.f\n",
      "./rd_cydata.f\n",
      "./rd_daswap.f\n",
      "./rd_dblid.f\n",
      "./rd_dmanip.f\n",
      "./rd_drebin.f\n",
      "./rd_dvcont.f\n",
      "./rd_estcolb.f\n",
      "./rd_ewwav.f\n",
      "./rd_extabs.f\n",
      "./rd_fluxbb.f\n",
      "./rd_gen.f\n",
      "./rd_gprof.f\n",
      "./rd_gprofe.f\n",
      "./rd_gpsim.f\n",
      "./rd_hdust.f\n",
      "./rd_intvtab.f\n",
      "./rd_markreg.f\n",
      "./rd_mattrd.f\n",
      "./rd_meantau.f\n",
      "./rd_moderrs.f\n",
      "./rd_multiset.f\n",
      "./rd_pgannot.f\n",
      "./rd_plcset.f\n",
      "./rd_pmpset.f\n",
      "./rd_prhelp.dat\n",
      "./rd_prhelp.f\n",
      "./rd_qdatafiles.f\n",
      "./rd_readlinwav.f\n",
      "./rd_sclsig.f\n",
      "./rd_scrn.f\n",
      "./rd_setintv.f\n",
      "./rd_sizes.f\n",
      "./rd_splvtick.f\n",
      "./rd_stackz.f\n",
      "./rd_start.dat\n",
      "./rd_stplot.f\n",
      "./rd_tgplots.f\n",
      "./rd_tickvpfl.f\n",
      "./rd_ulims.f\n",
      "./rd_ulimse.f\n",
      "./rd_ulimx.f\n",
      "./rd_ulinfo.f\n",
      "./rd_wrfits.f\n",
      "./rd_wrwcfits.f\n",
      "./rd_wvsc.f\n",
      "./rd_xcdc.f\n",
      "./rd_zcorr.f\n",
      "./rd_ztabcf.f\n",
      "./sepvar.f\n",
      "./splot.f\n",
      "./spvoigt.f\n",
      "./svbksbd.f\n",
      "./svdajc.f\n",
      "./svdcmpd.f\n",
      "./svdfit.f\n",
      "./test.f\n",
      "./tickpg.f\n",
      "./tiedb.f\n",
      "./tikset.f\n",
      "./tstfit3d.f\n",
      "./udchole.f\n",
      "./varythis.f\n",
      "./voigt_king.f\n",
      "./vp_abfind.f\n",
      "./vp_abundset.f\n",
      "./vp_addline.f\n",
      "./vp_addxlink.f\n",
      "./vp_archwav.f\n",
      "./vp_asciin.f\n",
      "./vp_ationsep.f\n",
      "./vp_atomass.f\n",
      "./vp_blfixf.f\n",
      "./vp_cfcopy.f\n",
      "./vp_chanwav.f\n",
      "./vp_charlims.f\n",
      "./vp_chdisprof.f\n",
      "./vp_checkn.f\n",
      "./vp_chipconv.f\n",
      "./vp_chsation.f\n",
      "./vp_chspread.f\n",
      "./vp_cmssrc.f\n",
      "./vp_curse.f\n",
      "./vp_cval.f\n",
      "./vp_dattim.f\n",
      "./vp_dattim_alt.f\n",
      "./vp_deriv.f\n",
      "./vp_dlinin.f\n",
      "./vp_dlset.f\n",
      "./vp_dotick.f\n",
      "./vp_emlsmry.f\n",
      "./vp_empval.f\n",
      "./vp_emscchk.f\n",
      "./vp_emtset.f\n",
      "./vp_endorder.f\n",
      "./vp_endrej.f\n",
      "./vp_errej.f\n",
      "./vp_ewred.f\n",
      "./vp_f13fin.f\n",
      "./vp_f13finx.f\n",
      "./vp_f13read.f\n",
      "./vp_f_sigscl.f\n",
      "./vp_fgf13write.f\n",
      "./vp_flchderivs.f\n",
      "./vp_fnzbin.f\n",
      "./vp_getargs.f\n",
      "./vp_getres.f\n",
      "./vp_gglwcoeff.f\n",
      "./vp_gsclfts.f\n",
      "./vp_gwatfits.f\n",
      "./vp_initval.f\n",
      "./vp_ionregcheck.f\n",
      "./vp_ksvnorm.f\n",
      "./vp_lineid.f\n",
      "./vp_linlim.f\n",
      "./vp_listfiles.f\n",
      "./vp_lycont.f\n",
      "./vp_lyconte.f\n",
      "./vp_minpol.f\n",
      "./vp_minquad.f\n",
      "./vp_nearlin.f\n",
      "./vp_newtfxl.f\n",
      "./vp_pareorder.f\n",
      "./vp_parmcest.f\n",
      "./vp_pgbegin.f\n",
      "./vp_pgcurs.f\n",
      "./vp_plcset.f\n",
      "./vp_poisson.f\n",
      "./vp_presetsys.f\n",
      "./vp_psfinterp.f\n",
      "./vp_rdbwvfts.f\n",
      "./vp_rdlines.f\n",
      "./vp_rdspecial.f\n",
      "./vp_rdwaveval.f\n",
      "./vp_readfits.f\n",
      "./vp_rfitsext.f\n",
      "./vp_runstst.f\n",
      "./vp_rwlims.f\n",
      "./vp_scontf.f\n",
      "./vp_setintv.f\n",
      "./vp_setoptn.f\n",
      "./vp_setup.dat\n",
      "./vp_sizes.f\n",
      "./vp_smry.f\n",
      "./vp_spdatin.f\n",
      "./vp_splot.dat\n",
      "./vp_spread.f\n",
      "./vp_spvoigte.f\n",
      "./vp_srcpath.f\n",
      "./vp_startval.f\n",
      "./vp_stration.f\n",
      "./vp_stripcmt.f\n",
      "./vp_subchspread.f\n",
      "./vp_sumlinclear.f\n",
      "./vp_sysdel.f\n",
      "./vp_tdcolset.f\n",
      "./vp_tieval.f\n",
      "./vp_trimattab.f\n",
      "./vp_tsetxref.f\n",
      "./vp_ucheck.f\n",
      "./vp_ucoptv.f\n",
      "./vp_ucprinerr.f\n",
      "./vp_ucprinit.f\n",
      "./vp_usdef.f\n",
      "./vp_vreset.f\n",
      "./vp_wrt25.f\n",
      "./vp_wval.f\n",
      "./vp_wvalch.f\n",
      "./vp_wvalsubch.f\n",
      "./vp_wverass.f\n",
      "./vpf_bvalsp.f\n",
      "./vpf_dvresn.f\n",
      "./vpfit.f\n",
      "./vpgti.f\n",
      "./vppreset.com\n",
      "./vpreset.awk\n",
      "./wcor.f\n",
      "./wval.f\n"
     ]
    },
    {
     "name": "stderr",
     "output_type": "stream",
     "text": [
      "--2018-06-06 18:41:19--  http://www.ast.cam.ac.uk/~rfc/vpfit10.2.tar.gz\n",
      "Resolving www.ast.cam.ac.uk (www.ast.cam.ac.uk)... 131.111.71.71\n",
      "Connecting to www.ast.cam.ac.uk (www.ast.cam.ac.uk)|131.111.71.71|:80... connected.\n",
      "HTTP request sent, awaiting response... 301 Moved Permanently\n",
      "Location: https://www.ast.cam.ac.uk:443/~rfc/vpfit10.2.tar.gz [following]\n",
      "--2018-06-06 18:41:19--  https://www.ast.cam.ac.uk/~rfc/vpfit10.2.tar.gz\n",
      "Connecting to www.ast.cam.ac.uk (www.ast.cam.ac.uk)|131.111.71.71|:443... connected.\n",
      "HTTP request sent, awaiting response... 404 Not Found\n",
      "2018-06-06 18:41:20 ERROR 404: Not Found.\n",
      "\n",
      "mkdir: vpfit10: File exists\n"
     ]
    }
   ],
   "source": [
    "%%bash\n",
    "wget http://www.ast.cam.ac.uk/~rfc/vpfit10.2.tar.gz\n",
    "mkdir vpfit10\n",
    "cd vpfit10\n",
    "tar -xvzf ../vpfit10.2.tar.gz"
   ]
  },
  {
   "cell_type": "code",
   "execution_count": 35,
   "metadata": {
    "ExecuteTime": {
     "end_time": "2018-06-07T01:43:04.370618Z",
     "start_time": "2018-06-07T01:43:04.241296Z"
    }
   },
   "outputs": [
    {
     "name": "stdout",
     "output_type": "stream",
     "text": [
      "00-Overview.ipynb                Advanced-Notebook-Tricks.ipynb\r\n",
      "01-Tips-and-tricks.ipynb         Basic-Plotting.ipynb\r\n",
      "02-NBExtensions.ipynb            Data_Cleaning.ipynb\r\n",
      "03-Interactive-Splines.ipynb     ex1.png\r\n",
      "04-Autoreload.ipynb              history.ipynb\r\n",
      "05-SQL-Example.ipynb             jupyterlab-example.md\r\n",
      "06-Advanced-Visualization.ipynb  pivottablejs.html\r\n",
      "07-Some_basics.ipynb             presidents.sqlite\r\n",
      "08-More_basics.ipynb             \u001b[34mvpfit10\u001b[m\u001b[m/\r\n",
      "09-Extras.ipynb                  vpfit10.2.tar.gz\r\n",
      "10-R-stuff.ipynb                 vpfit10.2.tar.gz.1\r\n",
      "11-older-stuff.ipynb             vpfit10.2.tar.gz.2\r\n",
      "12-old-pandas.ipynb              vpfit10.2.tar.gz.3\r\n",
      "3d-example-plot.html\r\n"
     ]
    }
   ],
   "source": [
    "ls"
   ]
  },
  {
   "cell_type": "code",
   "execution_count": 30,
   "metadata": {
    "ExecuteTime": {
     "end_time": "2018-02-25T23:04:53.060397Z",
     "start_time": "2018-02-25T23:04:52.932896Z"
    }
   },
   "outputs": [
    {
     "name": "stdout",
     "output_type": "stream",
     "text": [
      "00-Overview.ipynb               3d-example-plot.html\n",
      "01-Tips-and-tricks.ipynb        Advanced-Notebook-Tricks.ipynb\n",
      "02-NBExtensions.ipynb           Basic-Plotting.ipynb\n",
      "03-Interactive-Splines.ipynb    Data_Cleaning.ipynb\n",
      "04-Autoreload.ipynb             ex1.png\n",
      "05-SQL-Example.ipynb            pivottablejs.html\n",
      "06-Advanced-Visualization.ipynb presidents.sqlite\n",
      "07-Some_basics.ipynb            \u001b[34mvpfit10\u001b[m\u001b[m\n",
      "08-More_basics.ipynb            vpfit10.2.tar.gz\n",
      "09-Extras.ipynb                 vpfit10.2.tar.gz.1\n",
      "10-R-stuff.ipynb                vpfit10.2.tar.gz.2\n",
      "11-older-stuff.ipynb            vpfit10.2.tar.gz.3\n",
      "12-old-pandas.ipynb\n"
     ]
    }
   ],
   "source": [
    "!ls"
   ]
  },
  {
   "cell_type": "code",
   "execution_count": 31,
   "metadata": {
    "ExecuteTime": {
     "end_time": "2018-02-25T23:05:08.445365Z",
     "start_time": "2018-02-25T23:05:08.318155Z"
    }
   },
   "outputs": [
    {
     "name": "stdout",
     "output_type": "stream",
     "text": [
      "00-Overview.ipynb                3d-example-plot.html\n",
      "01-Tips-and-tricks.ipynb         Advanced-Notebook-Tricks.ipynb\n",
      "02-NBExtensions.ipynb            Basic-Plotting.ipynb\n",
      "03-Interactive-Splines.ipynb     Data_Cleaning.ipynb\n",
      "04-Autoreload.ipynb              ex1.png\n",
      "05-SQL-Example.ipynb             pivottablejs.html\n",
      "06-Advanced-Visualization.ipynb  presidents.sqlite\n",
      "07-Some_basics.ipynb             \u001b[34mvpfit10\u001b[m\u001b[m/\n",
      "08-More_basics.ipynb             vpfit10.2.tar.gz\n",
      "09-Extras.ipynb                  vpfit10.2.tar.gz.1\n",
      "10-R-stuff.ipynb                 vpfit10.2.tar.gz.2\n",
      "11-older-stuff.ipynb             vpfit10.2.tar.gz.3\n",
      "12-old-pandas.ipynb\n"
     ]
    }
   ],
   "source": [
    "%ls"
   ]
  },
  {
   "cell_type": "code",
   "execution_count": 36,
   "metadata": {
    "ExecuteTime": {
     "end_time": "2018-06-07T01:43:31.212664Z",
     "start_time": "2018-06-07T01:43:31.084900Z"
    }
   },
   "outputs": [
    {
     "name": "stdout",
     "output_type": "stream",
     "text": [
      "00README                  rd_plcset.f               vp_f_sigscl.f\r\n",
      "MMatomdat_atom_noiso.dat  rd_pmpset.f               vp_fgf13write.f\r\n",
      "atom.dat                  rd_prhelp.dat             vp_flchderivs.f\r\n",
      "atomtab.f                 rd_prhelp.f               vp_fnzbin.f\r\n",
      "autovpin.f                rd_qdatafiles.f           vp_getargs.f\r\n",
      "bintofits.f               rd_readlinwav.f           vp_getres.f\r\n",
      "calcn.f                   rd_sclsig.f               vp_gglwcoeff.f\r\n",
      "case.f                    rd_scrn.f                 vp_gsclfts.f\r\n",
      "chanwav.f                 rd_setintv.f              vp_gwatfits.f\r\n",
      "checkb.f                  rd_sizes.f                vp_initval.f\r\n",
      "chisum26.f                rd_splvtick.f             vp_ionregcheck.f\r\n",
      "cmax1.f                   rd_stackz.f               vp_ksvnorm.f\r\n",
      "cms_src.f                 rd_start.dat              vp_lineid.f\r\n",
      "com_cons.f                rd_stplot.f               vp_linlim.f\r\n",
      "dcholin.f                 rd_tgplots.f              vp_listfiles.f\r\n",
      "dexpf.f                   rd_tickvpfl.f             vp_lycont.f\r\n",
      "dlycabscft.f              rd_ulims.f                vp_lyconte.f\r\n",
      "\u001b[34mdocs\u001b[m\u001b[m/                     rd_ulimse.f               vp_minpol.f\r\n",
      "dotick.f                  rd_ulimx.f                vp_minquad.f\r\n",
      "dpoly.f                   rd_ulinfo.f               vp_nearlin.f\r\n",
      "dsepvar.f                 rd_wrfits.f               vp_newtfxl.f\r\n",
      "eigen.f                   rd_wrwcfits.f             vp_pareorder.f\r\n",
      "erfcc.f                   rd_wvsc.f                 vp_parmcest.f\r\n",
      "externals.f               rd_xcdc.f                 vp_pgbegin.f\r\n",
      "fl_gen.f                  rd_zcorr.f                vp_pgcurs.f\r\n",
      "gen_vpin.f                rd_ztabcf.f               vp_plcset.f\r\n",
      "ginsert.f                 sepvar.f                  vp_poisson.f\r\n",
      "gu_tabsort.f              splot.f                   vp_presetsys.f\r\n",
      "hedit.f                   spvoigt.f                 vp_psfinterp.f\r\n",
      "linfit.f                  svbksbd.f                 vp_rdbwvfts.f\r\n",
      "lm_udchole.f              svdajc.f                  vp_rdlines.f\r\n",
      "lyregset.f                svdcmpd.f                 vp_rdspecial.f\r\n",
      "\u001b[31mmakefile\u001b[m\u001b[m*                 svdfit.f                  vp_rdwaveval.f\r\n",
      "medianv.f                 test.f                    vp_readfits.f\r\n",
      "pda_che2d.f               tickpg.f                  vp_rfitsext.f\r\n",
      "pda_dp1vlu.f              tiedb.f                   vp_runstst.f\r\n",
      "pda_dpcoef.f              tikset.f                  vp_rwlims.f\r\n",
      "pda_dpolft.f              tstfit3d.f                vp_scontf.f\r\n",
      "pda_qsiad.f               udchole.f                 vp_setintv.f\r\n",
      "pda_src.f                 varythis.f                vp_setoptn.f\r\n",
      "pda_xermsg.f              voigt_king.f              vp_setup.dat\r\n",
      "\u001b[34mpgfiles\u001b[m\u001b[m/                  vp_abfind.f               vp_sizes.f\r\n",
      "pldef.f                   vp_abundset.f             vp_smry.f\r\n",
      "plset.f                   vp_addline.f              vp_spdatin.f\r\n",
      "pr_mdian1.f               vp_addxlink.f             vp_splot.dat\r\n",
      "prg_polyd.f               vp_archwav.f              vp_spread.f\r\n",
      "probks.f                  vp_asciin.f               vp_spvoigte.f\r\n",
      "rd_ablin.f                vp_ationsep.f             vp_srcpath.f\r\n",
      "rd_adnois.f               vp_atomass.f              vp_startval.f\r\n",
      "rd_alias.f                vp_blfixf.f               vp_stration.f\r\n",
      "rd_comalias.f             vp_cfcopy.f               vp_stripcmt.f\r\n",
      "rd_compreset.f            vp_chanwav.f              vp_subchspread.f\r\n",
      "rd_cuchstr.f              vp_charlims.f             vp_sumlinclear.f\r\n",
      "rd_cufilnm.f              vp_chdisprof.f            vp_sysdel.f\r\n",
      "rd_cuplot.f               vp_checkn.f               vp_tdcolset.f\r\n",
      "rd_cuwvrest.f             vp_chipconv.f             vp_tieval.f\r\n",
      "rd_cydata.f               vp_chsation.f             vp_trimattab.f\r\n",
      "rd_daswap.f               vp_chspread.f             vp_tsetxref.f\r\n",
      "rd_dblid.f                vp_cmssrc.f               vp_ucheck.f\r\n",
      "rd_dmanip.f               vp_curse.f                vp_ucoptv.f\r\n",
      "rd_drebin.f               vp_cval.f                 vp_ucprinerr.f\r\n",
      "rd_dvcont.f               vp_dattim.f               vp_ucprinit.f\r\n",
      "rd_estcolb.f              vp_dattim_alt.f           vp_usdef.f\r\n",
      "rd_ewwav.f                vp_deriv.f                vp_vreset.f\r\n",
      "rd_extabs.f               vp_dlinin.f               vp_wrt25.f\r\n",
      "rd_fluxbb.f               vp_dlset.f                vp_wval.f\r\n",
      "rd_gen.f                  vp_dotick.f               vp_wvalch.f\r\n",
      "rd_gprof.f                vp_emlsmry.f              vp_wvalsubch.f\r\n",
      "rd_gprofe.f               vp_empval.f               vp_wverass.f\r\n",
      "rd_gpsim.f                vp_emscchk.f              vpf_bvalsp.f\r\n",
      "rd_hdust.f                vp_emtset.f               vpf_dvresn.f\r\n",
      "rd_intvtab.f              vp_endorder.f             vpfit.f\r\n",
      "rd_markreg.f              vp_endrej.f               vpgti.f\r\n",
      "rd_mattrd.f               vp_errej.f                vppreset.com\r\n",
      "rd_meantau.f              vp_ewred.f                vpreset.awk\r\n",
      "rd_moderrs.f              vp_f13fin.f               wcor.f\r\n",
      "rd_multiset.f             vp_f13finx.f              wval.f\r\n",
      "rd_pgannot.f              vp_f13read.f\r\n"
     ]
    }
   ],
   "source": [
    "ls vpfit10/"
   ]
  },
  {
   "cell_type": "code",
   "execution_count": 37,
   "metadata": {
    "ExecuteTime": {
     "end_time": "2018-06-07T01:43:42.486180Z",
     "start_time": "2018-06-07T01:43:42.483602Z"
    }
   },
   "outputs": [],
   "source": [
    "tailthing = \"*.ipynb\""
   ]
  },
  {
   "cell_type": "code",
   "execution_count": 38,
   "metadata": {
    "ExecuteTime": {
     "end_time": "2018-06-07T01:43:44.827166Z",
     "start_time": "2018-06-07T01:43:44.823189Z"
    }
   },
   "outputs": [
    {
     "data": {
      "text/plain": [
       "'*.ipynb'"
      ]
     },
     "execution_count": 38,
     "metadata": {},
     "output_type": "execute_result"
    }
   ],
   "source": [
    "tailthing"
   ]
  },
  {
   "cell_type": "code",
   "execution_count": 39,
   "metadata": {
    "ExecuteTime": {
     "end_time": "2018-06-07T01:44:00.416923Z",
     "start_time": "2018-06-07T01:44:00.291877Z"
    }
   },
   "outputs": [
    {
     "name": "stdout",
     "output_type": "stream",
     "text": [
      "00-Overview.ipynb               09-Extras.ipynb\r\n",
      "01-Tips-and-tricks.ipynb        10-R-stuff.ipynb\r\n",
      "02-NBExtensions.ipynb           11-older-stuff.ipynb\r\n",
      "03-Interactive-Splines.ipynb    12-old-pandas.ipynb\r\n",
      "04-Autoreload.ipynb             Advanced-Notebook-Tricks.ipynb\r\n",
      "05-SQL-Example.ipynb            Basic-Plotting.ipynb\r\n",
      "06-Advanced-Visualization.ipynb Data_Cleaning.ipynb\r\n",
      "07-Some_basics.ipynb            history.ipynb\r\n",
      "08-More_basics.ipynb\r\n"
     ]
    }
   ],
   "source": [
    "!ls {tailthing}"
   ]
  },
  {
   "cell_type": "code",
   "execution_count": 40,
   "metadata": {
    "ExecuteTime": {
     "end_time": "2018-06-07T01:44:22.656902Z",
     "start_time": "2018-06-07T01:44:22.643206Z"
    }
   },
   "outputs": [],
   "source": [
    "output = !ls "
   ]
  },
  {
   "cell_type": "code",
   "execution_count": 41,
   "metadata": {
    "ExecuteTime": {
     "end_time": "2018-06-07T01:44:28.983447Z",
     "start_time": "2018-06-07T01:44:28.978506Z"
    }
   },
   "outputs": [
    {
     "data": {
      "text/plain": [
       "['00-Overview.ipynb',\n",
       " '01-Tips-and-tricks.ipynb',\n",
       " '02-NBExtensions.ipynb',\n",
       " '03-Interactive-Splines.ipynb',\n",
       " '04-Autoreload.ipynb',\n",
       " '05-SQL-Example.ipynb',\n",
       " '06-Advanced-Visualization.ipynb',\n",
       " '07-Some_basics.ipynb',\n",
       " '08-More_basics.ipynb',\n",
       " '09-Extras.ipynb',\n",
       " '10-R-stuff.ipynb',\n",
       " '11-older-stuff.ipynb',\n",
       " '12-old-pandas.ipynb',\n",
       " '3d-example-plot.html',\n",
       " 'Advanced-Notebook-Tricks.ipynb',\n",
       " 'Basic-Plotting.ipynb',\n",
       " 'Data_Cleaning.ipynb',\n",
       " 'ex1.png',\n",
       " 'history.ipynb',\n",
       " 'jupyterlab-example.md',\n",
       " 'pivottablejs.html',\n",
       " 'presidents.sqlite',\n",
       " 'vpfit10',\n",
       " 'vpfit10.2.tar.gz',\n",
       " 'vpfit10.2.tar.gz.1',\n",
       " 'vpfit10.2.tar.gz.2',\n",
       " 'vpfit10.2.tar.gz.3']"
      ]
     },
     "execution_count": 41,
     "metadata": {},
     "output_type": "execute_result"
    }
   ],
   "source": [
    "output"
   ]
  },
  {
   "cell_type": "code",
   "execution_count": 42,
   "metadata": {
    "ExecuteTime": {
     "end_time": "2018-06-07T01:44:35.694940Z",
     "start_time": "2018-06-07T01:44:35.688672Z"
    }
   },
   "outputs": [
    {
     "data": {
      "text/plain": [
       "{'SSH_AGENT_PID': '575',\n",
       " 'TERM_PROGRAM': 'iTerm.app',\n",
       " 'TERM': 'xterm-color',\n",
       " 'SHELL': '/bin/bash',\n",
       " 'initials': 'jbw',\n",
       " 'CLICOLOR': '1',\n",
       " 'TMPDIR': '/var/folders/yk/2rgr0zrj0614jntythcnlyvw0000gn/T/',\n",
       " 'CONDA_SHLVL': '1',\n",
       " 'Apple_PubSub_Socket_Render': '/private/tmp/com.apple.launchd.J09pBRYHDx/Render',\n",
       " 'CONDA_PROMPT_MODIFIER': '(dspy3) ',\n",
       " 'BASH': '/Users/jonathan/.dotfiles',\n",
       " 'TERM_PROGRAM_VERSION': '3.1.6',\n",
       " 'OLDPWD': '/Users/jonathan',\n",
       " 'TERM_SESSION_ID': 'w0t1p0:F8385233-10A6-4744-B11A-9F20617B1326',\n",
       " 'USER': 'jonathan',\n",
       " 'CONDA_EXE': '/Users/jonathan/miniconda3/bin/conda',\n",
       " 'SSH_AUTH_SOCK': '/var/folders/yk/2rgr0zrj0614jntythcnlyvw0000gn/T//ssh-5oUKvrjtAsqE/agent.573',\n",
       " '__CF_USER_TEXT_ENCODING': '0x1F5:0x0:0x0',\n",
       " 'PATH': '/Users/jonathan/miniconda3/envs/dspy3/bin:/Users/jonathan/miniconda3/envs/dspy3/bin:/Users/jonathan/miniconda3/bin:/usr/local/bin:/usr/bin:/bin:/usr/sbin:/sbin:/Library/TeX/texbin:/opt/X11/bin',\n",
       " 'CONDA_PREFIX': '/Users/jonathan/miniconda3/envs/dspy3',\n",
       " 'PWD': '/Users/jonathan/github/jupyter-tips-and-tricks',\n",
       " 'EDITOR': 'vim',\n",
       " 'LANG': 'en_US.UTF-8',\n",
       " 'ITERM_PROFILE': 'Default',\n",
       " 'XPC_FLAGS': '0x0',\n",
       " 'ITERM_ORIG_PS1': '(dspy3) \\\\n# \\\\w\\\\n# \\\\[\\\\e[0;32m\\\\]\\\\h \\\\[\\\\e[0m\\\\]\\\\[\\\\e[0;36m\\\\]${git_branch}\\\\[\\\\e[0;31m\\\\]$git_dirty\\\\[\\\\e[0m\\\\]$ ',\n",
       " 'PS1': '(dspy3) \\\\n# \\\\w\\\\n# \\\\[\\\\e[0;32m\\\\]\\\\h \\\\[\\\\e[0m\\\\]\\\\[\\\\e[0;36m\\\\]${git_branch}\\\\[\\\\e[0;31m\\\\]$git_dirty\\\\[\\\\e[0m\\\\]$ ',\n",
       " 'PS3': '#? ',\n",
       " 'HISTCONTROL': 'ignoreboth',\n",
       " 'PS2': '> ',\n",
       " 'XPC_SERVICE_NAME': '0',\n",
       " 'GITAWAREPROMPT': '/Users/jonathan/.bash/git-aware-prompt',\n",
       " 'SHLVL': '1',\n",
       " 'PS4': '+',\n",
       " 'HOME': '/Users/jonathan',\n",
       " 'COLORFGBG': '15;0',\n",
       " 'ITERM_PREV_PS1': '\\\\[\\x1b]133;D;$?\\x07\\x1b]133;A\\x07\\\\](dspy3) \\\\n# \\\\w\\\\n# \\\\[\\\\e[0;32m\\\\]\\\\h \\\\[\\\\e[0m\\\\]\\\\[\\\\e[0;36m\\\\]${git_branch}\\\\[\\\\e[0;31m\\\\]$git_dirty\\\\[\\\\e[0m\\\\]$ \\\\[\\x1b]133;B\\x07\\\\]',\n",
       " 'ITERM_SESSION_ID': 'w0t1p0:F8385233-10A6-4744-B11A-9F20617B1326',\n",
       " 'CONDA_PYTHON_EXE': '/Users/jonathan/miniconda3/bin/python',\n",
       " 'LOGNAME': 'jonathan',\n",
       " 'CONDA_DEFAULT_ENV': 'dspy3',\n",
       " 'PROMPT_COMMAND': '__bp_precmd_invoke_cmd; echo -ne \"\\\\033]0;${USER}@${HOSTNAME%%.*} ${PWD}\"; echo -ne \"\\\\007\"; __bp_interactive_mode',\n",
       " 'DISPLAY': '/private/tmp/com.apple.launchd.a7eirdr9W4/org.macosforge.xquartz:0',\n",
       " 'COLORTERM': 'truecolor',\n",
       " '_': '/Users/jonathan/miniconda3/envs/dspy3/bin/jupyter',\n",
       " 'JPY_PARENT_PID': '4608',\n",
       " 'PAGER': 'cat',\n",
       " 'GIT_PAGER': 'cat',\n",
       " 'MPLBACKEND': 'module://ipykernel.pylab.backend_inline'}"
      ]
     },
     "execution_count": 42,
     "metadata": {},
     "output_type": "execute_result"
    }
   ],
   "source": [
    "%env "
   ]
  },
  {
   "cell_type": "markdown",
   "metadata": {},
   "source": [
    "## Danger zone\n",
    "\n",
    "    _, _N and _iN"
   ]
  },
  {
   "cell_type": "code",
   "execution_count": 43,
   "metadata": {
    "ExecuteTime": {
     "end_time": "2018-06-07T01:45:37.893116Z",
     "start_time": "2018-06-07T01:45:37.773260Z"
    }
   },
   "outputs": [
    {
     "name": "stdout",
     "output_type": "stream",
     "text": [
      "/Users/jonathan/github/jupyter-tips-and-tricks/notebooks\r\n"
     ]
    }
   ],
   "source": [
    "!pwd"
   ]
  },
  {
   "cell_type": "code",
   "execution_count": 51,
   "metadata": {
    "ExecuteTime": {
     "end_time": "2018-06-07T01:46:40.639670Z",
     "start_time": "2018-06-07T01:46:40.635198Z"
    }
   },
   "outputs": [
    {
     "data": {
      "text/plain": [
       "3"
      ]
     },
     "execution_count": 51,
     "metadata": {},
     "output_type": "execute_result"
    }
   ],
   "source": [
    "a = 3\n",
    "a"
   ]
  },
  {
   "cell_type": "code",
   "execution_count": 53,
   "metadata": {
    "ExecuteTime": {
     "end_time": "2018-06-07T01:46:59.272427Z",
     "start_time": "2018-06-07T01:46:59.267978Z"
    }
   },
   "outputs": [
    {
     "data": {
      "text/plain": [
       "'a = 3\\na'"
      ]
     },
     "execution_count": 53,
     "metadata": {},
     "output_type": "execute_result"
    }
   ],
   "source": [
    "_i51"
   ]
  },
  {
   "cell_type": "code",
   "execution_count": 54,
   "metadata": {
    "ExecuteTime": {
     "end_time": "2018-06-07T01:47:14.778495Z",
     "start_time": "2018-06-07T01:47:14.774763Z"
    }
   },
   "outputs": [
    {
     "data": {
      "text/plain": [
       "3"
      ]
     },
     "execution_count": 54,
     "metadata": {},
     "output_type": "execute_result"
    }
   ],
   "source": [
    "_51"
   ]
  },
  {
   "cell_type": "code",
   "execution_count": 45,
   "metadata": {
    "ExecuteTime": {
     "end_time": "2018-06-07T01:45:51.406677Z",
     "start_time": "2018-06-07T01:45:51.404236Z"
    }
   },
   "outputs": [],
   "source": [
    "b = 5"
   ]
  },
  {
   "cell_type": "code",
   "execution_count": 46,
   "metadata": {
    "ExecuteTime": {
     "end_time": "2018-06-07T01:45:55.477694Z",
     "start_time": "2018-06-07T01:45:55.475049Z"
    }
   },
   "outputs": [],
   "source": [
    "c = a * b "
   ]
  },
  {
   "cell_type": "code",
   "execution_count": null,
   "metadata": {},
   "outputs": [],
   "source": []
  },
  {
   "cell_type": "code",
   "execution_count": 50,
   "metadata": {
    "ExecuteTime": {
     "end_time": "2018-06-07T01:46:36.999622Z",
     "start_time": "2018-06-07T01:46:36.995686Z"
    }
   },
   "outputs": [
    {
     "data": {
      "text/plain": [
       "4"
      ]
     },
     "execution_count": 50,
     "metadata": {},
     "output_type": "execute_result"
    }
   ],
   "source": []
  },
  {
   "cell_type": "code",
   "execution_count": null,
   "metadata": {},
   "outputs": [],
   "source": []
  },
  {
   "cell_type": "code",
   "execution_count": 55,
   "metadata": {
    "ExecuteTime": {
     "end_time": "2018-06-07T01:48:32.793258Z",
     "start_time": "2018-06-07T01:48:32.577631Z"
    }
   },
   "outputs": [],
   "source": [
    "%notebook history.ipynb"
   ]
  },
  {
   "cell_type": "code",
   "execution_count": null,
   "metadata": {},
   "outputs": [],
   "source": []
  },
  {
   "cell_type": "code",
   "execution_count": null,
   "metadata": {},
   "outputs": [],
   "source": []
  },
  {
   "cell_type": "code",
   "execution_count": 39,
   "metadata": {
    "ExecuteTime": {
     "end_time": "2018-02-25T23:12:50.247713Z",
     "start_time": "2018-02-25T23:12:50.065966Z"
    }
   },
   "outputs": [],
   "source": [
    "!subl 01-Tips-and-tricks.ipynb"
   ]
  },
  {
   "cell_type": "code",
   "execution_count": null,
   "metadata": {},
   "outputs": [],
   "source": []
  },
  {
   "cell_type": "code",
   "execution_count": null,
   "metadata": {},
   "outputs": [],
   "source": []
  },
  {
   "cell_type": "code",
   "execution_count": null,
   "metadata": {},
   "outputs": [],
   "source": []
  },
  {
   "cell_type": "code",
   "execution_count": null,
   "metadata": {},
   "outputs": [],
   "source": []
  },
  {
   "cell_type": "code",
   "execution_count": null,
   "metadata": {},
   "outputs": [],
   "source": []
  }
 ],
 "metadata": {
  "anaconda-cloud": {},
  "hide_input": false,
  "kernelspec": {
   "display_name": "dspy3",
   "language": "python",
   "name": "dspy3"
  },
  "language_info": {
   "codemirror_mode": {
    "name": "ipython",
    "version": 3
   },
   "file_extension": ".py",
   "mimetype": "text/x-python",
   "name": "python",
   "nbconvert_exporter": "python",
   "pygments_lexer": "ipython3",
   "version": "3.6.5"
  },
  "toc": {
   "base_numbering": 1,
   "nav_menu": {
    "height": "208px",
    "width": "252px"
   },
   "number_sections": true,
   "sideBar": true,
   "skip_h1_title": false,
   "title_cell": "Table of Contents",
   "title_sidebar": "Contents",
   "toc_cell": false,
   "toc_position": {},
   "toc_section_display": "block",
   "toc_window_display": false
  },
  "varInspector": {
   "cols": {
    "lenName": 16,
    "lenType": 16,
    "lenVar": 40
   },
   "kernels_config": {
    "python": {
     "delete_cmd_postfix": "",
     "delete_cmd_prefix": "del ",
     "library": "var_list.py",
     "varRefreshCmd": "print(var_dic_list())"
    },
    "r": {
     "delete_cmd_postfix": ") ",
     "delete_cmd_prefix": "rm(",
     "library": "var_list.r",
     "varRefreshCmd": "cat(var_dic_list()) "
    }
   },
   "types_to_exclude": [
    "module",
    "function",
    "builtin_function_or_method",
    "instance",
    "_Feature"
   ],
   "window_display": false
  },
  "widgets": {
   "state": {
    "1f2b33bdbf62410e92177b1ae2e22d0e": {
     "views": [
      {
       "cell_index": 9
      }
     ]
    }
   },
   "version": "1.2.0"
  }
 },
 "nbformat": 4,
 "nbformat_minor": 2
}
