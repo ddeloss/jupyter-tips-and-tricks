{
 "cells": [
  {
   "cell_type": "code",
   "execution_count": 2,
   "metadata": {
    "collapsed": true
   },
   "outputs": [],
   "source": [
    "# Add this to python2 code to make life easier\n",
    "from __future__ import absolute_import, division, print_function"
   ]
  },
  {
   "cell_type": "code",
   "execution_count": 1,
   "metadata": {
    "ExecuteTime": {
     "end_time": "2017-06-09T00:38:10.563403Z",
     "start_time": "2017-06-09T00:38:10.135332Z"
    },
    "collapsed": true
   },
   "outputs": [],
   "source": [
    "import numpy as np\n",
    "\n",
    "# Access numpy methods by using np."
   ]
  },
  {
   "cell_type": "code",
   "execution_count": 2,
   "metadata": {
    "ExecuteTime": {
     "end_time": "2017-06-09T00:38:11.141817Z",
     "start_time": "2017-06-09T00:38:11.139062Z"
    }
   },
   "outputs": [],
   "source": [
    "# don't do:\n",
    "# from numpy import *\n",
    "# Lots of reasons, but simple example: "
   ]
  },
  {
   "cell_type": "code",
   "execution_count": 3,
   "metadata": {
    "ExecuteTime": {
     "end_time": "2017-06-09T00:38:12.134557Z",
     "start_time": "2017-06-09T00:38:12.129524Z"
    },
    "collapsed": true
   },
   "outputs": [],
   "source": [
    "x = np.random.randn(2, 5)"
   ]
  },
  {
   "cell_type": "code",
   "execution_count": 4,
   "metadata": {
    "ExecuteTime": {
     "end_time": "2017-06-09T00:38:12.614142Z",
     "start_time": "2017-06-09T00:38:12.599503Z"
    }
   },
   "outputs": [
    {
     "data": {
      "text/plain": [
       "array([[ 0.11328165, -0.08935192, -0.75390716,  0.18077057, -0.3932194 ],\n",
       "       [-1.63988565,  0.221739  ,  0.92132474, -0.26380292,  0.72807697]])"
      ]
     },
     "execution_count": 4,
     "metadata": {},
     "output_type": "execute_result"
    }
   ],
   "source": [
    "x"
   ]
  },
  {
   "cell_type": "code",
   "execution_count": 5,
   "metadata": {
    "ExecuteTime": {
     "end_time": "2017-06-09T00:38:14.978532Z",
     "start_time": "2017-06-09T00:38:14.824151Z"
    }
   },
   "outputs": [
    {
     "ename": "ValueError",
     "evalue": "The truth value of an array with more than one element is ambiguous. Use a.any() or a.all()",
     "output_type": "error",
     "traceback": [
      "\u001b[0;31m---------------------------------------------------------------------\u001b[0m",
      "\u001b[0;31mValueError\u001b[0m                          Traceback (most recent call last)",
      "\u001b[0;32m<ipython-input-5-0fa060634346>\u001b[0m in \u001b[0;36m<module>\u001b[0;34m()\u001b[0m\n\u001b[1;32m      1\u001b[0m \u001b[0;31m# Standard python max\u001b[0m\u001b[0;34m\u001b[0m\u001b[0;34m\u001b[0m\u001b[0m\n\u001b[0;32m----> 2\u001b[0;31m \u001b[0mmax\u001b[0m\u001b[0;34m(\u001b[0m\u001b[0mx\u001b[0m\u001b[0;34m)\u001b[0m\u001b[0;34m\u001b[0m\u001b[0m\n\u001b[0m",
      "\u001b[0;31mValueError\u001b[0m: The truth value of an array with more than one element is ambiguous. Use a.any() or a.all()"
     ]
    }
   ],
   "source": [
    "# Standard python max\n",
    "max(x)"
   ]
  },
  {
   "cell_type": "code",
   "execution_count": 6,
   "metadata": {
    "ExecuteTime": {
     "end_time": "2017-06-09T00:38:17.632010Z",
     "start_time": "2017-06-09T00:38:17.627237Z"
    }
   },
   "outputs": [
    {
     "data": {
      "text/plain": [
       "0.9213247380445071"
      ]
     },
     "execution_count": 6,
     "metadata": {},
     "output_type": "execute_result"
    }
   ],
   "source": [
    "# Numpy max\n",
    "np.max(x)"
   ]
  },
  {
   "cell_type": "markdown",
   "metadata": {},
   "source": [
    "# Keyboard shortcuts\n",
    "\n",
    "For help, `ESC` + `h`"
   ]
  },
  {
   "cell_type": "code",
   "execution_count": 8,
   "metadata": {
    "collapsed": true
   },
   "outputs": [],
   "source": [
    "# in select mode, shift j/k (to select multiple cells at once)\n",
    "# split cell with ctrl shift -\n",
    "# merge with shift M"
   ]
  },
  {
   "cell_type": "code",
   "execution_count": null,
   "metadata": {
    "collapsed": true
   },
   "outputs": [],
   "source": [
    "first = 1"
   ]
  },
  {
   "cell_type": "code",
   "execution_count": null,
   "metadata": {
    "collapsed": true
   },
   "outputs": [],
   "source": [
    "second = 2"
   ]
  },
  {
   "cell_type": "code",
   "execution_count": 9,
   "metadata": {
    "collapsed": true
   },
   "outputs": [],
   "source": [
    "third = 3"
   ]
  },
  {
   "cell_type": "code",
   "execution_count": null,
   "metadata": {
    "collapsed": true
   },
   "outputs": [],
   "source": [
    "# Indent\n",
    "# Cmd + [ \n",
    "# Cmd + ]\n",
    "\n",
    "# Comment\n",
    "# Cmd + /"
   ]
  },
  {
   "cell_type": "code",
   "execution_count": 7,
   "metadata": {
    "ExecuteTime": {
     "end_time": "2017-06-09T00:39:18.604160Z",
     "start_time": "2017-06-09T00:39:18.601249Z"
    },
    "collapsed": true
   },
   "outputs": [],
   "source": [
    "ex_dict = {}"
   ]
  },
  {
   "cell_type": "code",
   "execution_count": 8,
   "metadata": {
    "ExecuteTime": {
     "end_time": "2017-06-09T00:39:19.406240Z",
     "start_time": "2017-06-09T00:39:19.397300Z"
    }
   },
   "outputs": [],
   "source": [
    "# Indent/dedent/comment\n",
    "for _ in range(5):\n",
    "    ex_dict[\"one\"] = 1\n",
    "    ex_dict[\"two\"] = 2\n",
    "    ex_dict[\"three\"] = 3\n",
    "    ex_dict[\"four\"] = 4"
   ]
  },
  {
   "cell_type": "code",
   "execution_count": 9,
   "metadata": {
    "ExecuteTime": {
     "end_time": "2017-06-09T00:39:20.363718Z",
     "start_time": "2017-06-09T00:39:20.358929Z"
    }
   },
   "outputs": [
    {
     "data": {
      "text/plain": [
       "{'four': 4, 'one': 1, 'three': 3, 'two': 2}"
      ]
     },
     "execution_count": 9,
     "metadata": {},
     "output_type": "execute_result"
    }
   ],
   "source": [
    "ex_dict"
   ]
  },
  {
   "cell_type": "markdown",
   "metadata": {
    "collapsed": true
   },
   "source": [
    "## Multicursor magic\n",
    "\n",
    "1. Hold down option, click and drag.\n",
    "2. Click while holding CMD"
   ]
  },
  {
   "cell_type": "code",
   "execution_count": null,
   "metadata": {},
   "outputs": [],
   "source": [
    "ex_dict[\"one_better_name\"] = 1.\n",
    "ex_dict[\"two_better_name \"] = 2.  \n",
    "ex_dict[\"three_better_name \"] = 3.\n",
    "ex_dict[\"four_better_name \"] = 4."
   ]
  },
  {
   "cell_type": "markdown",
   "metadata": {},
   "source": [
    "### Different heading levels\n",
    "\n",
    "With text and $\\LaTeX$ support."
   ]
  },
  {
   "cell_type": "markdown",
   "metadata": {},
   "source": [
    "You can also get monospaced fonts by indenting 4 spaces:\n",
    "\n",
    "    mkdir toc\n",
    "    cd toc"
   ]
  },
  {
   "cell_type": "markdown",
   "metadata": {},
   "source": [
    "Wrap with triple-backticks and language:\n",
    "\n",
    "```bash\n",
    "mkdir toc\n",
    "cd toc\n",
    "wget https://repo.continuum.io/miniconda/Miniconda3-latest-MacOSX-x86_64.sh\n",
    "```"
   ]
  },
  {
   "cell_type": "markdown",
   "metadata": {
    "collapsed": true
   },
   "source": [
    "```SQL\n",
    "SELECT first_name,\n",
    "       last_name,\n",
    "       year_of_birth\n",
    "FROM presidents\n",
    "WHERE year_of_birth > 1800;\n",
    "```"
   ]
  },
  {
   "cell_type": "code",
   "execution_count": 10,
   "metadata": {
    "ExecuteTime": {
     "end_time": "2017-06-09T00:41:04.264182Z",
     "start_time": "2017-06-09T00:41:04.124246Z"
    }
   },
   "outputs": [
    {
     "name": "stdout",
     "output_type": "stream",
     "text": [
      "00-Introduction-to-Jupyter-Notebooks.ipynb\r\n",
      "00-Overview.ipynb\r\n",
      "01-Tips-and-tricks.ipynb\r\n",
      "02-Visualization-and-code-organization.ipynb\r\n",
      "03-Pandas-and-Plotting.ipynb\r\n",
      "04-SQL-Example.ipynb\r\n",
      "05-interactive-splines.ipynb\r\n",
      "06-R-stuff.ipynb\r\n",
      "07-Some_basics.ipynb\r\n",
      "08-More_basics.ipynb\r\n",
      "09-Extras.ipynb\r\n",
      "Data_Cleaning.ipynb\r\n",
      "ex1.png\r\n",
      "pivottablejs.html\r\n",
      "presidents.sqlite\r\n"
     ]
    }
   ],
   "source": [
    "ls"
   ]
  },
  {
   "cell_type": "markdown",
   "metadata": {},
   "source": [
    "Prepending with a \"!\" is a shell command."
   ]
  },
  {
   "cell_type": "code",
   "execution_count": 11,
   "metadata": {
    "ExecuteTime": {
     "end_time": "2017-06-09T00:41:36.082743Z",
     "start_time": "2017-06-09T00:41:36.066979Z"
    },
    "collapsed": true
   },
   "outputs": [],
   "source": [
    "mylist = !ls "
   ]
  },
  {
   "cell_type": "code",
   "execution_count": 12,
   "metadata": {
    "ExecuteTime": {
     "end_time": "2017-06-09T00:41:36.817163Z",
     "start_time": "2017-06-09T00:41:36.810685Z"
    }
   },
   "outputs": [
    {
     "data": {
      "text/plain": [
       "['00-Introduction-to-Jupyter-Notebooks.ipynb',\n",
       " '00-Overview.ipynb',\n",
       " '01-Tips-and-tricks.ipynb',\n",
       " '02-Visualization-and-code-organization.ipynb',\n",
       " '03-Pandas-and-Plotting.ipynb',\n",
       " '04-SQL-Example.ipynb',\n",
       " '05-interactive-splines.ipynb',\n",
       " '06-R-stuff.ipynb',\n",
       " 'basics.ipynb',\n",
       " 'basics.ipynb',\n",
       " '09-Extras.ipynb',\n",
       " 'Cleaning.ipynb',\n",
       " 'ex1.png',\n",
       " 'pivottablejs.html',\n",
       " 'presidents.sqlite']"
      ]
     },
     "execution_count": 12,
     "metadata": {},
     "output_type": "execute_result"
    }
   ],
   "source": [
    "[x.split('_')[-1] for x in mylist]"
   ]
  },
  {
   "cell_type": "code",
   "execution_count": 13,
   "metadata": {
    "ExecuteTime": {
     "end_time": "2017-06-09T00:41:57.422967Z",
     "start_time": "2017-06-09T00:41:57.266827Z"
    }
   },
   "outputs": [
    {
     "name": "stdout",
     "output_type": "stream",
     "text": [
      "/Users/jonathan/github/jupyter-tips-and-tricks/deliver\n",
      "00-Introduction-to-Jupyter-Notebooks\n",
      "00-Overview\n",
      "01-Tips-and-tricks\n",
      "02-Visualization-and-code-organization\n",
      "03-Pandas-and-Plotting\n",
      "04-SQL-Example\n",
      "05-interactive-splines\n",
      "06-R-stuff\n",
      "07-Some_basics\n",
      "08-More_basics\n",
      "09-Extras\n",
      "Data_Cleaning\n",
      "\n",
      "break\n",
      "\n",
      "Introduction\n",
      "Overview.ipynb\n",
      "Tips\n",
      "Visualization\n",
      "Pandas\n",
      "SQL\n",
      "interactive\n",
      "R\n",
      "Some_basics.ipynb\n",
      "More_basics.ipynb\n",
      "Extras.ipynb\n",
      "\n"
     ]
    }
   ],
   "source": [
    "%%bash\n",
    "pwd \n",
    "for i in *.ipynb\n",
    "do\n",
    "    echo $i | awk -F . '{print $1}'\n",
    "done\n",
    "\n",
    "echo\n",
    "echo \"break\"\n",
    "echo\n",
    "\n",
    "for i in *.ipynb\n",
    "do\n",
    "    echo $i | awk -F - '{print $2}'\n",
    "done\n"
   ]
  },
  {
   "cell_type": "markdown",
   "metadata": {},
   "source": [
    "# Tab"
   ]
  },
  {
   "cell_type": "code",
   "execution_count": null,
   "metadata": {},
   "outputs": [],
   "source": [
    "np.random."
   ]
  },
  {
   "cell_type": "markdown",
   "metadata": {},
   "source": [
    "## shift-tab"
   ]
  },
  {
   "cell_type": "code",
   "execution_count": null,
   "metadata": {},
   "outputs": [],
   "source": [
    "np.linspace()"
   ]
  },
  {
   "cell_type": "markdown",
   "metadata": {},
   "source": [
    "## shift-tab-tab"
   ]
  },
  {
   "cell_type": "code",
   "execution_count": null,
   "metadata": {},
   "outputs": [],
   "source": [
    "np.linspace()"
   ]
  },
  {
   "cell_type": "markdown",
   "metadata": {},
   "source": [
    "## shift-tab-tab-tab-tab"
   ]
  },
  {
   "cell_type": "code",
   "execution_count": 14,
   "metadata": {
    "ExecuteTime": {
     "end_time": "2017-06-09T00:43:20.949189Z",
     "start_time": "2017-06-09T00:43:20.938425Z"
    }
   },
   "outputs": [
    {
     "data": {
      "text/plain": [
       "array([  1.        ,   1.49494949,   1.98989899,   2.48484848,\n",
       "         2.97979798,   3.47474747,   3.96969697,   4.46464646,\n",
       "         4.95959596,   5.45454545,   5.94949495,   6.44444444,\n",
       "         6.93939394,   7.43434343,   7.92929293,   8.42424242,\n",
       "         8.91919192,   9.41414141,   9.90909091,  10.4040404 ,\n",
       "        10.8989899 ,  11.39393939,  11.88888889,  12.38383838,\n",
       "        12.87878788,  13.37373737,  13.86868687,  14.36363636,\n",
       "        14.85858586,  15.35353535,  15.84848485,  16.34343434,\n",
       "        16.83838384,  17.33333333,  17.82828283,  18.32323232,\n",
       "        18.81818182,  19.31313131,  19.80808081,  20.3030303 ,\n",
       "        20.7979798 ,  21.29292929,  21.78787879,  22.28282828,\n",
       "        22.77777778,  23.27272727,  23.76767677,  24.26262626,\n",
       "        24.75757576,  25.25252525,  25.74747475,  26.24242424,\n",
       "        26.73737374,  27.23232323,  27.72727273,  28.22222222,\n",
       "        28.71717172,  29.21212121,  29.70707071,  30.2020202 ,\n",
       "        30.6969697 ,  31.19191919,  31.68686869,  32.18181818,\n",
       "        32.67676768,  33.17171717,  33.66666667,  34.16161616,\n",
       "        34.65656566,  35.15151515,  35.64646465,  36.14141414,\n",
       "        36.63636364,  37.13131313,  37.62626263,  38.12121212,\n",
       "        38.61616162,  39.11111111,  39.60606061,  40.1010101 ,\n",
       "        40.5959596 ,  41.09090909,  41.58585859,  42.08080808,\n",
       "        42.57575758,  43.07070707,  43.56565657,  44.06060606,\n",
       "        44.55555556,  45.05050505,  45.54545455,  46.04040404,\n",
       "        46.53535354,  47.03030303,  47.52525253,  48.02020202,\n",
       "        48.51515152,  49.01010101,  49.50505051,  50.        ])"
      ]
     },
     "execution_count": 14,
     "metadata": {},
     "output_type": "execute_result"
    }
   ],
   "source": [
    "np.linspace(1, 50, num=100, )"
   ]
  },
  {
   "cell_type": "markdown",
   "metadata": {},
   "source": [
    "## ?"
   ]
  },
  {
   "cell_type": "code",
   "execution_count": 15,
   "metadata": {
    "ExecuteTime": {
     "end_time": "2017-06-09T00:43:24.007198Z",
     "start_time": "2017-06-09T00:43:23.994531Z"
    }
   },
   "outputs": [],
   "source": [
    "np.linspace?"
   ]
  },
  {
   "cell_type": "markdown",
   "metadata": {},
   "source": [
    "## ??"
   ]
  },
  {
   "cell_type": "code",
   "execution_count": 16,
   "metadata": {
    "ExecuteTime": {
     "end_time": "2017-06-09T00:43:34.207318Z",
     "start_time": "2017-06-09T00:43:34.186828Z"
    }
   },
   "outputs": [],
   "source": [
    "np.linspace??"
   ]
  },
  {
   "cell_type": "markdown",
   "metadata": {},
   "source": [
    "## It works for everything"
   ]
  },
  {
   "cell_type": "code",
   "execution_count": 17,
   "metadata": {
    "ExecuteTime": {
     "end_time": "2017-06-09T00:43:50.810104Z",
     "start_time": "2017-06-09T00:43:50.803829Z"
    },
    "collapsed": true
   },
   "outputs": [],
   "source": [
    "def silly_function(xval):\n",
    "    \"\"\"Takes a value and returns the absolute value.\"\"\"\n",
    "    xval_sq = xval ** 2.0\n",
    "    1 + 50\n",
    "    xval_abs = np.sqrt(xval_sq)\n",
    "    return xval_abs"
   ]
  },
  {
   "cell_type": "code",
   "execution_count": null,
   "metadata": {
    "ExecuteTime": {
     "end_time": "2017-06-09T00:43:51.107892Z",
     "start_time": "2017-06-09T00:43:51.099992Z"
    }
   },
   "outputs": [],
   "source": [
    "silly_function()"
   ]
  },
  {
   "cell_type": "code",
   "execution_count": 33,
   "metadata": {
    "collapsed": true
   },
   "outputs": [],
   "source": [
    "silly_function?"
   ]
  },
  {
   "cell_type": "code",
   "execution_count": 34,
   "metadata": {
    "collapsed": true
   },
   "outputs": [],
   "source": [
    "silly_function??"
   ]
  },
  {
   "cell_type": "code",
   "execution_count": null,
   "metadata": {
    "collapsed": true
   },
   "outputs": [],
   "source": []
  }
 ],
 "metadata": {
  "anaconda-cloud": {},
  "kernelspec": {
   "display_name": "py3",
   "language": "python",
   "name": "py3"
  },
  "language_info": {
   "codemirror_mode": {
    "name": "ipython",
    "version": 3
   },
   "file_extension": ".py",
   "mimetype": "text/x-python",
   "name": "python",
   "nbconvert_exporter": "python",
   "pygments_lexer": "ipython3",
   "version": "3.6.1"
  },
  "toc": {
   "colors": {
    "hover_highlight": "#DAA520",
    "running_highlight": "#FF0000",
    "selected_highlight": "#FFD700"
   },
   "moveMenuLeft": true,
   "nav_menu": {
    "height": "196px",
    "width": "252px"
   },
   "navigate_menu": true,
   "number_sections": true,
   "sideBar": true,
   "threshold": 4,
   "toc_cell": false,
   "toc_section_display": "block",
   "toc_window_display": false,
   "widenNotebook": false
  },
  "widgets": {
   "state": {
    "1f2b33bdbf62410e92177b1ae2e22d0e": {
     "views": [
      {
       "cell_index": 9
      }
     ]
    }
   },
   "version": "1.2.0"
  }
 },
 "nbformat": 4,
 "nbformat_minor": 1
}
