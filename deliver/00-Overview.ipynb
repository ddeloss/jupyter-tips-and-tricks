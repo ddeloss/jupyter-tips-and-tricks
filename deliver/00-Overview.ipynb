{
 "cells": [
  {
   "cell_type": "markdown",
   "metadata": {},
   "source": [
    "# Jupyter Notebook Tips and Tricks\n",
    "\n",
    "By: [Jonathan Whitmore](http://jonathanwhitmore.com/) -- Silicon Valley Data Science\n",
    "\n",
    " - Email: [jbwhit@gmail.com](mailto:jbwhit@gmail.com)\n",
    " - Twitter: [@jbwhitmore](https://twitter.com/jbwhitmore)\n",
    " - **LinkedIn**: [Add me w/ 1 line message about Insight](https://www.linkedin.com/in/jonathanbwhitmore)\n",
    "\n",
    "All notebooks available: https://github.com/jbwhit/jupyter-tips-and-tricks"
   ]
  },
  {
   "cell_type": "markdown",
   "metadata": {},
   "source": [
    "### Themes\n",
    "\n",
    " - Don't try to take notes, just let this wash over you.\n",
    " - Workflow matters\n",
    "  - Not knowing what's possible is a cognitive blindspot.\n",
    "  - Take time to learn your tools -- the investment will pay dividends.\n",
    "  - Make repeated actions as automatic as possible\n",
    "  - there are `csv` parsers, don't roll your own\n"
   ]
  },
  {
   "cell_type": "markdown",
   "metadata": {},
   "source": [
    "# Resources\n",
    "\n",
    "Throughout (worth taking a look) and here: \n",
    "\n",
    "  - Python (anything norvig)\n",
    "   - Good if you are a beginner or think yourself a master: https://www.udacity.com/course/design-of-computer-programs--cs212\n",
    "    "
   ]
  },
  {
   "cell_type": "markdown",
   "metadata": {},
   "source": [
    "## Best practices\n",
    "\n",
    "Let's start with pep8 (https://www.python.org/dev/peps/pep-0008/)\n",
    "\n",
    "> Imports should be grouped in the following order:\n",
    "\n",
    "> - standard library imports\n",
    "> - related third party imports\n",
    "> - local application/library specific imports\n",
    "\n",
    "> You should put a blank line between each group of imports.\n",
    "Put any relevant __all__ specification after the imports."
   ]
  },
  {
   "cell_type": "markdown",
   "metadata": {
    "collapsed": true
   },
   "source": [
    "## Version Control\n",
    "\n",
    "`nbdime`: https://nbdime.readthedocs.io/en/latest/"
   ]
  },
  {
   "cell_type": "markdown",
   "metadata": {},
   "source": [
    "## Pandas\n",
    "\n",
    "If you've never used `pandas` before, it's amazingly useful, and at times frustrating.\n",
    "\n",
    "Recommended links: \n",
    "\n",
    " - [Jake Vanderplas Python Data Science Handbook](https://github.com/jakevdp/PythonDataScienceHandbook)\n",
    " - http://pandas.pydata.org/pandas-docs/stable/gotchas.html\n",
    " - https://github.com/dwhitena/blog-content/blob/master/python_pitfalls/Python-Pitfalls.ipynb\n",
    " - http://pandas.pydata.org/pandas-docs/stable/cookbook.html\n",
    " - http://gregreda.com/2013/10/26/intro-to-pandas-data-structures/\n",
    " - http://tomaugspurger.github.io/modern-1.html\n",
    "\n",
    "\n",
    "High level tip\n",
    "\n",
    " - try to represent data in the proper format\n",
    "   - floats as floats; ints as ints; etc. \n",
    "   - Especially if you have dates, or timestamps, or datetimestamps, keep them in that format. \n",
    "      \n",
    "This pdf [Tidy Data](http://vita.had.co.nz/papers/tidy-data.pdf) by Hadley Wickham is an excellent read with a lot that relates to data analysis in any language."
   ]
  },
  {
   "cell_type": "code",
   "execution_count": null,
   "metadata": {
    "collapsed": true
   },
   "outputs": [],
   "source": []
  }
 ],
 "metadata": {
  "anaconda-cloud": {},
  "kernelspec": {
   "display_name": "insightpy",
   "language": "python",
   "name": "insightpy"
  },
  "language_info": {
   "codemirror_mode": {
    "name": "ipython",
    "version": 3
   },
   "file_extension": ".py",
   "mimetype": "text/x-python",
   "name": "python",
   "nbconvert_exporter": "python",
   "pygments_lexer": "ipython3",
   "version": "3.6.2"
  },
  "toc": {
   "colors": {
    "hover_highlight": "#DAA520",
    "navigate_num": "#000000",
    "navigate_text": "#333333",
    "running_highlight": "#FF0000",
    "selected_highlight": "#FFD700",
    "sidebar_border": "#EEEEEE",
    "wrapper_background": "#FFFFFF"
   },
   "moveMenuLeft": true,
   "nav_menu": {
    "height": "86px",
    "width": "252px"
   },
   "navigate_menu": true,
   "number_sections": true,
   "sideBar": true,
   "threshold": 4,
   "toc_cell": false,
   "toc_section_display": "none",
   "toc_window_display": false,
   "widenNotebook": false
  }
 },
 "nbformat": 4,
 "nbformat_minor": 1
}
